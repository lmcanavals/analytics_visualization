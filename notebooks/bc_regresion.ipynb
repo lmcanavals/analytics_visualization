{
  "nbformat": 4,
  "nbformat_minor": 0,
  "metadata": {
    "colab": {
      "name": "bc_regresion.ipynb",
      "provenance": [],
      "authorship_tag": "ABX9TyPcCjtO9zZdPJETbbNhwWEX",
      "include_colab_link": true
    },
    "kernelspec": {
      "name": "python3",
      "display_name": "Python 3"
    }
  },
  "cells": [
    {
      "cell_type": "markdown",
      "metadata": {
        "id": "view-in-github",
        "colab_type": "text"
      },
      "source": [
        "<a href=\"https://colab.research.google.com/github/lmcanavals/analytics_visualization/blob/main/notebooks/bc_regresion.ipynb\" target=\"_parent\"><img src=\"https://colab.research.google.com/assets/colab-badge.svg\" alt=\"Open In Colab\"/></a>"
      ]
    },
    {
      "cell_type": "code",
      "metadata": {
        "colab": {
          "base_uri": "https://localhost:8080/"
        },
        "id": "8TFByNAIblPJ",
        "outputId": "bd4f8121-d68d-453e-a89e-2b0954618c20"
      },
      "source": [
        "!pip install pygam"
      ],
      "execution_count": null,
      "outputs": [
        {
          "output_type": "stream",
          "text": [
            "Requirement already satisfied: pygam in /usr/local/lib/python3.6/dist-packages (0.8.0)\n",
            "Requirement already satisfied: progressbar2 in /usr/local/lib/python3.6/dist-packages (from pygam) (3.38.0)\n",
            "Requirement already satisfied: future in /usr/local/lib/python3.6/dist-packages (from pygam) (0.16.0)\n",
            "Requirement already satisfied: numpy in /usr/local/lib/python3.6/dist-packages (from pygam) (1.19.5)\n",
            "Requirement already satisfied: scipy in /usr/local/lib/python3.6/dist-packages (from pygam) (1.4.1)\n",
            "Requirement already satisfied: six in /usr/local/lib/python3.6/dist-packages (from progressbar2->pygam) (1.15.0)\n",
            "Requirement already satisfied: python-utils>=2.3.0 in /usr/local/lib/python3.6/dist-packages (from progressbar2->pygam) (2.5.6)\n"
          ],
          "name": "stdout"
        }
      ]
    },
    {
      "cell_type": "code",
      "metadata": {
        "colab": {
          "base_uri": "https://localhost:8080/"
        },
        "id": "G3CN3_kTbqnL",
        "outputId": "c2459e7b-b771-4056-9342-608512984c3e"
      },
      "source": [
        "!pip install dmba"
      ],
      "execution_count": null,
      "outputs": [
        {
          "output_type": "stream",
          "text": [
            "Requirement already satisfied: dmba in /usr/local/lib/python3.6/dist-packages (0.0.14)\n"
          ],
          "name": "stdout"
        }
      ]
    },
    {
      "cell_type": "code",
      "metadata": {
        "id": "gX89JBIWY5oF"
      },
      "source": [
        "import pandas as pd\n",
        "import numpy as np\n",
        "from sklearn.metrics import r2_score, mean_squared_error\n",
        "from sklearn.linear_model import LinearRegression\n",
        "\"\"\"\n",
        "import statsmodels.api as sm\n",
        "import statsmodels.formula.api as smf\n",
        "from statsmodels.stats.outliers_influence import OLSInfluence\n",
        "\n",
        "from pygam import LinearGAM, s, l\n",
        "from pygam.datasets import wage\n",
        "\n",
        "from dmba import stepwise_selection\n",
        "from dmba import AIC_score\"\"\"\n",
        "\n",
        "import seaborn as sns\n",
        "import matplotlib.pyplot as plt"
      ],
      "execution_count": null,
      "outputs": []
    },
    {
      "cell_type": "code",
      "metadata": {
        "id": "iaJQ7S7WRWuZ"
      },
      "source": [
        "BASE_URL    = \"https://raw.githubusercontent.com/lmcanavals/avd/main/data/\"\n",
        "LUNG_CSV    = \"LungDisease.csv\"\n",
        "HOUSE_CSV   = \"house_sales.csv\""
      ],
      "execution_count": null,
      "outputs": []
    },
    {
      "cell_type": "code",
      "metadata": {
        "id": "YIj1MORXYxoR"
      },
      "source": [
        "file = BASE_URL + LUNG_CSV\n",
        "!curl -O $file 2>/dev/null\n",
        "file = BASE_URL + HOUSE_CSV\n",
        "!curl -O $file 2>/dev/null"
      ],
      "execution_count": null,
      "outputs": []
    },
    {
      "cell_type": "code",
      "metadata": {
        "colab": {
          "base_uri": "https://localhost:8080/"
        },
        "id": "yfwENMcwbx3t",
        "outputId": "80bc8691-6bed-4d73-e08f-5e0e9c974300"
      },
      "source": [
        "!ls -l"
      ],
      "execution_count": null,
      "outputs": [
        {
          "output_type": "stream",
          "text": [
            "total 3472\n",
            "-rw-r--r-- 1 root root 3545162 Feb 20 01:14 house_sales.csv\n",
            "-rw-r--r-- 1 root root     832 Feb 20 01:14 LungDisease.csv\n",
            "drwxr-xr-x 1 root root    4096 Feb 16 16:35 sample_data\n"
          ],
          "name": "stdout"
        }
      ]
    },
    {
      "cell_type": "code",
      "metadata": {
        "colab": {
          "base_uri": "https://localhost:8080/",
          "height": 206
        },
        "id": "QQxn82_gbzcC",
        "outputId": "bbd3219d-8ab2-4fb8-be72-0b5c5b08a82f"
      },
      "source": [
        "lung = pd.read_csv(LUNG_CSV)\n",
        "\n",
        "lung.head()"
      ],
      "execution_count": null,
      "outputs": [
        {
          "output_type": "execute_result",
          "data": {
            "text/html": [
              "<div>\n",
              "<style scoped>\n",
              "    .dataframe tbody tr th:only-of-type {\n",
              "        vertical-align: middle;\n",
              "    }\n",
              "\n",
              "    .dataframe tbody tr th {\n",
              "        vertical-align: top;\n",
              "    }\n",
              "\n",
              "    .dataframe thead th {\n",
              "        text-align: right;\n",
              "    }\n",
              "</style>\n",
              "<table border=\"1\" class=\"dataframe\">\n",
              "  <thead>\n",
              "    <tr style=\"text-align: right;\">\n",
              "      <th></th>\n",
              "      <th>PEFR</th>\n",
              "      <th>Exposure</th>\n",
              "    </tr>\n",
              "  </thead>\n",
              "  <tbody>\n",
              "    <tr>\n",
              "      <th>0</th>\n",
              "      <td>390</td>\n",
              "      <td>0</td>\n",
              "    </tr>\n",
              "    <tr>\n",
              "      <th>1</th>\n",
              "      <td>410</td>\n",
              "      <td>0</td>\n",
              "    </tr>\n",
              "    <tr>\n",
              "      <th>2</th>\n",
              "      <td>430</td>\n",
              "      <td>0</td>\n",
              "    </tr>\n",
              "    <tr>\n",
              "      <th>3</th>\n",
              "      <td>460</td>\n",
              "      <td>0</td>\n",
              "    </tr>\n",
              "    <tr>\n",
              "      <th>4</th>\n",
              "      <td>420</td>\n",
              "      <td>1</td>\n",
              "    </tr>\n",
              "  </tbody>\n",
              "</table>\n",
              "</div>"
            ],
            "text/plain": [
              "   PEFR  Exposure\n",
              "0   390         0\n",
              "1   410         0\n",
              "2   430         0\n",
              "3   460         0\n",
              "4   420         1"
            ]
          },
          "metadata": {
            "tags": []
          },
          "execution_count": 7
        }
      ]
    },
    {
      "cell_type": "code",
      "metadata": {
        "colab": {
          "base_uri": "https://localhost:8080/",
          "height": 297
        },
        "id": "H4UNgnrEb_wC",
        "outputId": "e616c67a-ab0f-4bc1-9fc4-caadef587bc7"
      },
      "source": [
        "lung.plot.scatter(x='Exposure', y='PEFR')\n",
        "\n",
        "plt.tight_layout()\n",
        "plt.show()"
      ],
      "execution_count": null,
      "outputs": [
        {
          "output_type": "display_data",
          "data": {
            "image/png": "[encoded data removed]",
            "text/plain": [
              "<Figure size 432x288 with 1 Axes>"
            ]
          },
          "metadata": {
            "tags": [],
            "needs_background": "light"
          }
        }
      ]
    },
    {
      "cell_type": "code",
      "metadata": {
        "colab": {
          "base_uri": "https://localhost:8080/"
        },
        "id": "fEYoQCWCcM57",
        "outputId": "786e36c0-8f7d-429d-8ae1-96b0ffb3f721"
      },
      "source": [
        "predictors = ['Exposure']\n",
        "outcome = 'PEFR'\n",
        "\n",
        "model = LinearRegression()\n",
        "model.fit(lung[predictors], lung[outcome])\n",
        "\n",
        "print(f'Intercept: {model.intercept_:.3f}')\n",
        "print(f'Coefficient Exposure: {model.coef_[0]:.3f}')"
      ],
      "execution_count": null,
      "outputs": [
        {
          "output_type": "stream",
          "text": [
            "Intercept: 424.583\n",
            "Coefficient Exposure: -4.185\n"
          ],
          "name": "stdout"
        }
      ]
    },
    {
      "cell_type": "code",
      "metadata": {
        "colab": {
          "base_uri": "https://localhost:8080/",
          "height": 297
        },
        "id": "UA_5s175dNXe",
        "outputId": "42f5b8df-f43e-44ca-ff7c-21847be1c37c"
      },
      "source": [
        "fig, ax = plt.subplots(figsize=(4, 4))\n",
        "ax.set_xlim(0, 23)\n",
        "ax.set_ylim(295, 450)\n",
        "ax.set_xlabel('Exposure')\n",
        "ax.set_ylabel('PEFR')\n",
        "ax.plot((0, 23), model.predict([[0], [23]]))\n",
        "ax.text(0.4, model.intercept_, r'$b_0$', size='larger')\n",
        "\n",
        "x = [[7.5], [17.5]]\n",
        "y = model.predict(x)\n",
        "ax.plot((7.5, 7.5, 17.5), (y[0], y[1], y[1]), '--')\n",
        "ax.text(5, np.mean(y), r'$\\Delta Y$', size='larger')\n",
        "ax.text(12, y[1] - 10, r'$\\Delta X$', size='larger')\n",
        "ax.text(12, 390, r'$b_1 = \\frac{\\Delta Y}{\\Delta X}$', size='larger')\n",
        "\n",
        "plt.tight_layout()\n",
        "plt.show()"
      ],
      "execution_count": null,
      "outputs": [
        {
          "output_type": "display_data",
          "data": {
            "image/png": "[encoded data removed]",
            "text/plain": [
              "<Figure size 288x288 with 1 Axes>"
            ]
          },
          "metadata": {
            "tags": [],
            "needs_background": "light"
          }
        }
      ]
    },
    {
      "cell_type": "code",
      "metadata": {
        "id": "4_I9N8QiduXt"
      },
      "source": [
        "fitted = model.predict(lung[predictors])\n",
        "residuals = lung[outcome] - fitted"
      ],
      "execution_count": null,
      "outputs": []
    },
    {
      "cell_type": "code",
      "metadata": {
        "id": "gVwN_SE-eB8F",
        "colab": {
          "base_uri": "https://localhost:8080/",
          "height": 297
        },
        "outputId": "706d97d7-12d0-4f5b-c825-9976e250bf4b"
      },
      "source": [
        "ax = lung.plot.scatter(x='Exposure', y='PEFR', figsize=(4, 4))\n",
        "ax.plot(lung.Exposure, fitted)\n",
        "for x, yactual, yfitted in zip(lung.Exposure, lung.PEFR, fitted): \n",
        "    ax.plot((x, x), (yactual, yfitted), '--', color='C1')\n",
        "\n",
        "plt.tight_layout()\n",
        "plt.show()"
      ],
      "execution_count": null,
      "outputs": [
        {
          "output_type": "display_data",
          "data": {
            "image/png": "[encoded data removed]",
            "text/plain": [
              "<Figure size 288x288 with 1 Axes>"
            ]
          },
          "metadata": {
            "tags": [],
            "needs_background": "light"
          }
        }
      ]
    },
    {
      "cell_type": "markdown",
      "metadata": {
        "id": "8gnk9LReAwg8"
      },
      "source": [
        "## Regresión lineal multiple"
      ]
    },
    {
      "cell_type": "code",
      "metadata": {
        "id": "SNPVF07keD-K",
        "colab": {
          "base_uri": "https://localhost:8080/"
        },
        "outputId": "44440647-1bc7-4681-dc06-06b5f0a4affd"
      },
      "source": [
        "!head -n 3 house_sales.csv"
      ],
      "execution_count": null,
      "outputs": [
        {
          "output_type": "stream",
          "text": [
            "\"DocumentDate\"\t\"SalePrice\"\t\"PropertyID\"\t\"PropertyType\"\t\"ym\"\t\"zhvi_px\"\t\"zhvi_idx\"\t\"AdjSalePrice\"\t\"NbrLivingUnits\"\t\"SqFtLot\"\t\"SqFtTotLiving\"\t\"SqFtFinBasement\"\t\"Bathrooms\"\t\"Bedrooms\"\t\"BldgGrade\"\t\"YrBuilt\"\t\"YrRenovated\"\t\"TrafficNoise\"\t\"LandVal\"\t\"ImpsVal\"\t\"ZipCode\"\t\"NewConstruction\"\n",
            "\"1\"\t\"2014-09-16\"\t280000\t1000102\t\"Multiplex\"\t\"2014-09-01\"\t405100\t0.930836397058823\t300805\t2\t9373\t2400\t0\t3\t6\t7\t1991\t0\t0\t70000\t229000\t98002\tFALSE\n",
            "\"2\"\t\"2006-06-16\"\t1000000\t1200013\t\"Single Family\"\t\"2006-06-01\"\t404400\t0.929227941176471\t1076162\t1\t20156\t3764\t1452\t3.75\t4\t10\t2005\t0\t0\t203000\t590000\t98166\tTRUE\n"
          ],
          "name": "stdout"
        }
      ]
    },
    {
      "cell_type": "code",
      "metadata": {
        "colab": {
          "base_uri": "https://localhost:8080/",
          "height": 206
        },
        "id": "DuD1ygYIA80a",
        "outputId": "9d3b20a0-4590-43c7-f23a-68e872667d6a"
      },
      "source": [
        "subset = ['AdjSalePrice', 'SqFtTotLiving', 'SqFtLot', 'Bathrooms',\n",
        "          'Bedrooms', 'BldgGrade']\n",
        "\n",
        "house = pd.read_csv(HOUSE_CSV, sep='\\t')\n",
        "house[subset].head()"
      ],
      "execution_count": null,
      "outputs": [
        {
          "output_type": "execute_result",
          "data": {
            "text/html": [
              "<div>\n",
              "<style scoped>\n",
              "    .dataframe tbody tr th:only-of-type {\n",
              "        vertical-align: middle;\n",
              "    }\n",
              "\n",
              "    .dataframe tbody tr th {\n",
              "        vertical-align: top;\n",
              "    }\n",
              "\n",
              "    .dataframe thead th {\n",
              "        text-align: right;\n",
              "    }\n",
              "</style>\n",
              "<table border=\"1\" class=\"dataframe\">\n",
              "  <thead>\n",
              "    <tr style=\"text-align: right;\">\n",
              "      <th></th>\n",
              "      <th>AdjSalePrice</th>\n",
              "      <th>SqFtTotLiving</th>\n",
              "      <th>SqFtLot</th>\n",
              "      <th>Bathrooms</th>\n",
              "      <th>Bedrooms</th>\n",
              "      <th>BldgGrade</th>\n",
              "    </tr>\n",
              "  </thead>\n",
              "  <tbody>\n",
              "    <tr>\n",
              "      <th>1</th>\n",
              "      <td>300805.0</td>\n",
              "      <td>2400</td>\n",
              "      <td>9373</td>\n",
              "      <td>3.00</td>\n",
              "      <td>6</td>\n",
              "      <td>7</td>\n",
              "    </tr>\n",
              "    <tr>\n",
              "      <th>2</th>\n",
              "      <td>1076162.0</td>\n",
              "      <td>3764</td>\n",
              "      <td>20156</td>\n",
              "      <td>3.75</td>\n",
              "      <td>4</td>\n",
              "      <td>10</td>\n",
              "    </tr>\n",
              "    <tr>\n",
              "      <th>3</th>\n",
              "      <td>761805.0</td>\n",
              "      <td>2060</td>\n",
              "      <td>26036</td>\n",
              "      <td>1.75</td>\n",
              "      <td>4</td>\n",
              "      <td>8</td>\n",
              "    </tr>\n",
              "    <tr>\n",
              "      <th>4</th>\n",
              "      <td>442065.0</td>\n",
              "      <td>3200</td>\n",
              "      <td>8618</td>\n",
              "      <td>3.75</td>\n",
              "      <td>5</td>\n",
              "      <td>7</td>\n",
              "    </tr>\n",
              "    <tr>\n",
              "      <th>5</th>\n",
              "      <td>297065.0</td>\n",
              "      <td>1720</td>\n",
              "      <td>8620</td>\n",
              "      <td>1.75</td>\n",
              "      <td>4</td>\n",
              "      <td>7</td>\n",
              "    </tr>\n",
              "  </tbody>\n",
              "</table>\n",
              "</div>"
            ],
            "text/plain": [
              "   AdjSalePrice  SqFtTotLiving  SqFtLot  Bathrooms  Bedrooms  BldgGrade\n",
              "1      300805.0           2400     9373       3.00         6          7\n",
              "2     1076162.0           3764    20156       3.75         4         10\n",
              "3      761805.0           2060    26036       1.75         4          8\n",
              "4      442065.0           3200     8618       3.75         5          7\n",
              "5      297065.0           1720     8620       1.75         4          7"
            ]
          },
          "metadata": {
            "tags": []
          },
          "execution_count": 14
        }
      ]
    },
    {
      "cell_type": "code",
      "metadata": {
        "colab": {
          "base_uri": "https://localhost:8080/"
        },
        "id": "ZHFrt8suB6p7",
        "outputId": "a1a22909-08d2-4584-ef87-dd51fe919d94"
      },
      "source": [
        "predictors = ['SqFtTotLiving', 'SqFtLot', 'Bathrooms',\n",
        "              'Bedrooms', 'BldgGrade']\n",
        "outcome    = 'AdjSalePrice'\n",
        "\n",
        "house_lm = LinearRegression()\n",
        "house_lm.fit(house[predictors], house[outcome])\n",
        "\n",
        "print(f'Intercept: {house_lm.intercept_:.3f}')\n",
        "print('Coefficientes:')\n",
        "for name, coef in zip(predictors, house_lm.coef_):\n",
        "    print(f' {name}: {coef}')"
      ],
      "execution_count": null,
      "outputs": [
        {
          "output_type": "stream",
          "text": [
            "Intercept: -521871.368\n",
            "Coefficientes:\n",
            " SqFtTotLiving: 228.83060360240796\n",
            " SqFtLot: -0.06046682065307607\n",
            " Bathrooms: -19442.840398321056\n",
            " Bedrooms: -47769.95518521438\n",
            " BldgGrade: 106106.96307898083\n"
          ],
          "name": "stdout"
        }
      ]
    },
    {
      "cell_type": "markdown",
      "metadata": {
        "id": "81m6hEEODBdU"
      },
      "source": [
        "Entendamos"
      ]
    },
    {
      "cell_type": "code",
      "metadata": {
        "colab": {
          "base_uri": "https://localhost:8080/"
        },
        "id": "KaPEyaIZCwXj",
        "outputId": "6733d9b0-3e77-462b-c510-1e1328fd0cf2"
      },
      "source": [
        "fitted = house_lm.predict(house[predictors])\n",
        "RMSE = np.sqrt(mean_squared_error(house[outcome], fitted))\n",
        "r2 = r2_score(house[outcome], fitted)\n",
        "print(f'RMSE: {RMSE:.0f}')\n",
        "print(f'r2: {r2:.4f}')"
      ],
      "execution_count": null,
      "outputs": [
        {
          "output_type": "stream",
          "text": [
            "RMSE: 261220\n",
            "r2: 0.5406\n"
          ],
          "name": "stdout"
        }
      ]
    },
    {
      "cell_type": "code",
      "metadata": {
        "colab": {
          "base_uri": "https://localhost:8080/"
        },
        "id": "3I4e0LswERdq",
        "outputId": "42c29294-cff5-447a-e750-ecde4aa9a9aa"
      },
      "source": [
        "import statsmodels.api as sm\n",
        "import statsmodels.formula.api as smf\n",
        "from statsmodels.stats.outliers_influence import OLSInfluence\n",
        "\n",
        "from pygam import LinearGAM, s, l\n",
        "from pygam.datasets import wage\n",
        "\n",
        "from dmba import stepwise_selection\n",
        "from dmba import AIC_score"
      ],
      "execution_count": null,
      "outputs": [
        {
          "output_type": "stream",
          "text": [
            "/usr/local/lib/python3.6/dist-packages/statsmodels/tools/_testing.py:19: FutureWarning: pandas.util.testing is deprecated. Use the functions in the public API at pandas.testing instead.\n",
            "  import pandas.util.testing as tm\n"
          ],
          "name": "stderr"
        },
        {
          "output_type": "stream",
          "text": [
            "no display found. Using non-interactive Agg backend\n"
          ],
          "name": "stdout"
        }
      ]
    },
    {
      "cell_type": "code",
      "metadata": {
        "colab": {
          "base_uri": "https://localhost:8080/"
        },
        "id": "_flCoYDmE4Ea",
        "outputId": "1ef9913d-3690-4961-cf7b-fdef493022d9"
      },
      "source": [
        "model = sm.OLS(house[outcome], house[predictors].assign(const=1))\n",
        "results = model.fit()\n",
        "print(results.summary())"
      ],
      "execution_count": null,
      "outputs": [
        {
          "output_type": "stream",
          "text": [
            "                            OLS Regression Results                            \n",
            "==============================================================================\n",
            "Dep. Variable:           AdjSalePrice   R-squared:                       0.541\n",
            "Model:                            OLS   Adj. R-squared:                  0.540\n",
            "Method:                 Least Squares   F-statistic:                     5338.\n",
            "Date:                Sat, 20 Feb 2021   Prob (F-statistic):               0.00\n",
            "Time:                        01:36:50   Log-Likelihood:            -3.1517e+05\n",
            "No. Observations:               22687   AIC:                         6.304e+05\n",
            "Df Residuals:                   22681   BIC:                         6.304e+05\n",
            "Df Model:                           5                                         \n",
            "Covariance Type:            nonrobust                                         \n",
            "=================================================================================\n",
            "                    coef    std err          t      P>|t|      [0.025      0.975]\n",
            "---------------------------------------------------------------------------------\n",
            "SqFtTotLiving   228.8306      3.899     58.694      0.000     221.189     236.472\n",
            "SqFtLot          -0.0605      0.061     -0.988      0.323      -0.180       0.059\n",
            "Bathrooms     -1.944e+04   3625.388     -5.363      0.000   -2.65e+04   -1.23e+04\n",
            "Bedrooms      -4.777e+04   2489.732    -19.187      0.000   -5.27e+04   -4.29e+04\n",
            "BldgGrade      1.061e+05   2396.445     44.277      0.000    1.01e+05    1.11e+05\n",
            "const         -5.219e+05   1.57e+04    -33.342      0.000   -5.53e+05   -4.91e+05\n",
            "==============================================================================\n",
            "Omnibus:                    29676.557   Durbin-Watson:                   1.247\n",
            "Prob(Omnibus):                  0.000   Jarque-Bera (JB):         19390738.346\n",
            "Skew:                           6.889   Prob(JB):                         0.00\n",
            "Kurtosis:                     145.559   Cond. No.                     2.86e+05\n",
            "==============================================================================\n",
            "\n",
            "Warnings:\n",
            "[1] Standard Errors assume that the covariance matrix of the errors is correctly specified.\n",
            "[2] The condition number is large, 2.86e+05. This might indicate that there are\n",
            "strong multicollinearity or other numerical problems.\n"
          ],
          "name": "stdout"
        }
      ]
    },
    {
      "cell_type": "markdown",
      "metadata": {
        "id": "580EclGyGGlp"
      },
      "source": [
        "## Valores influyentes"
      ]
    },
    {
      "cell_type": "code",
      "metadata": {
        "id": "xKtWfJuyFPvR"
      },
      "source": [
        "%matplotlib inline"
      ],
      "execution_count": null,
      "outputs": []
    },
    {
      "cell_type": "code",
      "metadata": {
        "colab": {
          "base_uri": "https://localhost:8080/",
          "height": 297
        },
        "id": "Fd0laaO_GL_j",
        "outputId": "09673045-ac94-4aca-ffc5-9f4935c99370"
      },
      "source": [
        "from scipy.stats import linregress\n",
        "\n",
        "np.random.seed(5)\n",
        "x = np.random.normal(size=25)\n",
        "y = -x / 5 + np.random.normal(size=25)\n",
        "x[0] = 8\n",
        "y[0] = 8\n",
        "\n",
        "def abline(slope, intercept, ax):\n",
        "    x_vals = np.array(ax.get_xlim())\n",
        "    return (x_vals, intercept + slope*x_vals)\n",
        "\n",
        "fig, ax = plt.subplots(figsize=(4, 4))\n",
        "ax.scatter(x, y)\n",
        "slope, intecept, _, _, _ = linregress(x, y)\n",
        "ax.plot(*abline(slope, intecept, ax))\n",
        "slope, intecept, _, _, _ = linregress(x[1:], y[1:])\n",
        "ax.plot(*abline(slope, intecept, ax), '--')\n",
        "ax.set_xlim(-2.5, 8.5)\n",
        "ax.set_ylim(-2.5, 8.5)\n",
        "\n",
        "plt.tight_layout()\n",
        "plt.show()"
      ],
      "execution_count": null,
      "outputs": [
        {
          "output_type": "display_data",
          "data": {
            "image/png": "[encoded data removed]",
            "text/plain": [
              "<Figure size 288x288 with 1 Axes>"
            ]
          },
          "metadata": {
            "tags": [],
            "needs_background": "light"
          }
        }
      ]
    },
    {
      "cell_type": "code",
      "metadata": {
        "id": "dHc-c_hQHgjx"
      },
      "source": [
        ""
      ],
      "execution_count": null,
      "outputs": []
    }
  ]
}