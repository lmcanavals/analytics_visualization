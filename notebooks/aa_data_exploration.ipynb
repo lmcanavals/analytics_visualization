{
  "nbformat": 4,
  "nbformat_minor": 0,
  "metadata": {
    "colab": {
      "name": "aa_data_exploration.ipynb",
      "provenance": [],
      "collapsed_sections": [],
      "authorship_tag": "ABX9TyOhfr1H/rTVhapAiT1xFCUd",
      "include_colab_link": true
    },
    "kernelspec": {
      "name": "python3",
      "display_name": "Python 3"
    }
  },
  "cells": [
    {
      "cell_type": "markdown",
      "metadata": {
        "id": "view-in-github",
        "colab_type": "text"
      },
      "source": [
        "<a href=\"https://colab.research.google.com/github/lmcanavals/analytics_visualization/blob/main/notebooks/aa_data_exploration.ipynb\" target=\"_parent\"><img src=\"https://colab.research.google.com/assets/colab-badge.svg\" alt=\"Open In Colab\"/></a>"
      ]
    },
    {
      "cell_type": "markdown",
      "metadata": {
        "id": "ru3onRFWEzgF"
      },
      "source": [
        "# Exploratory Data Analysis"
      ]
    },
    {
      "cell_type": "markdown",
      "metadata": {
        "id": "doI9RK-AGz8T"
      },
      "source": [
        "posiblemente sea necesario instalar wquantiles con la siguiente línea:"
      ]
    },
    {
      "cell_type": "code",
      "metadata": {
        "id": "FC3RPBmtF2Rf",
        "colab": {
          "base_uri": "https://localhost:8080/"
        },
        "outputId": "79fad026-fca1-4ed5-fbef-cfdf0376268a"
      },
      "source": [
        "!pip install wquantiles"
      ],
      "execution_count": null,
      "outputs": [
        {
          "output_type": "stream",
          "text": [
            "Requirement already satisfied: wquantiles in /usr/local/lib/python3.6/dist-packages (0.5)\n",
            "Requirement already satisfied: numpy in /usr/local/lib/python3.6/dist-packages (from wquantiles) (1.19.5)\n"
          ],
          "name": "stdout"
        }
      ]
    },
    {
      "cell_type": "code",
      "metadata": {
        "id": "K5jYsBcFA5bV",
        "colab": {
          "base_uri": "https://localhost:8080/"
        },
        "outputId": "d7a01c1b-b78a-4d3b-fc25-cb733b3a2bca"
      },
      "source": [
        "import pandas as pd\n",
        "import numpy as np\n",
        "from scipy.stats import trim_mean\n",
        "from statsmodels import robust\n",
        "import wquantiles\n",
        "\n",
        "import seaborn as sns\n",
        "import matplotlib.pylab as plt"
      ],
      "execution_count": null,
      "outputs": [
        {
          "output_type": "stream",
          "text": [
            "/usr/local/lib/python3.6/dist-packages/statsmodels/tools/_testing.py:19: FutureWarning: pandas.util.testing is deprecated. Use the functions in the public API at pandas.testing instead.\n",
            "  import pandas.util.testing as tm\n"
          ],
          "name": "stderr"
        }
      ]
    },
    {
      "cell_type": "code",
      "metadata": {
        "id": "AwGt2dKQFg-F"
      },
      "source": [
        "BASE_URL = \"https://raw.githubusercontent.com/lmcanavals/avd/main/data/\"\n",
        "AIRLINE_STATS_CSV   = f\"{BASE_URL}airline_stats.csv\"\n",
        "AIRPORT_DELAYS_CSV  = f\"{BASE_URL}dfw_airline.csv\"\n",
        "KC_TAX_CSV          = f\"{BASE_URL}kc_tax.csv.gz\"\n",
        "LC_LOANS_CSV        = f\"{BASE_URL}lc_loans.csv\"\n",
        "SP500_DATA_CSV      = f\"{BASE_URL}sp500_data.csv.gz\"\n",
        "SP500_SECTORS_CSV   = f\"{BASE_URL}sp500_sectors.csv\"\n",
        "STATE_CSV           = f\"{BASE_URL}state.csv\""
      ],
      "execution_count": null,
      "outputs": []
    },
    {
      "cell_type": "markdown",
      "metadata": {
        "id": "9ZHpjBxtHn97"
      },
      "source": [
        "## Estimación de ubicación"
      ]
    },
    {
      "cell_type": "code",
      "metadata": {
        "colab": {
          "base_uri": "https://localhost:8080/",
          "height": 206
        },
        "id": "_J6u-m_CHml1",
        "outputId": "0afe5520-da3e-4dd8-c8aa-c89d337f48ba"
      },
      "source": [
        "state = pd.read_csv(STATE_CSV)\n",
        "state.head()"
      ],
      "execution_count": null,
      "outputs": [
        {
          "output_type": "execute_result",
          "data": {
            "text/html": [
              "<div>\n",
              "<style scoped>\n",
              "    .dataframe tbody tr th:only-of-type {\n",
              "        vertical-align: middle;\n",
              "    }\n",
              "\n",
              "    .dataframe tbody tr th {\n",
              "        vertical-align: top;\n",
              "    }\n",
              "\n",
              "    .dataframe thead th {\n",
              "        text-align: right;\n",
              "    }\n",
              "</style>\n",
              "<table border=\"1\" class=\"dataframe\">\n",
              "  <thead>\n",
              "    <tr style=\"text-align: right;\">\n",
              "      <th></th>\n",
              "      <th>State</th>\n",
              "      <th>Population</th>\n",
              "      <th>Murder.Rate</th>\n",
              "      <th>Abbreviation</th>\n",
              "    </tr>\n",
              "  </thead>\n",
              "  <tbody>\n",
              "    <tr>\n",
              "      <th>0</th>\n",
              "      <td>Alabama</td>\n",
              "      <td>4779736</td>\n",
              "      <td>5.7</td>\n",
              "      <td>AL</td>\n",
              "    </tr>\n",
              "    <tr>\n",
              "      <th>1</th>\n",
              "      <td>Alaska</td>\n",
              "      <td>710231</td>\n",
              "      <td>5.6</td>\n",
              "      <td>AK</td>\n",
              "    </tr>\n",
              "    <tr>\n",
              "      <th>2</th>\n",
              "      <td>Arizona</td>\n",
              "      <td>6392017</td>\n",
              "      <td>4.7</td>\n",
              "      <td>AZ</td>\n",
              "    </tr>\n",
              "    <tr>\n",
              "      <th>3</th>\n",
              "      <td>Arkansas</td>\n",
              "      <td>2915918</td>\n",
              "      <td>5.6</td>\n",
              "      <td>AR</td>\n",
              "    </tr>\n",
              "    <tr>\n",
              "      <th>4</th>\n",
              "      <td>California</td>\n",
              "      <td>37253956</td>\n",
              "      <td>4.4</td>\n",
              "      <td>CA</td>\n",
              "    </tr>\n",
              "  </tbody>\n",
              "</table>\n",
              "</div>"
            ],
            "text/plain": [
              "        State  Population  Murder.Rate Abbreviation\n",
              "0     Alabama     4779736          5.7           AL\n",
              "1      Alaska      710231          5.6           AK\n",
              "2     Arizona     6392017          4.7           AZ\n",
              "3    Arkansas     2915918          5.6           AR\n",
              "4  California    37253956          4.4           CA"
            ]
          },
          "metadata": {
            "tags": []
          },
          "execution_count": 7
        }
      ]
    },
    {
      "cell_type": "code",
      "metadata": {
        "id": "CXB7cXQSHzJr",
        "colab": {
          "base_uri": "https://localhost:8080/"
        },
        "outputId": "a3714008-0b95-4546-fc1a-00a6f49fa50b"
      },
      "source": [
        "state['Population'].mean()"
      ],
      "execution_count": null,
      "outputs": [
        {
          "output_type": "execute_result",
          "data": {
            "text/plain": [
              "6162876.3"
            ]
          },
          "metadata": {
            "tags": []
          },
          "execution_count": 8
        }
      ]
    },
    {
      "cell_type": "code",
      "metadata": {
        "colab": {
          "base_uri": "https://localhost:8080/"
        },
        "id": "8wqA5kqrK_Rg",
        "outputId": "a82bfad6-0eb1-4420-a536-543192dcf660"
      },
      "source": [
        "trim_mean(state['Population'], 0.1)"
      ],
      "execution_count": null,
      "outputs": [
        {
          "output_type": "execute_result",
          "data": {
            "text/plain": [
              "4783697.125"
            ]
          },
          "metadata": {
            "tags": []
          },
          "execution_count": 9
        }
      ]
    },
    {
      "cell_type": "code",
      "metadata": {
        "colab": {
          "base_uri": "https://localhost:8080/"
        },
        "id": "Srl6VPfELD-y",
        "outputId": "fc8fd131-042d-45d6-e278-e1c16a20df8d"
      },
      "source": [
        "state['Population'].median()"
      ],
      "execution_count": null,
      "outputs": [
        {
          "output_type": "execute_result",
          "data": {
            "text/plain": [
              "4436369.5"
            ]
          },
          "metadata": {
            "tags": []
          },
          "execution_count": 10
        }
      ]
    },
    {
      "cell_type": "code",
      "metadata": {
        "colab": {
          "base_uri": "https://localhost:8080/"
        },
        "id": "jKC2uehYLvlY",
        "outputId": "40c9bea5-71b3-431e-fbe2-42690c0364e7"
      },
      "source": [
        "state['Murder.Rate'].mean()"
      ],
      "execution_count": null,
      "outputs": [
        {
          "output_type": "execute_result",
          "data": {
            "text/plain": [
              "4.066"
            ]
          },
          "metadata": {
            "tags": []
          },
          "execution_count": 11
        }
      ]
    },
    {
      "cell_type": "code",
      "metadata": {
        "colab": {
          "base_uri": "https://localhost:8080/"
        },
        "id": "ilSPdFVKMG1S",
        "outputId": "42f1717c-0293-4c78-e22f-bcca55eb9672"
      },
      "source": [
        "np.average(state['Murder.Rate'], weights=state['Population'])"
      ],
      "execution_count": null,
      "outputs": [
        {
          "output_type": "execute_result",
          "data": {
            "text/plain": [
              "4.445833981123393"
            ]
          },
          "metadata": {
            "tags": []
          },
          "execution_count": 12
        }
      ]
    },
    {
      "cell_type": "markdown",
      "metadata": {
        "id": "9RNTMcIRMi3h"
      },
      "source": [
        "## Estimaciones de Variabilidad"
      ]
    },
    {
      "cell_type": "code",
      "metadata": {
        "colab": {
          "base_uri": "https://localhost:8080/"
        },
        "id": "jZHc-G1AMSnE",
        "outputId": "36fe0beb-a85c-4fa5-d3ba-5371ff7dc876"
      },
      "source": [
        "state['Population'].std()"
      ],
      "execution_count": null,
      "outputs": [
        {
          "output_type": "execute_result",
          "data": {
            "text/plain": [
              "6848235.347401142"
            ]
          },
          "metadata": {
            "tags": []
          },
          "execution_count": 13
        }
      ]
    },
    {
      "cell_type": "code",
      "metadata": {
        "colab": {
          "base_uri": "https://localhost:8080/"
        },
        "id": "FqPLoJMMMqli",
        "outputId": "b0dbbd9d-75ce-4d58-ccf0-907d212a2f36"
      },
      "source": [
        "state['Population'].quantile(.75) - state['Population'].quantile(.25)"
      ],
      "execution_count": null,
      "outputs": [
        {
          "output_type": "execute_result",
          "data": {
            "text/plain": [
              "4847308.0"
            ]
          },
          "metadata": {
            "tags": []
          },
          "execution_count": 14
        }
      ]
    },
    {
      "cell_type": "code",
      "metadata": {
        "colab": {
          "base_uri": "https://localhost:8080/"
        },
        "id": "GRkhxm0eM-fo",
        "outputId": "b3ae3f9d-1c95-4f1f-b447-19b25fca546b"
      },
      "source": [
        "robust.scale.mad(state['Population'])"
      ],
      "execution_count": null,
      "outputs": [
        {
          "output_type": "execute_result",
          "data": {
            "text/plain": [
              "3849876.1459979336"
            ]
          },
          "metadata": {
            "tags": []
          },
          "execution_count": 15
        }
      ]
    },
    {
      "cell_type": "code",
      "metadata": {
        "colab": {
          "base_uri": "https://localhost:8080/"
        },
        "id": "oGCiewY9NUNB",
        "outputId": "b9a4346d-dd11-4074-acb8-cdf8dd294ae4"
      },
      "source": [
        "abs(state['Population'] - state['Population'].median()).median() / 0.6744897501960817"
      ],
      "execution_count": null,
      "outputs": [
        {
          "output_type": "execute_result",
          "data": {
            "text/plain": [
              "3849876.1459979336"
            ]
          },
          "metadata": {
            "tags": []
          },
          "execution_count": 16
        }
      ]
    },
    {
      "cell_type": "markdown",
      "metadata": {
        "id": "Kbcy1Nx1N6Ka"
      },
      "source": [
        "## Percentiles y Boxplots"
      ]
    },
    {
      "cell_type": "code",
      "metadata": {
        "id": "DGDpgSOCOMGx"
      },
      "source": [
        "percentages = [.05, .25, .5, .75, .95]"
      ],
      "execution_count": null,
      "outputs": []
    },
    {
      "cell_type": "code",
      "metadata": {
        "colab": {
          "base_uri": "https://localhost:8080/"
        },
        "id": "uQUiRDXeNhEh",
        "outputId": "293b01b2-b294-42dd-eb1b-0b7bcbe8d88d"
      },
      "source": [
        "state['Murder.Rate'].quantile(percentages)"
      ],
      "execution_count": null,
      "outputs": [
        {
          "output_type": "execute_result",
          "data": {
            "text/plain": [
              "0.05    1.600\n",
              "0.25    2.425\n",
              "0.50    4.000\n",
              "0.75    5.550\n",
              "0.95    6.510\n",
              "Name: Murder.Rate, dtype: float64"
            ]
          },
          "metadata": {
            "tags": []
          },
          "execution_count": 18
        }
      ]
    },
    {
      "cell_type": "code",
      "metadata": {
        "colab": {
          "base_uri": "https://localhost:8080/",
          "height": 81
        },
        "id": "0-mdrRkPOF9-",
        "outputId": "347a1a38-b9df-49f8-fbd7-0939aca6e368"
      },
      "source": [
        "df = pd.DataFrame(state['Murder.Rate'].quantile(percentages))\n",
        "df.index = [f'{p * 100}' for p in percentages]\n",
        "df.transpose()"
      ],
      "execution_count": null,
      "outputs": [
        {
          "output_type": "execute_result",
          "data": {
            "text/html": [
              "<div>\n",
              "<style scoped>\n",
              "    .dataframe tbody tr th:only-of-type {\n",
              "        vertical-align: middle;\n",
              "    }\n",
              "\n",
              "    .dataframe tbody tr th {\n",
              "        vertical-align: top;\n",
              "    }\n",
              "\n",
              "    .dataframe thead th {\n",
              "        text-align: right;\n",
              "    }\n",
              "</style>\n",
              "<table border=\"1\" class=\"dataframe\">\n",
              "  <thead>\n",
              "    <tr style=\"text-align: right;\">\n",
              "      <th></th>\n",
              "      <th>5.0</th>\n",
              "      <th>25.0</th>\n",
              "      <th>50.0</th>\n",
              "      <th>75.0</th>\n",
              "      <th>95.0</th>\n",
              "    </tr>\n",
              "  </thead>\n",
              "  <tbody>\n",
              "    <tr>\n",
              "      <th>Murder.Rate</th>\n",
              "      <td>1.6</td>\n",
              "      <td>2.425</td>\n",
              "      <td>4.0</td>\n",
              "      <td>5.55</td>\n",
              "      <td>6.51</td>\n",
              "    </tr>\n",
              "  </tbody>\n",
              "</table>\n",
              "</div>"
            ],
            "text/plain": [
              "             5.0   25.0  50.0  75.0  95.0\n",
              "Murder.Rate  1.6  2.425   4.0  5.55  6.51"
            ]
          },
          "metadata": {
            "tags": []
          },
          "execution_count": 19
        }
      ]
    },
    {
      "cell_type": "code",
      "metadata": {
        "colab": {
          "base_uri": "https://localhost:8080/",
          "height": 297
        },
        "id": "7zZrGUs1OqrW",
        "outputId": "64425588-9804-4b25-f5c1-0dab21b87918"
      },
      "source": [
        "ax = (state['Population']/1_000_000).plot.box(figsize=(3, 4))\n",
        "ax.set_ylabel('Población (millones)')\n",
        "\n",
        "plt.tight_layout()\n",
        "plt.show()"
      ],
      "execution_count": null,
      "outputs": [
        {
          "output_type": "display_data",
          "data": {
            "image/png": "[encoded data removed]",
            "text/plain": [
              "<Figure size 216x288 with 1 Axes>"
            ]
          },
          "metadata": {
            "tags": [],
            "needs_background": "light"
          }
        }
      ]
    },
    {
      "cell_type": "markdown",
      "metadata": {
        "id": "RXurLCPkQZ51"
      },
      "source": [
        "## Tablas de frecuencia e Histogramas"
      ]
    },
    {
      "cell_type": "code",
      "metadata": {
        "colab": {
          "base_uri": "https://localhost:8080/"
        },
        "id": "zCikRtEmPsYY",
        "outputId": "a40fc419-142c-40ec-eaed-60a368465e37"
      },
      "source": [
        "binnedPopulation = pd.cut(state['Population'], 10)\n",
        "binnedPopulation.value_counts()"
      ],
      "execution_count": null,
      "outputs": [
        {
          "output_type": "execute_result",
          "data": {
            "text/plain": [
              "(526935.67, 4232659.0]      24\n",
              "(4232659.0, 7901692.0]      14\n",
              "(7901692.0, 11570725.0]      6\n",
              "(11570725.0, 15239758.0]     2\n",
              "(33584923.0, 37253956.0]     1\n",
              "(22577824.0, 26246857.0]     1\n",
              "(18908791.0, 22577824.0]     1\n",
              "(15239758.0, 18908791.0]     1\n",
              "(29915890.0, 33584923.0]     0\n",
              "(26246857.0, 29915890.0]     0\n",
              "Name: Population, dtype: int64"
            ]
          },
          "metadata": {
            "tags": []
          },
          "execution_count": 21
        }
      ]
    },
    {
      "cell_type": "code",
      "metadata": {
        "colab": {
          "base_uri": "https://localhost:8080/",
          "height": 363
        },
        "id": "_dVII0GiQsuw",
        "outputId": "49c2dae2-d957-4e3d-cdea-fcc49872efce"
      },
      "source": [
        "binnedPopulation.name = 'binnedPopulation'\n",
        "df = pd.concat([state, binnedPopulation], axis = 1)\n",
        "df = df.sort_values(by='Population')\n",
        "\n",
        "groups = []\n",
        "for group, subset in df.groupby(by='binnedPopulation'):\n",
        "    groups.append({\n",
        "        'BinRange': group,\n",
        "        'Count': len(subset),\n",
        "        'States': ','.join(subset.Abbreviation)\n",
        "    })\n",
        "pd.DataFrame(groups)"
      ],
      "execution_count": null,
      "outputs": [
        {
          "output_type": "execute_result",
          "data": {
            "text/html": [
              "<div>\n",
              "<style scoped>\n",
              "    .dataframe tbody tr th:only-of-type {\n",
              "        vertical-align: middle;\n",
              "    }\n",
              "\n",
              "    .dataframe tbody tr th {\n",
              "        vertical-align: top;\n",
              "    }\n",
              "\n",
              "    .dataframe thead th {\n",
              "        text-align: right;\n",
              "    }\n",
              "</style>\n",
              "<table border=\"1\" class=\"dataframe\">\n",
              "  <thead>\n",
              "    <tr style=\"text-align: right;\">\n",
              "      <th></th>\n",
              "      <th>BinRange</th>\n",
              "      <th>Count</th>\n",
              "      <th>States</th>\n",
              "    </tr>\n",
              "  </thead>\n",
              "  <tbody>\n",
              "    <tr>\n",
              "      <th>0</th>\n",
              "      <td>(526935.67, 4232659.0]</td>\n",
              "      <td>24</td>\n",
              "      <td>WY,VT,ND,AK,SD,DE,MT,RI,NH,ME,HI,ID,NE,WV,NM,N...</td>\n",
              "    </tr>\n",
              "    <tr>\n",
              "      <th>1</th>\n",
              "      <td>(4232659.0, 7901692.0]</td>\n",
              "      <td>14</td>\n",
              "      <td>KY,LA,SC,AL,CO,MN,WI,MD,MO,TN,AZ,IN,MA,WA</td>\n",
              "    </tr>\n",
              "    <tr>\n",
              "      <th>2</th>\n",
              "      <td>(7901692.0, 11570725.0]</td>\n",
              "      <td>6</td>\n",
              "      <td>VA,NJ,NC,GA,MI,OH</td>\n",
              "    </tr>\n",
              "    <tr>\n",
              "      <th>3</th>\n",
              "      <td>(11570725.0, 15239758.0]</td>\n",
              "      <td>2</td>\n",
              "      <td>PA,IL</td>\n",
              "    </tr>\n",
              "    <tr>\n",
              "      <th>4</th>\n",
              "      <td>(15239758.0, 18908791.0]</td>\n",
              "      <td>1</td>\n",
              "      <td>FL</td>\n",
              "    </tr>\n",
              "    <tr>\n",
              "      <th>5</th>\n",
              "      <td>(18908791.0, 22577824.0]</td>\n",
              "      <td>1</td>\n",
              "      <td>NY</td>\n",
              "    </tr>\n",
              "    <tr>\n",
              "      <th>6</th>\n",
              "      <td>(22577824.0, 26246857.0]</td>\n",
              "      <td>1</td>\n",
              "      <td>TX</td>\n",
              "    </tr>\n",
              "    <tr>\n",
              "      <th>7</th>\n",
              "      <td>(26246857.0, 29915890.0]</td>\n",
              "      <td>0</td>\n",
              "      <td></td>\n",
              "    </tr>\n",
              "    <tr>\n",
              "      <th>8</th>\n",
              "      <td>(29915890.0, 33584923.0]</td>\n",
              "      <td>0</td>\n",
              "      <td></td>\n",
              "    </tr>\n",
              "    <tr>\n",
              "      <th>9</th>\n",
              "      <td>(33584923.0, 37253956.0]</td>\n",
              "      <td>1</td>\n",
              "      <td>CA</td>\n",
              "    </tr>\n",
              "  </tbody>\n",
              "</table>\n",
              "</div>"
            ],
            "text/plain": [
              "                   BinRange  ...                                             States\n",
              "0    (526935.67, 4232659.0]  ...  WY,VT,ND,AK,SD,DE,MT,RI,NH,ME,HI,ID,NE,WV,NM,N...\n",
              "1    (4232659.0, 7901692.0]  ...          KY,LA,SC,AL,CO,MN,WI,MD,MO,TN,AZ,IN,MA,WA\n",
              "2   (7901692.0, 11570725.0]  ...                                  VA,NJ,NC,GA,MI,OH\n",
              "3  (11570725.0, 15239758.0]  ...                                              PA,IL\n",
              "4  (15239758.0, 18908791.0]  ...                                                 FL\n",
              "5  (18908791.0, 22577824.0]  ...                                                 NY\n",
              "6  (22577824.0, 26246857.0]  ...                                                 TX\n",
              "7  (26246857.0, 29915890.0]  ...                                                   \n",
              "8  (29915890.0, 33584923.0]  ...                                                   \n",
              "9  (33584923.0, 37253956.0]  ...                                                 CA\n",
              "\n",
              "[10 rows x 3 columns]"
            ]
          },
          "metadata": {
            "tags": []
          },
          "execution_count": 22
        }
      ]
    },
    {
      "cell_type": "code",
      "metadata": {
        "colab": {
          "base_uri": "https://localhost:8080/",
          "height": 297
        },
        "id": "9CbmoEEcS7z2",
        "outputId": "958b3a2a-67fe-484b-aa40-66789cc954d4"
      },
      "source": [
        "ax = (state['Population'] / 1_000_000).plot.hist(figsize=(4, 4))\n",
        "ax.set_xlabel('Población (millones)')\n",
        "\n",
        "plt.tight_layout()\n",
        "plt.show()"
      ],
      "execution_count": null,
      "outputs": [
        {
          "output_type": "display_data",
          "data": {
            "image/png": "[encoded data removed]",
            "text/plain": [
              "<Figure size 288x288 with 1 Axes>"
            ]
          },
          "metadata": {
            "tags": [],
            "needs_background": "light"
          }
        }
      ]
    },
    {
      "cell_type": "markdown",
      "metadata": {
        "id": "msoDT1qZTymR"
      },
      "source": [
        "## Estimaciones de densidad"
      ]
    },
    {
      "cell_type": "code",
      "metadata": {
        "colab": {
          "base_uri": "https://localhost:8080/",
          "height": 297
        },
        "id": "Yu7MgCFxTinI",
        "outputId": "82153be3-dd97-4208-e202-8bb09c980942"
      },
      "source": [
        "ax = state['Murder.Rate'].plot.hist(density=True, xlim=[0, 12],\n",
        "                                    bins=range(1, 12), figsize=(4, 4))\n",
        "state['Murder.Rate'].plot.density(ax=ax)\n",
        "ax.set_xlabel('Murder Rate (per 100000)')\n",
        "\n",
        "plt.tight_layout()\n",
        "plt.show()"
      ],
      "execution_count": null,
      "outputs": [
        {
          "output_type": "display_data",
          "data": {
            "image/png": "[encoded data removed]",
            "text/plain": [
              "<Figure size 288x288 with 1 Axes>"
            ]
          },
          "metadata": {
            "tags": [],
            "needs_background": "light"
          }
        }
      ]
    },
    {
      "cell_type": "markdown",
      "metadata": {
        "id": "lShMGqHNU3CI"
      },
      "source": [
        "## Data binaria y categórica"
      ]
    },
    {
      "cell_type": "code",
      "metadata": {
        "colab": {
          "base_uri": "https://localhost:8080/"
        },
        "id": "m62xh6jyVbPT",
        "outputId": "9e55bfbb-50bb-41e2-86ac-d7ab6ae25b25"
      },
      "source": [
        "!head $AIRPORT_DELAYS_CSV"
      ],
      "execution_count": null,
      "outputs": [
        {
          "output_type": "stream",
          "text": [
            "\"Carrier\",\"ATC\",\"Weather\",\"Security\",\"Inbound\"\n",
            "64263.16,84856.5,11235.42,343.15,118427.82\n"
          ],
          "name": "stdout"
        }
      ]
    },
    {
      "cell_type": "code",
      "metadata": {
        "colab": {
          "base_uri": "https://localhost:8080/"
        },
        "id": "LrDsbngtUW3a",
        "outputId": "748db3bf-be16-4460-9965-d1d6b431813b"
      },
      "source": [
        "dfw = pd.read_csv(AIRPORT_DELAYS_CSV)\n",
        "print(100 * dfw / dfw.values.sum())"
      ],
      "execution_count": null,
      "outputs": [
        {
          "output_type": "stream",
          "text": [
            "     Carrier        ATC   Weather  Security    Inbound\n",
            "0  23.022989  30.400781  4.025214  0.122937  42.428079\n"
          ],
          "name": "stdout"
        }
      ]
    },
    {
      "cell_type": "code",
      "metadata": {
        "colab": {
          "base_uri": "https://localhost:8080/",
          "height": 297
        },
        "id": "GX60BiNPVTmH",
        "outputId": "06800b93-b25b-4d0d-dadc-f87daa919230"
      },
      "source": [
        "ax = dfw.transpose().plot.bar(figsize=(4,4), legend=False)\n",
        "ax.set_xlabel('Cause of delay')\n",
        "ax.set_ylabel('Count')\n",
        "\n",
        "plt.tight_layout()\n",
        "plt.show()"
      ],
      "execution_count": null,
      "outputs": [
        {
          "output_type": "display_data",
          "data": {
            "image/png": "[encoded data removed]",
            "text/plain": [
              "<Figure size 288x288 with 1 Axes>"
            ]
          },
          "metadata": {
            "tags": [],
            "needs_background": "light"
          }
        }
      ]
    },
    {
      "cell_type": "markdown",
      "metadata": {
        "id": "0axPhtkTWXeU"
      },
      "source": [
        "## Correlation"
      ]
    },
    {
      "cell_type": "code",
      "metadata": {
        "id": "9TO7AduTWXMs"
      },
      "source": [
        "sp500_sym = pd.read_csv(SP500_SECTORS_CSV)\n",
        "sp500_px = pd.read_csv(SP500_DATA_CSV, index_col=0)"
      ],
      "execution_count": null,
      "outputs": []
    },
    {
      "cell_type": "code",
      "metadata": {
        "colab": {
          "base_uri": "https://localhost:8080/",
          "height": 424
        },
        "id": "FiHWDtVpWDWT",
        "outputId": "ee2626e0-c074-4fcc-879a-31815d087e01"
      },
      "source": [
        "telecomSymbols = sp500_sym[sp500_sym['sector'] == 'telecommunications_services']['symbol']\n",
        "\n",
        "telecom = sp500_px.loc[sp500_px.index >= '2012-07-01', telecomSymbols]\n",
        "telecom.corr()\n",
        "telecom"
      ],
      "execution_count": null,
      "outputs": [
        {
          "output_type": "execute_result",
          "data": {
            "text/html": [
              "<div>\n",
              "<style scoped>\n",
              "    .dataframe tbody tr th:only-of-type {\n",
              "        vertical-align: middle;\n",
              "    }\n",
              "\n",
              "    .dataframe tbody tr th {\n",
              "        vertical-align: top;\n",
              "    }\n",
              "\n",
              "    .dataframe thead th {\n",
              "        text-align: right;\n",
              "    }\n",
              "</style>\n",
              "<table border=\"1\" class=\"dataframe\">\n",
              "  <thead>\n",
              "    <tr style=\"text-align: right;\">\n",
              "      <th></th>\n",
              "      <th>T</th>\n",
              "      <th>CTL</th>\n",
              "      <th>FTR</th>\n",
              "      <th>VZ</th>\n",
              "      <th>LVLT</th>\n",
              "    </tr>\n",
              "  </thead>\n",
              "  <tbody>\n",
              "    <tr>\n",
              "      <th>2012-07-02</th>\n",
              "      <td>0.422496</td>\n",
              "      <td>0.140847</td>\n",
              "      <td>0.070879</td>\n",
              "      <td>0.554180</td>\n",
              "      <td>-0.519998</td>\n",
              "    </tr>\n",
              "    <tr>\n",
              "      <th>2012-07-03</th>\n",
              "      <td>-0.177448</td>\n",
              "      <td>0.066280</td>\n",
              "      <td>0.070879</td>\n",
              "      <td>-0.025976</td>\n",
              "      <td>-0.049999</td>\n",
              "    </tr>\n",
              "    <tr>\n",
              "      <th>2012-07-05</th>\n",
              "      <td>-0.160548</td>\n",
              "      <td>-0.132563</td>\n",
              "      <td>0.055128</td>\n",
              "      <td>-0.051956</td>\n",
              "      <td>-0.180000</td>\n",
              "    </tr>\n",
              "    <tr>\n",
              "      <th>2012-07-06</th>\n",
              "      <td>0.342205</td>\n",
              "      <td>0.132563</td>\n",
              "      <td>0.007875</td>\n",
              "      <td>0.140106</td>\n",
              "      <td>-0.359999</td>\n",
              "    </tr>\n",
              "    <tr>\n",
              "      <th>2012-07-09</th>\n",
              "      <td>0.136883</td>\n",
              "      <td>0.124279</td>\n",
              "      <td>-0.023626</td>\n",
              "      <td>0.253943</td>\n",
              "      <td>0.180000</td>\n",
              "    </tr>\n",
              "    <tr>\n",
              "      <th>...</th>\n",
              "      <td>...</td>\n",
              "      <td>...</td>\n",
              "      <td>...</td>\n",
              "      <td>...</td>\n",
              "      <td>...</td>\n",
              "    </tr>\n",
              "    <tr>\n",
              "      <th>2015-06-25</th>\n",
              "      <td>0.049342</td>\n",
              "      <td>-1.600000</td>\n",
              "      <td>-0.040000</td>\n",
              "      <td>-0.187790</td>\n",
              "      <td>-0.330002</td>\n",
              "    </tr>\n",
              "    <tr>\n",
              "      <th>2015-06-26</th>\n",
              "      <td>-0.256586</td>\n",
              "      <td>0.039999</td>\n",
              "      <td>-0.070000</td>\n",
              "      <td>0.029650</td>\n",
              "      <td>-0.739998</td>\n",
              "    </tr>\n",
              "    <tr>\n",
              "      <th>2015-06-29</th>\n",
              "      <td>-0.098685</td>\n",
              "      <td>-0.559999</td>\n",
              "      <td>-0.060000</td>\n",
              "      <td>-0.504063</td>\n",
              "      <td>-1.360000</td>\n",
              "    </tr>\n",
              "    <tr>\n",
              "      <th>2015-06-30</th>\n",
              "      <td>-0.503298</td>\n",
              "      <td>-0.420000</td>\n",
              "      <td>-0.070000</td>\n",
              "      <td>-0.523829</td>\n",
              "      <td>0.199997</td>\n",
              "    </tr>\n",
              "    <tr>\n",
              "      <th>2015-07-01</th>\n",
              "      <td>-0.019737</td>\n",
              "      <td>0.080000</td>\n",
              "      <td>-0.050000</td>\n",
              "      <td>0.355811</td>\n",
              "      <td>0.139999</td>\n",
              "    </tr>\n",
              "  </tbody>\n",
              "</table>\n",
              "<p>754 rows × 5 columns</p>\n",
              "</div>"
            ],
            "text/plain": [
              "                   T       CTL       FTR        VZ      LVLT\n",
              "2012-07-02  0.422496  0.140847  0.070879  0.554180 -0.519998\n",
              "2012-07-03 -0.177448  0.066280  0.070879 -0.025976 -0.049999\n",
              "2012-07-05 -0.160548 -0.132563  0.055128 -0.051956 -0.180000\n",
              "2012-07-06  0.342205  0.132563  0.007875  0.140106 -0.359999\n",
              "2012-07-09  0.136883  0.124279 -0.023626  0.253943  0.180000\n",
              "...              ...       ...       ...       ...       ...\n",
              "2015-06-25  0.049342 -1.600000 -0.040000 -0.187790 -0.330002\n",
              "2015-06-26 -0.256586  0.039999 -0.070000  0.029650 -0.739998\n",
              "2015-06-29 -0.098685 -0.559999 -0.060000 -0.504063 -1.360000\n",
              "2015-06-30 -0.503298 -0.420000 -0.070000 -0.523829  0.199997\n",
              "2015-07-01 -0.019737  0.080000 -0.050000  0.355811  0.139999\n",
              "\n",
              "[754 rows x 5 columns]"
            ]
          },
          "metadata": {
            "tags": []
          },
          "execution_count": 29
        }
      ]
    },
    {
      "cell_type": "code",
      "metadata": {
        "colab": {
          "base_uri": "https://localhost:8080/",
          "height": 206
        },
        "id": "6y5IJm0zYiOY",
        "outputId": "899a8184-029f-4124-d951-de8fae9fff8a"
      },
      "source": [
        "etfs = sp500_px.loc[sp500_px.index > '2012-07-01',\n",
        "                    sp500_sym[sp500_sym['sector'] == 'etf']['symbol']]\n",
        "etfs.head()"
      ],
      "execution_count": null,
      "outputs": [
        {
          "output_type": "execute_result",
          "data": {
            "text/html": [
              "<div>\n",
              "<style scoped>\n",
              "    .dataframe tbody tr th:only-of-type {\n",
              "        vertical-align: middle;\n",
              "    }\n",
              "\n",
              "    .dataframe tbody tr th {\n",
              "        vertical-align: top;\n",
              "    }\n",
              "\n",
              "    .dataframe thead th {\n",
              "        text-align: right;\n",
              "    }\n",
              "</style>\n",
              "<table border=\"1\" class=\"dataframe\">\n",
              "  <thead>\n",
              "    <tr style=\"text-align: right;\">\n",
              "      <th></th>\n",
              "      <th>XLI</th>\n",
              "      <th>QQQ</th>\n",
              "      <th>SPY</th>\n",
              "      <th>DIA</th>\n",
              "      <th>GLD</th>\n",
              "      <th>VXX</th>\n",
              "      <th>USO</th>\n",
              "      <th>IWM</th>\n",
              "      <th>XLE</th>\n",
              "      <th>XLY</th>\n",
              "      <th>XLU</th>\n",
              "      <th>XLB</th>\n",
              "      <th>XTL</th>\n",
              "      <th>XLV</th>\n",
              "      <th>XLP</th>\n",
              "      <th>XLF</th>\n",
              "      <th>XLK</th>\n",
              "    </tr>\n",
              "  </thead>\n",
              "  <tbody>\n",
              "    <tr>\n",
              "      <th>2012-07-02</th>\n",
              "      <td>-0.376098</td>\n",
              "      <td>0.096313</td>\n",
              "      <td>0.028223</td>\n",
              "      <td>-0.242796</td>\n",
              "      <td>0.419998</td>\n",
              "      <td>-10.40</td>\n",
              "      <td>0.000000</td>\n",
              "      <td>0.534641</td>\n",
              "      <td>0.028186</td>\n",
              "      <td>0.095759</td>\n",
              "      <td>0.098311</td>\n",
              "      <td>-0.093713</td>\n",
              "      <td>0.019076</td>\n",
              "      <td>-0.009529</td>\n",
              "      <td>0.313499</td>\n",
              "      <td>0.018999</td>\n",
              "      <td>0.075668</td>\n",
              "    </tr>\n",
              "    <tr>\n",
              "      <th>2012-07-03</th>\n",
              "      <td>0.376099</td>\n",
              "      <td>0.481576</td>\n",
              "      <td>0.874936</td>\n",
              "      <td>0.728405</td>\n",
              "      <td>0.490006</td>\n",
              "      <td>-3.52</td>\n",
              "      <td>0.250000</td>\n",
              "      <td>0.926067</td>\n",
              "      <td>0.995942</td>\n",
              "      <td>0.000000</td>\n",
              "      <td>-0.044686</td>\n",
              "      <td>0.337373</td>\n",
              "      <td>0.000000</td>\n",
              "      <td>0.000000</td>\n",
              "      <td>0.129087</td>\n",
              "      <td>0.104492</td>\n",
              "      <td>0.236462</td>\n",
              "    </tr>\n",
              "    <tr>\n",
              "      <th>2012-07-05</th>\n",
              "      <td>0.150440</td>\n",
              "      <td>0.096313</td>\n",
              "      <td>-0.103487</td>\n",
              "      <td>0.149420</td>\n",
              "      <td>0.239991</td>\n",
              "      <td>6.56</td>\n",
              "      <td>-0.070000</td>\n",
              "      <td>-0.171848</td>\n",
              "      <td>-0.460387</td>\n",
              "      <td>0.306431</td>\n",
              "      <td>-0.151938</td>\n",
              "      <td>0.103086</td>\n",
              "      <td>0.019072</td>\n",
              "      <td>-0.142955</td>\n",
              "      <td>-0.073766</td>\n",
              "      <td>-0.142490</td>\n",
              "      <td>0.066211</td>\n",
              "    </tr>\n",
              "    <tr>\n",
              "      <th>2012-07-06</th>\n",
              "      <td>-0.141040</td>\n",
              "      <td>-0.491201</td>\n",
              "      <td>0.018819</td>\n",
              "      <td>-0.205449</td>\n",
              "      <td>-0.519989</td>\n",
              "      <td>-8.80</td>\n",
              "      <td>-0.180000</td>\n",
              "      <td>-0.229128</td>\n",
              "      <td>0.206706</td>\n",
              "      <td>0.153214</td>\n",
              "      <td>0.080437</td>\n",
              "      <td>0.018744</td>\n",
              "      <td>-0.429213</td>\n",
              "      <td>-0.095304</td>\n",
              "      <td>0.119865</td>\n",
              "      <td>0.066495</td>\n",
              "      <td>-0.227003</td>\n",
              "    </tr>\n",
              "    <tr>\n",
              "      <th>2012-07-09</th>\n",
              "      <td>0.244465</td>\n",
              "      <td>-0.048160</td>\n",
              "      <td>-0.056445</td>\n",
              "      <td>-0.168094</td>\n",
              "      <td>0.429992</td>\n",
              "      <td>-0.48</td>\n",
              "      <td>0.459999</td>\n",
              "      <td>-0.190939</td>\n",
              "      <td>-0.234892</td>\n",
              "      <td>-0.201098</td>\n",
              "      <td>-0.035751</td>\n",
              "      <td>-0.168687</td>\n",
              "      <td>0.000000</td>\n",
              "      <td>0.352630</td>\n",
              "      <td>-0.064548</td>\n",
              "      <td>0.018999</td>\n",
              "      <td>0.009457</td>\n",
              "    </tr>\n",
              "  </tbody>\n",
              "</table>\n",
              "</div>"
            ],
            "text/plain": [
              "                 XLI       QQQ       SPY  ...       XLP       XLF       XLK\n",
              "2012-07-02 -0.376098  0.096313  0.028223  ...  0.313499  0.018999  0.075668\n",
              "2012-07-03  0.376099  0.481576  0.874936  ...  0.129087  0.104492  0.236462\n",
              "2012-07-05  0.150440  0.096313 -0.103487  ... -0.073766 -0.142490  0.066211\n",
              "2012-07-06 -0.141040 -0.491201  0.018819  ...  0.119865  0.066495 -0.227003\n",
              "2012-07-09  0.244465 -0.048160 -0.056445  ... -0.064548  0.018999  0.009457\n",
              "\n",
              "[5 rows x 17 columns]"
            ]
          },
          "metadata": {
            "tags": []
          },
          "execution_count": 30
        }
      ]
    },
    {
      "cell_type": "code",
      "metadata": {
        "colab": {
          "base_uri": "https://localhost:8080/",
          "height": 297
        },
        "id": "e99vV_xGcLk1",
        "outputId": "8d1e674c-537a-40f9-8cd6-7ed7ba531dbe"
      },
      "source": [
        "fig, ax = plt.subplots(figsize=(5, 4))\n",
        "ax = sns.heatmap(etfs.corr(), vmin=-1, vmax=1,\n",
        "                 cmap=sns.diverging_palette(20, 220, as_cmap=True),\n",
        "                 ax=ax)\n",
        "\n",
        "plt.tight_layout()\n",
        "plt.show()"
      ],
      "execution_count": null,
      "outputs": [
        {
          "output_type": "display_data",
          "data": {
            "image/png": "[encoded data removed]",
            "text/plain": [
              "<Figure size 360x288 with 2 Axes>"
            ]
          },
          "metadata": {
            "tags": [],
            "needs_background": "light"
          }
        }
      ]
    },
    {
      "cell_type": "code",
      "metadata": {
        "id": "6s2peqLdc9_l",
        "colab": {
          "base_uri": "https://localhost:8080/",
          "height": 297
        },
        "outputId": "7afecb29-5627-485a-c998-28134fe7b253"
      },
      "source": [
        "from matplotlib.collections import EllipseCollection\n",
        "from matplotlib.colors import Normalize\n",
        "\n",
        "def plot_corr_ellipses(data, figsize=None, **kwargs):\n",
        "    ''' https://stackoverflow.com/a/34558488 '''\n",
        "    M = np.array(data)\n",
        "    if not M.ndim == 2:\n",
        "        raise ValueError('data must be a 2D array')\n",
        "    fig, ax = plt.subplots(1, 1, figsize=figsize, subplot_kw={'aspect':'equal'})\n",
        "    ax.set_xlim(-0.5, M.shape[1] - 0.5)\n",
        "    ax.set_ylim(-0.5, M.shape[0] - 0.5)\n",
        "    ax.invert_yaxis()\n",
        "\n",
        "    # xy locations of each ellipse center\n",
        "    xy = np.indices(M.shape)[::-1].reshape(2, -1).T\n",
        "\n",
        "    # set the relative sizes of the major/minor axes according to the strength\n",
        "    # of the positive/negative correlation\n",
        "    w = np.ones_like(M).ravel() + 0.01\n",
        "    h = 1 - np.abs(M).ravel() - 0.01\n",
        "    a = 45 * np.sign(M).ravel()\n",
        "\n",
        "    ec = EllipseCollection(widths=w, heights=h, angles=a, units='x', offsets=xy,\n",
        "                           norm=Normalize(vmin=-1, vmax=1),\n",
        "                           transOffset=ax.transData, array=M.ravel(), **kwargs)\n",
        "    ax.add_collection(ec)\n",
        "\n",
        "    # if data is a DataFrame, use the row/column names as tick labels\n",
        "    if isinstance(data, pd.DataFrame):\n",
        "        ax.set_xticks(np.arange(M.shape[1]))\n",
        "        ax.set_xticklabels(data.columns, rotation=90)\n",
        "        ax.set_yticks(np.arange(M.shape[0]))\n",
        "        ax.set_yticklabels(data.index)\n",
        "\n",
        "    return ec\n",
        "\n",
        "m = plot_corr_ellipses(etfs.corr(), figsize=(5, 4), cmap='bwr_r')\n",
        "cb = fig.colorbar(m)\n",
        "cb.set_label('Correlation coefficient')\n",
        "\n",
        "plt.tight_layout()\n",
        "plt.show()"
      ],
      "execution_count": null,
      "outputs": [
        {
          "output_type": "display_data",
          "data": {
            "image/png": "[encoded data removed]",
            "text/plain": [
              "<Figure size 360x288 with 1 Axes>"
            ]
          },
          "metadata": {
            "tags": [],
            "needs_background": "light"
          }
        }
      ]
    },
    {
      "cell_type": "markdown",
      "metadata": {
        "id": "7fOptfpBnmUb"
      },
      "source": [
        "### Scatterplots"
      ]
    },
    {
      "cell_type": "code",
      "metadata": {
        "colab": {
          "base_uri": "https://localhost:8080/",
          "height": 297
        },
        "id": "KPmoJWZRj8y6",
        "outputId": "98412c4f-7819-4267-df5b-e1b0ee825ecd"
      },
      "source": [
        "ax = telecom.plot.scatter(x='T', y='VZ', figsize=(4, 4), marker='$\\u25EF$')\n",
        "ax.set_xlabel('ATT (T)')\n",
        "ax.set_ylabel('Verizon (VZ)')\n",
        "ax.axhline(0, color='grey', lw=1)\n",
        "ax.axvline(0, color='grey', lw=1)\n",
        "\n",
        "plt.tight_layout()\n",
        "plt.show()"
      ],
      "execution_count": null,
      "outputs": [
        {
          "output_type": "display_data",
          "data": {
            "image/png": "[encoded data removed]",
            "text/plain": [
              "<Figure size 288x288 with 1 Axes>"
            ]
          },
          "metadata": {
            "tags": [],
            "needs_background": "light"
          }
        }
      ]
    },
    {
      "cell_type": "code",
      "metadata": {
        "colab": {
          "base_uri": "https://localhost:8080/",
          "height": 297
        },
        "id": "_cuAkd1PqOOQ",
        "outputId": "d1bea63a-f903-450b-d10a-54d92a5d5aa9"
      },
      "source": [
        "ax = telecom.plot.scatter(x='T', y='VZ', figsize=(4, 4),\n",
        "                          marker='$\\u25EF$', alpha=0.1)\n",
        "ax.set_xlabel('ATT (T)')\n",
        "ax.set_ylabel('Verizon (VZ)')\n",
        "ax.axhline(0, color='grey', lw=1)\n",
        "ax.axvline(0, color='grey', lw=1)\n",
        "\n",
        "plt.tight_layout()\n",
        "plt.show()"
      ],
      "execution_count": null,
      "outputs": [
        {
          "output_type": "display_data",
          "data": {
            "image/png": "[encoded data removed]",
            "text/plain": [
              "<Figure size 288x288 with 1 Axes>"
            ]
          },
          "metadata": {
            "tags": [],
            "needs_background": "light"
          }
        }
      ]
    },
    {
      "cell_type": "markdown",
      "metadata": {
        "id": "prfCI9M2slqF"
      },
      "source": [
        "## 2 o más variables\n",
        "\n",
        "### Hexbin"
      ]
    },
    {
      "cell_type": "code",
      "metadata": {
        "colab": {
          "base_uri": "https://localhost:8080/"
        },
        "id": "74gO_p2Crs5u",
        "outputId": "4a6622c8-1694-457f-ac5d-08aa9f1648f1"
      },
      "source": [
        "kc_tax = pd.read_csv(KC_TAX_CSV)\n",
        "kc_tax0 = kc_tax.loc[(kc_tax['TaxAssessedValue'] < 750000) &\n",
        "                     (kc_tax['SqFtTotLiving'] > 100) &\n",
        "                     (kc_tax['SqFtTotLiving'] < 3500), :]\n",
        "print(kc_tax.shape, kc_tax0.shape)"
      ],
      "execution_count": null,
      "outputs": [
        {
          "output_type": "stream",
          "text": [
            "(498249, 3) (432693, 3)\n"
          ],
          "name": "stdout"
        }
      ]
    },
    {
      "cell_type": "code",
      "metadata": {
        "colab": {
          "base_uri": "https://localhost:8080/",
          "height": 297
        },
        "id": "I5UU0mjbuddh",
        "outputId": "c8d2559d-92fe-4136-b65c-fa77500a5063"
      },
      "source": [
        "ax = kc_tax0.plot.hexbin(x='SqFtTotLiving', y='TaxAssessedValue',\n",
        "                         gridsize=30, sharex=False, figsize=(5, 4))\n",
        "ax.set_xlabel('Finished Square Feet')\n",
        "ax.set_ylabel('Tax Assessed Value')\n",
        "\n",
        "plt.tight_layout()\n",
        "plt.show()"
      ],
      "execution_count": null,
      "outputs": [
        {
          "output_type": "display_data",
          "data": {
            "image/png": "[encoded data removed]",
            "text/plain": [
              "<Figure size 360x288 with 2 Axes>"
            ]
          },
          "metadata": {
            "tags": [],
            "needs_background": "light"
          }
        }
      ]
    },
    {
      "cell_type": "code",
      "metadata": {
        "id": "XYXDxfo9vQMg"
      },
      "source": [
        "fig, ax = plt.subplots(figsize=(4, 4))\n",
        "ax = sns.kdeplot(kc_tax0['SqFtTotLiving'], kc_tax0['TaxAssessedValue'], ax=ax)\n",
        "ax.set_xlabel('Finished Square Feet')\n",
        "ax.set_ylabel('Tax Assessed Value')\n",
        "\n",
        "plt.tight_layout()\n",
        "plt.show()"
      ],
      "execution_count": null,
      "outputs": []
    },
    {
      "cell_type": "markdown",
      "metadata": {
        "id": "qrPFfgyzzC-X"
      },
      "source": [
        "## 2 Variables Categóricas"
      ]
    },
    {
      "cell_type": "code",
      "metadata": {
        "id": "t7P9Eh_2xb1w"
      },
      "source": [
        "lc_loans = pd.read_csv(LC_LOANS_CSV)"
      ],
      "execution_count": null,
      "outputs": []
    },
    {
      "cell_type": "code",
      "metadata": {
        "colab": {
          "base_uri": "https://localhost:8080/",
          "height": 332
        },
        "id": "XFW-H_AUzLf3",
        "outputId": "18844ffb-f9f6-471a-a849-75ac03b4eda7"
      },
      "source": [
        "crosstab = lc_loans.pivot_table(index='grade', columns='status',\n",
        "                                aggfunc=lambda x: len(x), margins=True)\n",
        "crosstab"
      ],
      "execution_count": null,
      "outputs": [
        {
          "output_type": "execute_result",
          "data": {
            "text/html": [
              "<div>\n",
              "<style scoped>\n",
              "    .dataframe tbody tr th:only-of-type {\n",
              "        vertical-align: middle;\n",
              "    }\n",
              "\n",
              "    .dataframe tbody tr th {\n",
              "        vertical-align: top;\n",
              "    }\n",
              "\n",
              "    .dataframe thead th {\n",
              "        text-align: right;\n",
              "    }\n",
              "</style>\n",
              "<table border=\"1\" class=\"dataframe\">\n",
              "  <thead>\n",
              "    <tr style=\"text-align: right;\">\n",
              "      <th>status</th>\n",
              "      <th>Charged Off</th>\n",
              "      <th>Current</th>\n",
              "      <th>Fully Paid</th>\n",
              "      <th>Late</th>\n",
              "      <th>All</th>\n",
              "    </tr>\n",
              "    <tr>\n",
              "      <th>grade</th>\n",
              "      <th></th>\n",
              "      <th></th>\n",
              "      <th></th>\n",
              "      <th></th>\n",
              "      <th></th>\n",
              "    </tr>\n",
              "  </thead>\n",
              "  <tbody>\n",
              "    <tr>\n",
              "      <th>A</th>\n",
              "      <td>1562</td>\n",
              "      <td>50051</td>\n",
              "      <td>20408</td>\n",
              "      <td>469</td>\n",
              "      <td>72490</td>\n",
              "    </tr>\n",
              "    <tr>\n",
              "      <th>B</th>\n",
              "      <td>5302</td>\n",
              "      <td>93852</td>\n",
              "      <td>31160</td>\n",
              "      <td>2056</td>\n",
              "      <td>132370</td>\n",
              "    </tr>\n",
              "    <tr>\n",
              "      <th>C</th>\n",
              "      <td>6023</td>\n",
              "      <td>88928</td>\n",
              "      <td>23147</td>\n",
              "      <td>2777</td>\n",
              "      <td>120875</td>\n",
              "    </tr>\n",
              "    <tr>\n",
              "      <th>D</th>\n",
              "      <td>5007</td>\n",
              "      <td>53281</td>\n",
              "      <td>13681</td>\n",
              "      <td>2308</td>\n",
              "      <td>74277</td>\n",
              "    </tr>\n",
              "    <tr>\n",
              "      <th>E</th>\n",
              "      <td>2842</td>\n",
              "      <td>24639</td>\n",
              "      <td>5949</td>\n",
              "      <td>1374</td>\n",
              "      <td>34804</td>\n",
              "    </tr>\n",
              "    <tr>\n",
              "      <th>F</th>\n",
              "      <td>1526</td>\n",
              "      <td>8444</td>\n",
              "      <td>2328</td>\n",
              "      <td>606</td>\n",
              "      <td>12904</td>\n",
              "    </tr>\n",
              "    <tr>\n",
              "      <th>G</th>\n",
              "      <td>409</td>\n",
              "      <td>1990</td>\n",
              "      <td>643</td>\n",
              "      <td>199</td>\n",
              "      <td>3241</td>\n",
              "    </tr>\n",
              "    <tr>\n",
              "      <th>All</th>\n",
              "      <td>22671</td>\n",
              "      <td>321185</td>\n",
              "      <td>97316</td>\n",
              "      <td>9789</td>\n",
              "      <td>450961</td>\n",
              "    </tr>\n",
              "  </tbody>\n",
              "</table>\n",
              "</div>"
            ],
            "text/plain": [
              "status  Charged Off  Current  Fully Paid  Late     All\n",
              "grade                                                 \n",
              "A              1562    50051       20408   469   72490\n",
              "B              5302    93852       31160  2056  132370\n",
              "C              6023    88928       23147  2777  120875\n",
              "D              5007    53281       13681  2308   74277\n",
              "E              2842    24639        5949  1374   34804\n",
              "F              1526     8444        2328   606   12904\n",
              "G               409     1990         643   199    3241\n",
              "All           22671   321185       97316  9789  450961"
            ]
          },
          "metadata": {
            "tags": []
          },
          "execution_count": 41
        }
      ]
    },
    {
      "cell_type": "code",
      "metadata": {
        "colab": {
          "base_uri": "https://localhost:8080/",
          "height": 300
        },
        "id": "6QU6ihPx0GsB",
        "outputId": "4a134a46-1a54-4df1-ce45-ada8741a92aa"
      },
      "source": [
        "df = crosstab.copy().loc['A':'G', :]\n",
        "df.loc[:, 'Charged Off':'Late'] =df.loc[:, 'Charged Off':'Late'].div(df['All'], axis=0)\n",
        "df['All'] = df['All'] / sum(df['All'])\n",
        "perc_crosstab = df\n",
        "perc_crosstab"
      ],
      "execution_count": null,
      "outputs": [
        {
          "output_type": "execute_result",
          "data": {
            "text/html": [
              "<div>\n",
              "<style scoped>\n",
              "    .dataframe tbody tr th:only-of-type {\n",
              "        vertical-align: middle;\n",
              "    }\n",
              "\n",
              "    .dataframe tbody tr th {\n",
              "        vertical-align: top;\n",
              "    }\n",
              "\n",
              "    .dataframe thead th {\n",
              "        text-align: right;\n",
              "    }\n",
              "</style>\n",
              "<table border=\"1\" class=\"dataframe\">\n",
              "  <thead>\n",
              "    <tr style=\"text-align: right;\">\n",
              "      <th>status</th>\n",
              "      <th>Charged Off</th>\n",
              "      <th>Current</th>\n",
              "      <th>Fully Paid</th>\n",
              "      <th>Late</th>\n",
              "      <th>All</th>\n",
              "    </tr>\n",
              "    <tr>\n",
              "      <th>grade</th>\n",
              "      <th></th>\n",
              "      <th></th>\n",
              "      <th></th>\n",
              "      <th></th>\n",
              "      <th></th>\n",
              "    </tr>\n",
              "  </thead>\n",
              "  <tbody>\n",
              "    <tr>\n",
              "      <th>A</th>\n",
              "      <td>0.021548</td>\n",
              "      <td>0.690454</td>\n",
              "      <td>0.281528</td>\n",
              "      <td>0.006470</td>\n",
              "      <td>0.160746</td>\n",
              "    </tr>\n",
              "    <tr>\n",
              "      <th>B</th>\n",
              "      <td>0.040054</td>\n",
              "      <td>0.709013</td>\n",
              "      <td>0.235401</td>\n",
              "      <td>0.015532</td>\n",
              "      <td>0.293529</td>\n",
              "    </tr>\n",
              "    <tr>\n",
              "      <th>C</th>\n",
              "      <td>0.049828</td>\n",
              "      <td>0.735702</td>\n",
              "      <td>0.191495</td>\n",
              "      <td>0.022974</td>\n",
              "      <td>0.268039</td>\n",
              "    </tr>\n",
              "    <tr>\n",
              "      <th>D</th>\n",
              "      <td>0.067410</td>\n",
              "      <td>0.717328</td>\n",
              "      <td>0.184189</td>\n",
              "      <td>0.031073</td>\n",
              "      <td>0.164708</td>\n",
              "    </tr>\n",
              "    <tr>\n",
              "      <th>E</th>\n",
              "      <td>0.081657</td>\n",
              "      <td>0.707936</td>\n",
              "      <td>0.170929</td>\n",
              "      <td>0.039478</td>\n",
              "      <td>0.077177</td>\n",
              "    </tr>\n",
              "    <tr>\n",
              "      <th>F</th>\n",
              "      <td>0.118258</td>\n",
              "      <td>0.654371</td>\n",
              "      <td>0.180409</td>\n",
              "      <td>0.046962</td>\n",
              "      <td>0.028614</td>\n",
              "    </tr>\n",
              "    <tr>\n",
              "      <th>G</th>\n",
              "      <td>0.126196</td>\n",
              "      <td>0.614008</td>\n",
              "      <td>0.198396</td>\n",
              "      <td>0.061401</td>\n",
              "      <td>0.007187</td>\n",
              "    </tr>\n",
              "  </tbody>\n",
              "</table>\n",
              "</div>"
            ],
            "text/plain": [
              "status  Charged Off   Current  Fully Paid      Late       All\n",
              "grade                                                        \n",
              "A          0.021548  0.690454    0.281528  0.006470  0.160746\n",
              "B          0.040054  0.709013    0.235401  0.015532  0.293529\n",
              "C          0.049828  0.735702    0.191495  0.022974  0.268039\n",
              "D          0.067410  0.717328    0.184189  0.031073  0.164708\n",
              "E          0.081657  0.707936    0.170929  0.039478  0.077177\n",
              "F          0.118258  0.654371    0.180409  0.046962  0.028614\n",
              "G          0.126196  0.614008    0.198396  0.061401  0.007187"
            ]
          },
          "metadata": {
            "tags": []
          },
          "execution_count": 42
        }
      ]
    },
    {
      "cell_type": "markdown",
      "metadata": {
        "id": "d1lU07TO2OoO"
      },
      "source": [
        "## Violinplot para Data Categórica y Numérica"
      ]
    },
    {
      "cell_type": "code",
      "metadata": {
        "colab": {
          "base_uri": "https://localhost:8080/",
          "height": 206
        },
        "id": "fJ_Bf4Dd2Gtr",
        "outputId": "ae70586f-f1ac-4e26-ea95-221f7fda27f4"
      },
      "source": [
        "airline_stats = pd.read_csv(AIRLINE_STATS_CSV)\n",
        "airline_stats.head()"
      ],
      "execution_count": null,
      "outputs": [
        {
          "output_type": "execute_result",
          "data": {
            "text/html": [
              "<div>\n",
              "<style scoped>\n",
              "    .dataframe tbody tr th:only-of-type {\n",
              "        vertical-align: middle;\n",
              "    }\n",
              "\n",
              "    .dataframe tbody tr th {\n",
              "        vertical-align: top;\n",
              "    }\n",
              "\n",
              "    .dataframe thead th {\n",
              "        text-align: right;\n",
              "    }\n",
              "</style>\n",
              "<table border=\"1\" class=\"dataframe\">\n",
              "  <thead>\n",
              "    <tr style=\"text-align: right;\">\n",
              "      <th></th>\n",
              "      <th>pct_carrier_delay</th>\n",
              "      <th>pct_atc_delay</th>\n",
              "      <th>pct_weather_delay</th>\n",
              "      <th>airline</th>\n",
              "    </tr>\n",
              "  </thead>\n",
              "  <tbody>\n",
              "    <tr>\n",
              "      <th>0</th>\n",
              "      <td>8.153226</td>\n",
              "      <td>1.971774</td>\n",
              "      <td>0.762097</td>\n",
              "      <td>American</td>\n",
              "    </tr>\n",
              "    <tr>\n",
              "      <th>1</th>\n",
              "      <td>5.959924</td>\n",
              "      <td>3.706107</td>\n",
              "      <td>1.585878</td>\n",
              "      <td>American</td>\n",
              "    </tr>\n",
              "    <tr>\n",
              "      <th>2</th>\n",
              "      <td>7.157270</td>\n",
              "      <td>2.706231</td>\n",
              "      <td>2.026706</td>\n",
              "      <td>American</td>\n",
              "    </tr>\n",
              "    <tr>\n",
              "      <th>3</th>\n",
              "      <td>12.100000</td>\n",
              "      <td>11.033333</td>\n",
              "      <td>0.000000</td>\n",
              "      <td>American</td>\n",
              "    </tr>\n",
              "    <tr>\n",
              "      <th>4</th>\n",
              "      <td>7.333333</td>\n",
              "      <td>3.365591</td>\n",
              "      <td>1.774194</td>\n",
              "      <td>American</td>\n",
              "    </tr>\n",
              "  </tbody>\n",
              "</table>\n",
              "</div>"
            ],
            "text/plain": [
              "   pct_carrier_delay  pct_atc_delay  pct_weather_delay   airline\n",
              "0           8.153226       1.971774           0.762097  American\n",
              "1           5.959924       3.706107           1.585878  American\n",
              "2           7.157270       2.706231           2.026706  American\n",
              "3          12.100000      11.033333           0.000000  American\n",
              "4           7.333333       3.365591           1.774194  American"
            ]
          },
          "metadata": {
            "tags": []
          },
          "execution_count": 43
        }
      ]
    },
    {
      "cell_type": "code",
      "metadata": {
        "colab": {
          "base_uri": "https://localhost:8080/",
          "height": 424
        },
        "id": "mXM6rqSR28Vd",
        "outputId": "92ab0197-2218-4fd1-870e-7179d35d9945"
      },
      "source": [
        "ax = airline_stats.boxplot(by='airline', column='pct_carrier_delay',\n",
        "                           figsize=(5, 5))\n",
        "ax.set_xlabel('')\n",
        "ax.set_ylabel('% diario de vuelos demorados')\n",
        "plt.suptitle('')\n",
        "\n",
        "plt.tight_layout()\n",
        "plt.show()"
      ],
      "execution_count": null,
      "outputs": [
        {
          "output_type": "stream",
          "text": [
            "/usr/local/lib/python3.6/dist-packages/numpy/core/_asarray.py:83: VisibleDeprecationWarning: Creating an ndarray from ragged nested sequences (which is a list-or-tuple of lists-or-tuples-or ndarrays with different lengths or shapes) is deprecated. If you meant to do this, you must specify 'dtype=object' when creating the ndarray\n",
            "  return array(a, dtype, copy=False, order=order)\n"
          ],
          "name": "stderr"
        },
        {
          "output_type": "display_data",
          "data": {
            "image/png": "[encoded data removed]",
            "text/plain": [
              "<Figure size 360x360 with 1 Axes>"
            ]
          },
          "metadata": {
            "tags": [],
            "needs_background": "light"
          }
        }
      ]
    },
    {
      "cell_type": "code",
      "metadata": {
        "colab": {
          "base_uri": "https://localhost:8080/",
          "height": 424
        },
        "id": "CdA6eB_13gcv",
        "outputId": "9c9168f3-2261-4d45-cf38-90b6e376bcdc"
      },
      "source": [
        "fig, ax = plt.subplots(figsize=(5, 5))\n",
        "sns.violinplot(airline_stats['airline'], airline_stats['pct_carrier_delay'],\n",
        "               ax=ax, inner='quartile', color='white')\n",
        "ax.set_xlabel('')\n",
        "ax.set_ylabel('% diario de vuelos demorados')\n",
        "\n",
        "plt.tight_layout()\n",
        "plt.show()"
      ],
      "execution_count": null,
      "outputs": [
        {
          "output_type": "stream",
          "text": [
            "/usr/local/lib/python3.6/dist-packages/seaborn/_decorators.py:43: FutureWarning: Pass the following variables as keyword args: x, y. From version 0.12, the only valid positional argument will be `data`, and passing other arguments without an explicit keyword will result in an error or misinterpretation.\n",
            "  FutureWarning\n"
          ],
          "name": "stderr"
        },
        {
          "output_type": "display_data",
          "data": {
            "image/png": "[encoded data removed]",
            "text/plain": [
              "<Figure size 360x360 with 1 Axes>"
            ]
          },
          "metadata": {
            "tags": [],
            "needs_background": "light"
          }
        }
      ]
    },
    {
      "cell_type": "markdown",
      "metadata": {
        "id": "fS0tY8uJ59jS"
      },
      "source": [
        "## Visualización de múltiples variables"
      ]
    },
    {
      "cell_type": "code",
      "metadata": {
        "colab": {
          "base_uri": "https://localhost:8080/",
          "height": 424
        },
        "id": "mOZO58Lv48po",
        "outputId": "ba8b65ce-15e8-4b04-c595-308f98aa715f"
      },
      "source": [
        "zip_codes = [98188, 98105, 98108, 98126]\n",
        "kc_tax_zip = kc_tax0.loc[kc_tax0['ZipCode'].isin(zip_codes), :]\n",
        "kc_tax_zip"
      ],
      "execution_count": null,
      "outputs": [
        {
          "output_type": "execute_result",
          "data": {
            "text/html": [
              "<div>\n",
              "<style scoped>\n",
              "    .dataframe tbody tr th:only-of-type {\n",
              "        vertical-align: middle;\n",
              "    }\n",
              "\n",
              "    .dataframe tbody tr th {\n",
              "        vertical-align: top;\n",
              "    }\n",
              "\n",
              "    .dataframe thead th {\n",
              "        text-align: right;\n",
              "    }\n",
              "</style>\n",
              "<table border=\"1\" class=\"dataframe\">\n",
              "  <thead>\n",
              "    <tr style=\"text-align: right;\">\n",
              "      <th></th>\n",
              "      <th>TaxAssessedValue</th>\n",
              "      <th>SqFtTotLiving</th>\n",
              "      <th>ZipCode</th>\n",
              "    </tr>\n",
              "  </thead>\n",
              "  <tbody>\n",
              "    <tr>\n",
              "      <th>3</th>\n",
              "      <td>361000.0</td>\n",
              "      <td>2000</td>\n",
              "      <td>98108.0</td>\n",
              "    </tr>\n",
              "    <tr>\n",
              "      <th>4</th>\n",
              "      <td>459000.0</td>\n",
              "      <td>3150</td>\n",
              "      <td>98108.0</td>\n",
              "    </tr>\n",
              "    <tr>\n",
              "      <th>10</th>\n",
              "      <td>202000.0</td>\n",
              "      <td>830</td>\n",
              "      <td>98108.0</td>\n",
              "    </tr>\n",
              "    <tr>\n",
              "      <th>11</th>\n",
              "      <td>210000.0</td>\n",
              "      <td>1130</td>\n",
              "      <td>98108.0</td>\n",
              "    </tr>\n",
              "    <tr>\n",
              "      <th>12</th>\n",
              "      <td>193000.0</td>\n",
              "      <td>1560</td>\n",
              "      <td>98108.0</td>\n",
              "    </tr>\n",
              "    <tr>\n",
              "      <th>...</th>\n",
              "      <td>...</td>\n",
              "      <td>...</td>\n",
              "      <td>...</td>\n",
              "    </tr>\n",
              "    <tr>\n",
              "      <th>498049</th>\n",
              "      <td>346000.0</td>\n",
              "      <td>1430</td>\n",
              "      <td>98105.0</td>\n",
              "    </tr>\n",
              "    <tr>\n",
              "      <th>498050</th>\n",
              "      <td>463000.0</td>\n",
              "      <td>1610</td>\n",
              "      <td>98105.0</td>\n",
              "    </tr>\n",
              "    <tr>\n",
              "      <th>498051</th>\n",
              "      <td>553000.0</td>\n",
              "      <td>1580</td>\n",
              "      <td>98105.0</td>\n",
              "    </tr>\n",
              "    <tr>\n",
              "      <th>498052</th>\n",
              "      <td>571000.0</td>\n",
              "      <td>1840</td>\n",
              "      <td>98105.0</td>\n",
              "    </tr>\n",
              "    <tr>\n",
              "      <th>498053</th>\n",
              "      <td>694000.0</td>\n",
              "      <td>2420</td>\n",
              "      <td>98105.0</td>\n",
              "    </tr>\n",
              "  </tbody>\n",
              "</table>\n",
              "<p>19690 rows × 3 columns</p>\n",
              "</div>"
            ],
            "text/plain": [
              "        TaxAssessedValue  SqFtTotLiving  ZipCode\n",
              "3               361000.0           2000  98108.0\n",
              "4               459000.0           3150  98108.0\n",
              "10              202000.0            830  98108.0\n",
              "11              210000.0           1130  98108.0\n",
              "12              193000.0           1560  98108.0\n",
              "...                  ...            ...      ...\n",
              "498049          346000.0           1430  98105.0\n",
              "498050          463000.0           1610  98105.0\n",
              "498051          553000.0           1580  98105.0\n",
              "498052          571000.0           1840  98105.0\n",
              "498053          694000.0           2420  98105.0\n",
              "\n",
              "[19690 rows x 3 columns]"
            ]
          },
          "metadata": {
            "tags": []
          },
          "execution_count": 46
        }
      ]
    },
    {
      "cell_type": "code",
      "metadata": {
        "colab": {
          "base_uri": "https://localhost:8080/",
          "height": 441
        },
        "id": "WmqTePZY6YBt",
        "outputId": "fa0c8edc-b545-40b8-a4f1-53a0e01a5185"
      },
      "source": [
        "def hexbin(x, y, color, **kwargs):\n",
        "    cmap = sns.light_palette(color, as_cmap=True)\n",
        "    plt.hexbin(x, y, gridsize=25, cmap=cmap, **kwargs)\n",
        "\n",
        "g = sns.FacetGrid(kc_tax_zip, col='ZipCode', col_wrap=2)\n",
        "g.map(hexbin, 'SqFtTotLiving', 'TaxAssessedValue',\n",
        "      extent=[0, 3500, 0, 700000])\n",
        "g.set_axis_labels('Finished Square Feet', 'Tax Assessed Value')\n",
        "g.set_titles('Zip code {col_name: .0f}')\n",
        "\n",
        "plt.tight_layout()\n",
        "plt.show()"
      ],
      "execution_count": null,
      "outputs": [
        {
          "output_type": "display_data",
          "data": {
            "image/png": "[encoded data removed]",
            "text/plain": [
              "<Figure size 432x432 with 4 Axes>"
            ]
          },
          "metadata": {
            "tags": [],
            "needs_background": "light"
          }
        }
      ]
    },
    {
      "cell_type": "code",
      "metadata": {
        "id": "KpmHoxl47PNf"
      },
      "source": [
        ""
      ],
      "execution_count": null,
      "outputs": []
    }
  ]
}