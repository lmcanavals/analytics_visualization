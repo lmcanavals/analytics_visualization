{
  "nbformat": 4,
  "nbformat_minor": 0,
  "metadata": {
    "colab": {
      "name": "ea_Interactive_controls.ipynb",
      "provenance": [],
      "collapsed_sections": [],
      "authorship_tag": "ABX9TyNXkYj808KzbAsBfQYsGTNP",
      "include_colab_link": true
    },
    "kernelspec": {
      "name": "python3",
      "display_name": "Python 3"
    },
    "language_info": {
      "name": "python"
    },
    "widgets": {
      "application/vnd.jupyter.widget-state+json": {
        "3a250bd04ed84d18a6a9b06ed4d7be8a": {
          "model_module": "@jupyter-widgets/controls",
          "model_name": "VBoxModel",
          "state": {
            "_view_name": "VBoxView",
            "_dom_classes": [
              "widget-interact"
            ],
            "_model_name": "VBoxModel",
            "_view_module": "@jupyter-widgets/controls",
            "_model_module_version": "1.5.0",
            "_view_count": null,
            "_view_module_version": "1.5.0",
            "box_style": "",
            "layout": "IPY_MODEL_f6f3a5297a6343c190cec30baca56bed",
            "_model_module": "@jupyter-widgets/controls",
            "children": [
              "IPY_MODEL_09a92d08fce343cfa7be75b718c10b1d",
              "IPY_MODEL_d7e4d7cda58f488087349062b606eec4"
            ]
          }
        },
        "f6f3a5297a6343c190cec30baca56bed": {
          "model_module": "@jupyter-widgets/base",
          "model_name": "LayoutModel",
          "state": {
            "_view_name": "LayoutView",
            "grid_template_rows": null,
            "right": null,
            "justify_content": null,
            "_view_module": "@jupyter-widgets/base",
            "overflow": null,
            "_model_module_version": "1.2.0",
            "_view_count": null,
            "flex_flow": null,
            "width": null,
            "min_width": null,
            "border": null,
            "align_items": null,
            "bottom": null,
            "_model_module": "@jupyter-widgets/base",
            "top": null,
            "grid_column": null,
            "overflow_y": null,
            "overflow_x": null,
            "grid_auto_flow": null,
            "grid_area": null,
            "grid_template_columns": null,
            "flex": null,
            "_model_name": "LayoutModel",
            "justify_items": null,
            "grid_row": null,
            "max_height": null,
            "align_content": null,
            "visibility": null,
            "align_self": null,
            "height": null,
            "min_height": null,
            "padding": null,
            "grid_auto_rows": null,
            "grid_gap": null,
            "max_width": null,
            "order": null,
            "_view_module_version": "1.2.0",
            "grid_template_areas": null,
            "object_position": null,
            "object_fit": null,
            "grid_auto_columns": null,
            "margin": null,
            "display": null,
            "left": null
          }
        },
        "09a92d08fce343cfa7be75b718c10b1d": {
          "model_module": "@jupyter-widgets/controls",
          "model_name": "IntSliderModel",
          "state": {
            "_view_name": "IntSliderView",
            "style": "IPY_MODEL_4545b7ba6cde4af199c4225581709079",
            "_dom_classes": [],
            "description": "m",
            "step": 1,
            "_model_name": "IntSliderModel",
            "orientation": "horizontal",
            "max": 3,
            "_view_module": "@jupyter-widgets/controls",
            "_model_module_version": "1.5.0",
            "value": -1,
            "_view_count": null,
            "disabled": false,
            "_view_module_version": "1.5.0",
            "min": -1,
            "continuous_update": true,
            "readout_format": "d",
            "description_tooltip": null,
            "readout": true,
            "_model_module": "@jupyter-widgets/controls",
            "layout": "IPY_MODEL_736ba24c325d4017b838f312da5801e7"
          }
        },
        "d7e4d7cda58f488087349062b606eec4": {
          "model_module": "@jupyter-widgets/output",
          "model_name": "OutputModel",
          "state": {
            "_view_name": "OutputView",
            "msg_id": "",
            "_dom_classes": [],
            "_model_name": "OutputModel",
            "outputs": [
              {
                "output_type": "display_data",
                "metadata": {
                  "tags": [],
                  "needs_background": "light"
                },
                "image/png": "iVBORw0KGgoAAAANSUhEUgAAAX8AAAD8CAYAAACfF6SlAAAABHNCSVQICAgIfAhkiAAAAAlwSFlzAAALEgAACxIB0t1+/AAAADh0RVh0U29mdHdhcmUAbWF0cGxvdGxpYiB2ZXJzaW9uMy4yLjIsIGh0dHA6Ly9tYXRwbG90bGliLm9yZy+WH4yJAAAVCklEQVR4nO3df4wc533f8feXt3dH3pHizxMti1KkxLIFxahr92ooFRo0ltvIjmHpj8Cwm6ZsIoBo4ThOYjSRE6D+r1DaII6LpC4IyxGLCrIFRYmEwE2iKk6DArVsSpatH7QtVrYoUqR4PIoi7yje8shv/9i54x65xzt657hLPe8XIOzO7OzMl5L4eeaZmefZyEwkSWVZ1esCJEmXn+EvSQUy/CWpQIa/JBXI8JekAhn+klSgZYd/RHw5Ig5HxHNt6zZFxOMR8WL1urFaHxHxXyJib0R8NyLetxLFS5J+PJdy5n8/cMd56+4BnsjMm4AnqmWADwE3Vf/sAL7YXZmSpDotO/wz8++Bo+etvhPYVb3fBdzVtv6/Z8s3gA0RcU23xUqS6tHo8vtbM/Ng9f4QsLV6fy3wStt2+6t1BzlPROyg1TtgdHT0H918881dliRJZXnqqaeOZObYpXyn2/Cfl5kZEZc8V0Rm7gR2AoyPj+fu3bvrKkmSihARL1/qd7p92ue1ucs51evhav0B4Lq27bZV6yRJfaDb8H8M2F693w482rb+X1dP/dwKvNF2eUiS1GPLvuwTEQ8C/wzYEhH7gc8B9wIPRcTdwMvAx6rNvwZ8GNgLnAR+pcaaJUldWnb4Z+YnFvno9g7bJvDJH7coSdLKcoSvJBXI8JekAhn+klQgw1+SCmT4S1KBDH9JKpDhL0kFMvwlqUCGvyQVyPCXpAIZ/pJUIMNfkgpk+EtSgQx/SSqQ4S9JBTL8JalAhr8kFcjwl6QCGf6SVCDDX5IKZPhLUoEMf0kqkOEvSQUy/CWpQIa/JBXI8JekAhn+klSgWsI/In4zIp6PiOci4sGIWB0RN0bEkxGxNyK+GhFDdRxLktS9rsM/Iq4Ffh0Yz8x3AwPAx4HfBz6fme8AXgfu7vZYkqR61HXZpwGsiYgGMAIcBD4APFx9vgu4q6ZjSZK61HX4Z+YB4A+AfbRC/w3gKeBYZs5Wm+0Hru32WJKketRx2WcjcCdwI/B2YBS44xK+vyMidkfE7omJiW7LkSQtQx2XfT4I/DAzJzLzNPAIcBuwoboMBLANONDpy5m5MzPHM3N8bGyshnIkSUupI/z3AbdGxEhEBHA78ALwdeAXq222A4/WcCxJUg3quOb/JK0bu08Dz1b73An8DvBbEbEX2Azc1+2xJEn1aCy9ydIy83PA585b/RLw/jr2L0mqlyN8JalAhr8kFcjwl6QCGf6SVCDDX5IKZPhLUoEMf0kqkOEvSQUy/CWpQIa/JBXI8JekAhn+klQgw1+SCmT4S1KBDH9JKpDhL0kFMvwlqUCGvyQVyPCXpAIZ/pJUIMNfkgpk+EtSgQx/SSqQ4S9JBTL8JalAhr8kFcjwl6QCGf6SVKBawj8iNkTEwxHxvYjYExE/ExGbIuLxiHixet1Yx7EkSd2r68z/C8BfZebNwHuAPcA9wBOZeRPwRLUsSeoDXYd/RKwHfha4DyAzm5l5DLgT2FVttgu4q9tjSZLqUceZ/43ABPCnEfHtiPhSRIwCWzPzYLXNIWBrpy9HxI6I2B0RuycmJmooR5K0lDrCvwG8D/hiZr4XmOa8SzyZmUB2+nJm7szM8cwcHxsbq6EcSdJS6gj//cD+zHyyWn6YVmPwWkRcA1C9Hq7hWJKkGnQd/pl5CHglIt5VrbodeAF4DNherdsOPNrtsSRJ9WjUtJ9PAQ9ExBDwEvArtBqWhyLibuBl4GM1HUuS1KVawj8znwHGO3x0ex37lyTVyxG+klQgw1+SCmT4S1KBDH9JKpDhL0kFMvwlqUCGvyQVyPCXpAIZ/pJUIMNfkgpk+EtSgQx/SSqQ4S9JBTL8JalAhr8kFcjwl6QCGf6SVCDDX5IKZPhLUoEMf0kqkOEvSQUy/CWpQIa/JBXI8JekAhn+klQgw1+SCmT4S1KBagv/iBiIiG9HxF9WyzdGxJMRsTcivhoRQ3UdS5LUnTrP/D8N7Glb/n3g85n5DuB14O4ajyVJ6kIt4R8R24BfAL5ULQfwAeDhapNdwF11HEuS1L26zvz/CPht4Gy1vBk4lpmz1fJ+4NpOX4yIHRGxOyJ2T0xM1FSOJOliug7/iPgIcDgzn/pxvp+ZOzNzPDPHx8bGui1HkrQMjRr2cRvw0Yj4MLAauAr4ArAhIhrV2f824EANx5Ik1aDrM//M/GxmbsvMG4CPA3+bmb8EfB34xWqz7cCj3R5LklSPlXzO/3eA34qIvbTuAdy3gseSJF2COi77zMvMvwP+rnr/EvD+OvcvSaqHI3wlqUCGvyQVyPCXpAIZ/pJUIMNfkgpk+EtSgQx/SSqQ4S9JBTL8JalAhr8kFcjwl6QCGf6SVCDDX5IKZPhLUoEMf0kqkOEvSQUy/CWpQIa/JBXI8JekAhn+klQgw1+SCmT4S1KBDH9JKpDhL0kFMvwlqUCGvyQVyPCXpAJ1Hf4RcV1EfD0iXoiI5yPi09X6TRHxeES8WL1u7L5cSVId6jjznwU+k5m3ALcCn4yIW4B7gCcy8ybgiWpZktQHug7/zDyYmU9X708Ae4BrgTuBXdVmu4C7uj2WJKketV7zj4gbgPcCTwJbM/Ng9dEhYOsi39kREbsjYvfExESd5UiSFlFb+EfEWuDPgN/IzOPtn2VmAtnpe5m5MzPHM3N8bGysrnIkSRdRS/hHxCCt4H8gMx+pVr8WEddUn18DHK7jWJKk7tXxtE8A9wF7MvMP2z56DNhevd8OPNrtsSRJ9WjUsI/bgF8Gno2IZ6p1vwvcCzwUEXcDLwMfq+FYkqQadB3+mfl/gFjk49u73b8kqX6O8JWkAhn+klQgw1+SCmT4S1KBDH9JKpDhL0kFMvwlqUCGvyQVyPCXpAIZ/pJUIMNfkgpk+EtSgQx/SSqQ4S9JBTL8JalAhr8kFcjwl6QCGf6SVCDDX5IKZPhLUoEMf0kqkOEvSQUy/CWpQIa/JBXI8JekAhn+klQgw1+SCrTi4R8Rd0TE9yNib0Tcs9LHkyQtbUXDPyIGgD8BPgTcAnwiIm5ZyWNKkpa20mf+7wf2ZuZLmdkEvgLcucLHlCQtYaXD/1rglbbl/dU6SVIPNXpdQETsAHYAXH/99bXu+8mXJjl0/BSbR4fZvHaIzWuH2DQyRGPA+9ySyrbS4X8AuK5teVu1bl5m7gR2AoyPj2edB3/wm/v4i2deXbAuAjaODLF5dKhqEIbZMjrElrXDbF7baiS2rB2abzDWDjeIiDrLkqSei8xa83bhziMawA+A22mF/reAf5mZz3fafnx8PHfv3l3b8Y+fOs3h4zNMTs0wOd1kcmqGianW6+RUk8np1uuRqRmOn5rtuI/hxqqqYZhrMFrvx+bXzTUYw2waHWLQXoWkyywinsrM8Uv5zoqe+WfmbET8GvDXwADw5cWCfyVctXqQq1YP8o6r1y657czsGY5ON+cbg7nG4Ujb8sTUDHsOnmByeobTZzo3mhtGBucbibkexJb2HsXa4fnPr1ptr0JSb6z4Nf/M/BrwtZU+TreGGwNcs34N16xfs+S2mcnxU7MLehRHptoajqrR+P6hE0xOT3Ls5OmO+xkaWDV/L6K9B7HlvOW5z4ca9iok1aPnN3yvRBHB+jWDrF8zyE+OLb396TNnOTq9sEfRaijm1rUakb2Hp5iYmqE5e7bjfq5a3VjQGGxZN9ezWNijGFs7zFVr7FVIWpzhfxkMDqxi61Wr2XrV6iW3zUymm2c4cuJcD2Jy7j7FdOvS0+TUDP9vYopv/qjJ6yebdLpt01gVnXsUVSMx34hUy6sHB1bgTy6pXxn+fSYiWDvcYO1wgxu2jC65/eyZsxw9OddAtHoVEydmFvQ0jkw3+eGRaY5MzXDqdOdexbrhxoLG4Nw9iyG2rBte0MPYsGaQVavsVUhXMsP/CtcYWMXV61Zz9bqlexUAJ5uzHDnR5Eh16WmuR3Fk/r7FDC9PnuTpfa9zdLrJ2Q69ioFVwcaR1g3sLRc89dT22GzVw1gzZK9C6jeGf2FGhhpcv7nB9ZtHltz2zNnk2Mlmq3E4McPE1Mz8E1GtHkbrdd++k0xOzTDdPLPIMQfO3bye70GcazDG2sZYbBwZYsBehbTiDH8tamBVVKE8zDu3rlty+zebZ9ruU8xdcjrXwzgy1WT/6yf5zv5jHJ1ucqZDtyICNo1ceE9i7pLT/GOzVcMxMjTgjW3px2D4qzZrhgbYNjTCto1L9yrOnk3eePP0uctN7Y1E1dOYnG7y7P5jTE41OTHTeRDe6sFV1ZNPrZHam8+7qX2uEXFqD6md4a+eWLUq2Dg6xMbRIW7auvT2p06fWXgTu22MxdwAvINvnOK5V99gcqrJ7CK9ig1rBhf0Kra0jdo+f4yFU3vorczw1xVh9eAAb9+whrdvWOYgvDdn5x+LXTAQb3qGI9W9ij2vHr/o1B5DjVWteZ/WDS+Y2mPLeQPwnNpDVyLDX285EcH6kUHWjyx/ao/Xp+cuQXUeiHf4xAzfO3SCyakmzTOdH5ddv2aw7d7EUNtsssOMObWH+ozhr+INNwZ42/oB3rZ+eYPwTszMtt3EbhuI1zZR4A9em2JyapLXF5naY3AgFozSPvc01LnGY65nsWl0iOGGj8uqXoa/dAkiYn7CwBuXMQjv9JmzvD7dXHBTe+5+xdxN7cmpGfYenuLI1Awzi0ztsW5144KZZBc0Em2Nxvo1g/YqtCTDX1pBgwOruPqq1Vy9zKk9TjbPLBhw136/Yu6S1EtHpvjWj5ocvcjUHptGF96T6NSjcGqPshn+Up+ICEaHG4wON/iJzUv3Ks6cTV4/ufAJqCNTTY5OL1z+0eQ0k1NNTi4yCG/tcOOCyQGd2uOtz/CXrlADq2J+LMNynGzOdvy9ivapyPcdPcnT+45xdHrmkqf2GFt7/sA8p/boZ4a/VIiRoQYjmxpct+nSp/aYH1Nx3jxQr7xyksmpJlOLDMIbGRpYOA1529Qe5wbmObVHLxj+ki5wqVN7nDp9pmOPYu6JqMnpJgeOvcl39x9jcompPc6NoVg4tcf59y2c2qM7hr+krq0eHGDbxkub2mNBI7HgJ1NbjchzB97gyNQMJxYZhDc/tccijUN7b2Ojg/AuYPhLuqzap/Z4x9VLbz8ze2b+9youmIr8RGsuqNeOn+L5V9/g6HRz0d/X3jgyeMGPGV14Sar1WsLUHoa/pL423LjEqT1OzZ67BFVNFDjZfknqRJM9h44zOdXkjTcX+X3tamqPn9g8yoM7bq37j9QXDH9Jbxntv6/9U8v4fe3m7Nn5x2U7TUU+8BY++zf8JRVrqLH839d+q/EOiCQVyPCXpAIZ/pJUIMNfkgpk+EtSgQx/SSpQV+EfEf85Ir4XEd+NiD+PiA1tn302IvZGxPcj4ue7L1WSVJduz/wfB96dmf8A+AHwWYCIuAX4OPDTwB3Af40I53aVpD7RVfhn5t9k5tysS98AtlXv7wS+kpkzmflDYC/w/m6OJUmqT50jfH8V+Gr1/lpajcGc/dW6C0TEDmBHtTgTEc/VWNNK2QIc6XURy2Cd9boS6rwSagTrrNu7LvULS4Z/RPwv4G0dPvq9zHy02ub3gFnggUstIDN3Ajur/ezOzPFL3cflZp31ss76XAk1gnXWLSJ2X+p3lgz/zPzgEgf9N8BHgNsz539O+gBwXdtm26p1kqQ+0O3TPncAvw18NDNPtn30GPDxiBiOiBuBm4BvdnMsSVJ9ur3m/8fAMPB49cMH38jMf5uZz0fEQ8ALtC4HfTIzzyxjfzu7rOdysc56WWd9roQawTrrdsl1xrkrNZKkUjjCV5IKZPhLUoH6Jvwj4o5qKoi9EXFPr+vpJCKui4ivR8QLEfF8RHy61zUtJiIGIuLbEfGXva5lMRGxISIerqYI2RMRP9PrmjqJiN+s/ns/FxEPRkRf/OxTRHw5Ig63j42JiE0R8XhEvFi9buxljVVNnepcdGqYXulUZ9tnn4mIjIgtvajtvFo61hkRn6r+nT4fEf9pqf30RfhXUz/8CfAh4BbgE9UUEf1mFvhMZt4C3Ap8sk/rBPg0sKfXRSzhC8BfZebNwHvow3oj4lrg14HxzHw3MEBr6pJ+cD+t6VPa3QM8kZk3AU9Uy712PxfW2XFqmB67nwvrJCKuA/4FsO9yF7SI+zmvzoj4OVozK7wnM38a+IOldtIX4U9r6oe9mflSZjaBr9D6g/SVzDyYmU9X70/QCquOI5d7KSK2Ab8AfKnXtSwmItYDPwvcB5CZzcw81tuqFtUA1kREAxgBXu1xPQBk5t8DR89bfSewq3q/C7jrshbVQac6LzI1TM8s8u8T4PO0Hmnvi6djFqnz3wH3ZuZMtc3hpfbTL+F/LfBK2/Ki00H0i4i4AXgv8GRvK+noj2j9z3q214VcxI3ABPCn1eWpL0XEaK+LOl9mHqB1FrUPOAi8kZl/09uqLmprZh6s3h8CtvaymGX6VeB/9rqITiLiTuBAZn6n17Us4Z3AP42IJyPif0fEP17qC/0S/leUiFgL/BnwG5l5vNf1tIuIjwCHM/OpXteyhAbwPuCLmfleYJr+uESxQHXN/E5ajdXbgdGI+Fe9rWp5qhH3fXG2uphupoZZaRExAvwu8B96XcsyNIBNtC5H/3vgoagGXy2mX8L/ipkOIiIGaQX/A5n5SK/r6eA24KMR8SNal88+EBH/o7cldbQf2J+Zcz2nh2k1Bv3mg8APM3MiM08DjwD/pMc1XcxrEXENQPW6ZPe/V9qmhvmltqlh+slP0Wr0v1P9fdoGPB0RneY667X9wCPZ8k1avf6L3pzul/D/FnBTRNwYEUO0bqg91uOaLlC1pPcBezLzD3tdTyeZ+dnM3JaZN9D69/i3mdl3Z6qZeQh4JSLmZiO8ndaI8H6zD7g1Ikaq//6304c3pts8Bmyv3m8HHu1hLYu6yNQwfSMzn83MqzPzhurv037gfdX/u/3mL4CfA4iIdwJDLDEbaV+Ef3Xj59eAv6b1F+uhzHy+t1V1dBvwy7TOpp+p/vlwr4u6gn0KeCAivgv8Q+A/9rieC1Q9k4eBp4Fnaf2d6Ysh/xHxIPB/gXdFxP6IuBu4F/jnEfEirV7Lvb2sERat84+BdbSmhnkmIv5bT4tk0Tr7ziJ1fhn4yerxz68A25fqTTm9gyQVqC/O/CVJl5fhL0kFMvwlqUCGvyQVyPCXpAIZ/pJUIMNfkgr0/wHyZmtd2BJn5gAAAABJRU5ErkJggg==\n",
                "text/plain": "<Figure size 432x288 with 1 Axes>"
              }
            ],
            "_view_module": "@jupyter-widgets/output",
            "_model_module_version": "1.0.0",
            "_view_count": null,
            "_view_module_version": "1.0.0",
            "layout": "IPY_MODEL_e2594606d0da46e99b4f2b00dac61337",
            "_model_module": "@jupyter-widgets/output"
          }
        },
        "4545b7ba6cde4af199c4225581709079": {
          "model_module": "@jupyter-widgets/controls",
          "model_name": "SliderStyleModel",
          "state": {
            "_view_name": "StyleView",
            "handle_color": null,
            "_model_name": "SliderStyleModel",
            "description_width": "",
            "_view_module": "@jupyter-widgets/base",
            "_model_module_version": "1.5.0",
            "_view_count": null,
            "_view_module_version": "1.2.0",
            "_model_module": "@jupyter-widgets/controls"
          }
        },
        "736ba24c325d4017b838f312da5801e7": {
          "model_module": "@jupyter-widgets/base",
          "model_name": "LayoutModel",
          "state": {
            "_view_name": "LayoutView",
            "grid_template_rows": null,
            "right": null,
            "justify_content": null,
            "_view_module": "@jupyter-widgets/base",
            "overflow": null,
            "_model_module_version": "1.2.0",
            "_view_count": null,
            "flex_flow": null,
            "width": null,
            "min_width": null,
            "border": null,
            "align_items": null,
            "bottom": null,
            "_model_module": "@jupyter-widgets/base",
            "top": null,
            "grid_column": null,
            "overflow_y": null,
            "overflow_x": null,
            "grid_auto_flow": null,
            "grid_area": null,
            "grid_template_columns": null,
            "flex": null,
            "_model_name": "LayoutModel",
            "justify_items": null,
            "grid_row": null,
            "max_height": null,
            "align_content": null,
            "visibility": null,
            "align_self": null,
            "height": null,
            "min_height": null,
            "padding": null,
            "grid_auto_rows": null,
            "grid_gap": null,
            "max_width": null,
            "order": null,
            "_view_module_version": "1.2.0",
            "grid_template_areas": null,
            "object_position": null,
            "object_fit": null,
            "grid_auto_columns": null,
            "margin": null,
            "display": null,
            "left": null
          }
        },
        "e2594606d0da46e99b4f2b00dac61337": {
          "model_module": "@jupyter-widgets/base",
          "model_name": "LayoutModel",
          "state": {
            "_view_name": "LayoutView",
            "grid_template_rows": null,
            "right": null,
            "justify_content": null,
            "_view_module": "@jupyter-widgets/base",
            "overflow": null,
            "_model_module_version": "1.2.0",
            "_view_count": null,
            "flex_flow": null,
            "width": null,
            "min_width": null,
            "border": null,
            "align_items": null,
            "bottom": null,
            "_model_module": "@jupyter-widgets/base",
            "top": null,
            "grid_column": null,
            "overflow_y": null,
            "overflow_x": null,
            "grid_auto_flow": null,
            "grid_area": null,
            "grid_template_columns": null,
            "flex": null,
            "_model_name": "LayoutModel",
            "justify_items": null,
            "grid_row": null,
            "max_height": null,
            "align_content": null,
            "visibility": null,
            "align_self": null,
            "height": null,
            "min_height": null,
            "padding": null,
            "grid_auto_rows": null,
            "grid_gap": null,
            "max_width": null,
            "order": null,
            "_view_module_version": "1.2.0",
            "grid_template_areas": null,
            "object_position": null,
            "object_fit": null,
            "grid_auto_columns": null,
            "margin": null,
            "display": null,
            "left": null
          }
        },
        "2efc527f54aa423dbd877cd9cc3f8759": {
          "model_module": "@jupyter-widgets/controls",
          "model_name": "VBoxModel",
          "state": {
            "_view_name": "VBoxView",
            "_dom_classes": [
              "widget-interact"
            ],
            "_model_name": "VBoxModel",
            "_view_module": "@jupyter-widgets/controls",
            "_model_module_version": "1.5.0",
            "_view_count": null,
            "_view_module_version": "1.5.0",
            "box_style": "",
            "layout": "IPY_MODEL_5353adfb4c7c49f786e3c9cc226bd344",
            "_model_module": "@jupyter-widgets/controls",
            "children": [
              "IPY_MODEL_18795db83fd24f0ca7801337e1aa6a9d",
              "IPY_MODEL_fe90b783504f4e339fb30dcb99ac731c"
            ]
          }
        },
        "5353adfb4c7c49f786e3c9cc226bd344": {
          "model_module": "@jupyter-widgets/base",
          "model_name": "LayoutModel",
          "state": {
            "_view_name": "LayoutView",
            "grid_template_rows": null,
            "right": null,
            "justify_content": null,
            "_view_module": "@jupyter-widgets/base",
            "overflow": null,
            "_model_module_version": "1.2.0",
            "_view_count": null,
            "flex_flow": null,
            "width": null,
            "min_width": null,
            "border": null,
            "align_items": null,
            "bottom": null,
            "_model_module": "@jupyter-widgets/base",
            "top": null,
            "grid_column": null,
            "overflow_y": null,
            "overflow_x": null,
            "grid_auto_flow": null,
            "grid_area": null,
            "grid_template_columns": null,
            "flex": null,
            "_model_name": "LayoutModel",
            "justify_items": null,
            "grid_row": null,
            "max_height": null,
            "align_content": null,
            "visibility": null,
            "align_self": null,
            "height": null,
            "min_height": null,
            "padding": null,
            "grid_auto_rows": null,
            "grid_gap": null,
            "max_width": null,
            "order": null,
            "_view_module_version": "1.2.0",
            "grid_template_areas": null,
            "object_position": null,
            "object_fit": null,
            "grid_auto_columns": null,
            "margin": null,
            "display": null,
            "left": null
          }
        },
        "18795db83fd24f0ca7801337e1aa6a9d": {
          "model_module": "@jupyter-widgets/controls",
          "model_name": "IntSliderModel",
          "state": {
            "_view_name": "IntSliderView",
            "style": "IPY_MODEL_e1978e303138442d8837d754a14a65ef",
            "_dom_classes": [],
            "description": "m",
            "step": 1,
            "_model_name": "IntSliderModel",
            "orientation": "horizontal",
            "max": 7,
            "_view_module": "@jupyter-widgets/controls",
            "_model_module_version": "1.5.0",
            "value": 1,
            "_view_count": null,
            "disabled": false,
            "_view_module_version": "1.5.0",
            "min": 1,
            "continuous_update": true,
            "readout_format": "d",
            "description_tooltip": null,
            "readout": true,
            "_model_module": "@jupyter-widgets/controls",
            "layout": "IPY_MODEL_a6b1b62bf4054cd8abcc2f3c9d47c6a9"
          }
        },
        "fe90b783504f4e339fb30dcb99ac731c": {
          "model_module": "@jupyter-widgets/output",
          "model_name": "OutputModel",
          "state": {
            "_view_name": "OutputView",
            "msg_id": "",
            "_dom_classes": [],
            "_model_name": "OutputModel",
            "outputs": [
              {
                "output_type": "display_data",
                "metadata": {
                  "tags": [],
                  "needs_background": "light"
                },
                "image/png": "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\n",
                "text/plain": "<Figure size 432x288 with 1 Axes>"
              }
            ],
            "_view_module": "@jupyter-widgets/output",
            "_model_module_version": "1.0.0",
            "_view_count": null,
            "_view_module_version": "1.0.0",
            "layout": "IPY_MODEL_0d82648c733141579ed25994b58c9ab8",
            "_model_module": "@jupyter-widgets/output"
          }
        },
        "e1978e303138442d8837d754a14a65ef": {
          "model_module": "@jupyter-widgets/controls",
          "model_name": "SliderStyleModel",
          "state": {
            "_view_name": "StyleView",
            "handle_color": null,
            "_model_name": "SliderStyleModel",
            "description_width": "",
            "_view_module": "@jupyter-widgets/base",
            "_model_module_version": "1.5.0",
            "_view_count": null,
            "_view_module_version": "1.2.0",
            "_model_module": "@jupyter-widgets/controls"
          }
        },
        "a6b1b62bf4054cd8abcc2f3c9d47c6a9": {
          "model_module": "@jupyter-widgets/base",
          "model_name": "LayoutModel",
          "state": {
            "_view_name": "LayoutView",
            "grid_template_rows": null,
            "right": null,
            "justify_content": null,
            "_view_module": "@jupyter-widgets/base",
            "overflow": null,
            "_model_module_version": "1.2.0",
            "_view_count": null,
            "flex_flow": null,
            "width": null,
            "min_width": null,
            "border": null,
            "align_items": null,
            "bottom": null,
            "_model_module": "@jupyter-widgets/base",
            "top": null,
            "grid_column": null,
            "overflow_y": null,
            "overflow_x": null,
            "grid_auto_flow": null,
            "grid_area": null,
            "grid_template_columns": null,
            "flex": null,
            "_model_name": "LayoutModel",
            "justify_items": null,
            "grid_row": null,
            "max_height": null,
            "align_content": null,
            "visibility": null,
            "align_self": null,
            "height": null,
            "min_height": null,
            "padding": null,
            "grid_auto_rows": null,
            "grid_gap": null,
            "max_width": null,
            "order": null,
            "_view_module_version": "1.2.0",
            "grid_template_areas": null,
            "object_position": null,
            "object_fit": null,
            "grid_auto_columns": null,
            "margin": null,
            "display": null,
            "left": null
          }
        },
        "0d82648c733141579ed25994b58c9ab8": {
          "model_module": "@jupyter-widgets/base",
          "model_name": "LayoutModel",
          "state": {
            "_view_name": "LayoutView",
            "grid_template_rows": null,
            "right": null,
            "justify_content": null,
            "_view_module": "@jupyter-widgets/base",
            "overflow": null,
            "_model_module_version": "1.2.0",
            "_view_count": null,
            "flex_flow": null,
            "width": null,
            "min_width": null,
            "border": null,
            "align_items": null,
            "bottom": null,
            "_model_module": "@jupyter-widgets/base",
            "top": null,
            "grid_column": null,
            "overflow_y": null,
            "overflow_x": null,
            "grid_auto_flow": null,
            "grid_area": null,
            "grid_template_columns": null,
            "flex": null,
            "_model_name": "LayoutModel",
            "justify_items": null,
            "grid_row": null,
            "max_height": null,
            "align_content": null,
            "visibility": null,
            "align_self": null,
            "height": null,
            "min_height": null,
            "padding": null,
            "grid_auto_rows": null,
            "grid_gap": null,
            "max_width": null,
            "order": null,
            "_view_module_version": "1.2.0",
            "grid_template_areas": null,
            "object_position": null,
            "object_fit": null,
            "grid_auto_columns": null,
            "margin": null,
            "display": null,
            "left": null
          }
        },
        "22ffacba4d4640edb7472ab8baf197d4": {
          "model_module": "@jupyter-widgets/controls",
          "model_name": "VBoxModel",
          "state": {
            "_view_name": "VBoxView",
            "_dom_classes": [
              "widget-interact"
            ],
            "_model_name": "VBoxModel",
            "_view_module": "@jupyter-widgets/controls",
            "_model_module_version": "1.5.0",
            "_view_count": null,
            "_view_module_version": "1.5.0",
            "box_style": "",
            "layout": "IPY_MODEL_3cb1feb858f24b39ad72d94d69c9ce83",
            "_model_module": "@jupyter-widgets/controls",
            "children": [
              "IPY_MODEL_7707b1fa7f1948bb9c023a9bee1b2d73",
              "IPY_MODEL_5594d5d7a7cf42f396e5f54c69cd7c69",
              "IPY_MODEL_6f090a2ed0604bdebe980e0e50343e01"
            ]
          }
        },
        "3cb1feb858f24b39ad72d94d69c9ce83": {
          "model_module": "@jupyter-widgets/base",
          "model_name": "LayoutModel",
          "state": {
            "_view_name": "LayoutView",
            "grid_template_rows": null,
            "right": null,
            "justify_content": null,
            "_view_module": "@jupyter-widgets/base",
            "overflow": null,
            "_model_module_version": "1.2.0",
            "_view_count": null,
            "flex_flow": null,
            "width": null,
            "min_width": null,
            "border": null,
            "align_items": null,
            "bottom": null,
            "_model_module": "@jupyter-widgets/base",
            "top": null,
            "grid_column": null,
            "overflow_y": null,
            "overflow_x": null,
            "grid_auto_flow": null,
            "grid_area": null,
            "grid_template_columns": null,
            "flex": null,
            "_model_name": "LayoutModel",
            "justify_items": null,
            "grid_row": null,
            "max_height": null,
            "align_content": null,
            "visibility": null,
            "align_self": null,
            "height": null,
            "min_height": null,
            "padding": null,
            "grid_auto_rows": null,
            "grid_gap": null,
            "max_width": null,
            "order": null,
            "_view_module_version": "1.2.0",
            "grid_template_areas": null,
            "object_position": null,
            "object_fit": null,
            "grid_auto_columns": null,
            "margin": null,
            "display": null,
            "left": null
          }
        },
        "7707b1fa7f1948bb9c023a9bee1b2d73": {
          "model_module": "@jupyter-widgets/controls",
          "model_name": "IntSliderModel",
          "state": {
            "_view_name": "IntSliderView",
            "style": "IPY_MODEL_2eaa2d1807064f77b49a7c498874d167",
            "_dom_classes": [],
            "description": "m",
            "step": 1,
            "_model_name": "IntSliderModel",
            "orientation": "horizontal",
            "max": 7,
            "_view_module": "@jupyter-widgets/controls",
            "_model_module_version": "1.5.0",
            "value": 7,
            "_view_count": null,
            "disabled": false,
            "_view_module_version": "1.5.0",
            "min": 1,
            "continuous_update": true,
            "readout_format": "d",
            "description_tooltip": null,
            "readout": true,
            "_model_module": "@jupyter-widgets/controls",
            "layout": "IPY_MODEL_22474f2395124dd6bdbbbd219730ed5f"
          }
        },
        "5594d5d7a7cf42f396e5f54c69cd7c69": {
          "model_module": "@jupyter-widgets/controls",
          "model_name": "IntSliderModel",
          "state": {
            "_view_name": "IntSliderView",
            "style": "IPY_MODEL_b5a14bbb55b94402a6f0b0eb11158857",
            "_dom_classes": [],
            "description": "b",
            "step": 1,
            "_model_name": "IntSliderModel",
            "orientation": "horizontal",
            "max": 10,
            "_view_module": "@jupyter-widgets/controls",
            "_model_module_version": "1.5.0",
            "value": -9,
            "_view_count": null,
            "disabled": false,
            "_view_module_version": "1.5.0",
            "min": -10,
            "continuous_update": true,
            "readout_format": "d",
            "description_tooltip": null,
            "readout": true,
            "_model_module": "@jupyter-widgets/controls",
            "layout": "IPY_MODEL_af402e9cc4b147a0bf3d9b52d4bf96a7"
          }
        },
        "6f090a2ed0604bdebe980e0e50343e01": {
          "model_module": "@jupyter-widgets/output",
          "model_name": "OutputModel",
          "state": {
            "_view_name": "OutputView",
            "msg_id": "",
            "_dom_classes": [],
            "_model_name": "OutputModel",
            "outputs": [
              {
                "output_type": "display_data",
                "metadata": {
                  "tags": [],
                  "needs_background": "light"
                },
                "image/png": "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\n",
                "text/plain": "<Figure size 432x288 with 1 Axes>"
              }
            ],
            "_view_module": "@jupyter-widgets/output",
            "_model_module_version": "1.0.0",
            "_view_count": null,
            "_view_module_version": "1.0.0",
            "layout": "IPY_MODEL_73f53b9a4f9e4a7e8e16df60a7dd415a",
            "_model_module": "@jupyter-widgets/output"
          }
        },
        "2eaa2d1807064f77b49a7c498874d167": {
          "model_module": "@jupyter-widgets/controls",
          "model_name": "SliderStyleModel",
          "state": {
            "_view_name": "StyleView",
            "handle_color": null,
            "_model_name": "SliderStyleModel",
            "description_width": "",
            "_view_module": "@jupyter-widgets/base",
            "_model_module_version": "1.5.0",
            "_view_count": null,
            "_view_module_version": "1.2.0",
            "_model_module": "@jupyter-widgets/controls"
          }
        },
        "22474f2395124dd6bdbbbd219730ed5f": {
          "model_module": "@jupyter-widgets/base",
          "model_name": "LayoutModel",
          "state": {
            "_view_name": "LayoutView",
            "grid_template_rows": null,
            "right": null,
            "justify_content": null,
            "_view_module": "@jupyter-widgets/base",
            "overflow": null,
            "_model_module_version": "1.2.0",
            "_view_count": null,
            "flex_flow": null,
            "width": null,
            "min_width": null,
            "border": null,
            "align_items": null,
            "bottom": null,
            "_model_module": "@jupyter-widgets/base",
            "top": null,
            "grid_column": null,
            "overflow_y": null,
            "overflow_x": null,
            "grid_auto_flow": null,
            "grid_area": null,
            "grid_template_columns": null,
            "flex": null,
            "_model_name": "LayoutModel",
            "justify_items": null,
            "grid_row": null,
            "max_height": null,
            "align_content": null,
            "visibility": null,
            "align_self": null,
            "height": null,
            "min_height": null,
            "padding": null,
            "grid_auto_rows": null,
            "grid_gap": null,
            "max_width": null,
            "order": null,
            "_view_module_version": "1.2.0",
            "grid_template_areas": null,
            "object_position": null,
            "object_fit": null,
            "grid_auto_columns": null,
            "margin": null,
            "display": null,
            "left": null
          }
        },
        "b5a14bbb55b94402a6f0b0eb11158857": {
          "model_module": "@jupyter-widgets/controls",
          "model_name": "SliderStyleModel",
          "state": {
            "_view_name": "StyleView",
            "handle_color": null,
            "_model_name": "SliderStyleModel",
            "description_width": "",
            "_view_module": "@jupyter-widgets/base",
            "_model_module_version": "1.5.0",
            "_view_count": null,
            "_view_module_version": "1.2.0",
            "_model_module": "@jupyter-widgets/controls"
          }
        },
        "af402e9cc4b147a0bf3d9b52d4bf96a7": {
          "model_module": "@jupyter-widgets/base",
          "model_name": "LayoutModel",
          "state": {
            "_view_name": "LayoutView",
            "grid_template_rows": null,
            "right": null,
            "justify_content": null,
            "_view_module": "@jupyter-widgets/base",
            "overflow": null,
            "_model_module_version": "1.2.0",
            "_view_count": null,
            "flex_flow": null,
            "width": null,
            "min_width": null,
            "border": null,
            "align_items": null,
            "bottom": null,
            "_model_module": "@jupyter-widgets/base",
            "top": null,
            "grid_column": null,
            "overflow_y": null,
            "overflow_x": null,
            "grid_auto_flow": null,
            "grid_area": null,
            "grid_template_columns": null,
            "flex": null,
            "_model_name": "LayoutModel",
            "justify_items": null,
            "grid_row": null,
            "max_height": null,
            "align_content": null,
            "visibility": null,
            "align_self": null,
            "height": null,
            "min_height": null,
            "padding": null,
            "grid_auto_rows": null,
            "grid_gap": null,
            "max_width": null,
            "order": null,
            "_view_module_version": "1.2.0",
            "grid_template_areas": null,
            "object_position": null,
            "object_fit": null,
            "grid_auto_columns": null,
            "margin": null,
            "display": null,
            "left": null
          }
        },
        "73f53b9a4f9e4a7e8e16df60a7dd415a": {
          "model_module": "@jupyter-widgets/base",
          "model_name": "LayoutModel",
          "state": {
            "_view_name": "LayoutView",
            "grid_template_rows": null,
            "right": null,
            "justify_content": null,
            "_view_module": "@jupyter-widgets/base",
            "overflow": null,
            "_model_module_version": "1.2.0",
            "_view_count": null,
            "flex_flow": null,
            "width": null,
            "min_width": null,
            "border": null,
            "align_items": null,
            "bottom": null,
            "_model_module": "@jupyter-widgets/base",
            "top": null,
            "grid_column": null,
            "overflow_y": null,
            "overflow_x": null,
            "grid_auto_flow": null,
            "grid_area": null,
            "grid_template_columns": null,
            "flex": null,
            "_model_name": "LayoutModel",
            "justify_items": null,
            "grid_row": null,
            "max_height": null,
            "align_content": null,
            "visibility": null,
            "align_self": null,
            "height": null,
            "min_height": null,
            "padding": null,
            "grid_auto_rows": null,
            "grid_gap": null,
            "max_width": null,
            "order": null,
            "_view_module_version": "1.2.0",
            "grid_template_areas": null,
            "object_position": null,
            "object_fit": null,
            "grid_auto_columns": null,
            "margin": null,
            "display": null,
            "left": null
          }
        },
        "d63444ca323a4fdaa80503e4e16c9947": {
          "model_module": "@jupyter-widgets/controls",
          "model_name": "VBoxModel",
          "state": {
            "_view_name": "VBoxView",
            "_dom_classes": [
              "widget-interact"
            ],
            "_model_name": "VBoxModel",
            "_view_module": "@jupyter-widgets/controls",
            "_model_module_version": "1.5.0",
            "_view_count": null,
            "_view_module_version": "1.5.0",
            "box_style": "",
            "layout": "IPY_MODEL_b2f04953cda2424a8bce9e7dddcd0ce0",
            "_model_module": "@jupyter-widgets/controls",
            "children": [
              "IPY_MODEL_e5957000dd284fe9a7c532b0730dc41b",
              "IPY_MODEL_8deacfdb0b52404898c2f9db70d9ab03",
              "IPY_MODEL_50883f53c1224176a85cd08b86d15bbe",
              "IPY_MODEL_3137cf046eef4292ab91c3b6dfc2a633",
              "IPY_MODEL_7d33fc6ba9dd4cdfa3ddbb66421d159d",
              "IPY_MODEL_3c80fac4a11b40768e17e1b4db7c2270",
              "IPY_MODEL_4aacdcdcfec14188a94f792f144e1e5f"
            ]
          }
        },
        "b2f04953cda2424a8bce9e7dddcd0ce0": {
          "model_module": "@jupyter-widgets/base",
          "model_name": "LayoutModel",
          "state": {
            "_view_name": "LayoutView",
            "grid_template_rows": null,
            "right": null,
            "justify_content": null,
            "_view_module": "@jupyter-widgets/base",
            "overflow": null,
            "_model_module_version": "1.2.0",
            "_view_count": null,
            "flex_flow": null,
            "width": null,
            "min_width": null,
            "border": null,
            "align_items": null,
            "bottom": null,
            "_model_module": "@jupyter-widgets/base",
            "top": null,
            "grid_column": null,
            "overflow_y": null,
            "overflow_x": null,
            "grid_auto_flow": null,
            "grid_area": null,
            "grid_template_columns": null,
            "flex": null,
            "_model_name": "LayoutModel",
            "justify_items": null,
            "grid_row": null,
            "max_height": null,
            "align_content": null,
            "visibility": null,
            "align_self": null,
            "height": null,
            "min_height": null,
            "padding": null,
            "grid_auto_rows": null,
            "grid_gap": null,
            "max_width": null,
            "order": null,
            "_view_module_version": "1.2.0",
            "grid_template_areas": null,
            "object_position": null,
            "object_fit": null,
            "grid_auto_columns": null,
            "margin": null,
            "display": null,
            "left": null
          }
        },
        "e5957000dd284fe9a7c532b0730dc41b": {
          "model_module": "@jupyter-widgets/controls",
          "model_name": "IntSliderModel",
          "state": {
            "_view_name": "IntSliderView",
            "style": "IPY_MODEL_17bda9f47b454c478a4e022a509cef5b",
            "_dom_classes": [],
            "description": "m",
            "step": 1,
            "_model_name": "IntSliderModel",
            "orientation": "horizontal",
            "max": 7,
            "_view_module": "@jupyter-widgets/controls",
            "_model_module_version": "1.5.0",
            "value": 1,
            "_view_count": null,
            "disabled": false,
            "_view_module_version": "1.5.0",
            "min": 1,
            "continuous_update": true,
            "readout_format": "d",
            "description_tooltip": null,
            "readout": true,
            "_model_module": "@jupyter-widgets/controls",
            "layout": "IPY_MODEL_6e4cd3f1f7564fec84fe7f39dcbe1eae"
          }
        },
        "8deacfdb0b52404898c2f9db70d9ab03": {
          "model_module": "@jupyter-widgets/controls",
          "model_name": "IntSliderModel",
          "state": {
            "_view_name": "IntSliderView",
            "style": "IPY_MODEL_085ea1ed1dc14d33b0411a1e2938b923",
            "_dom_classes": [],
            "description": "b",
            "step": 1,
            "_model_name": "IntSliderModel",
            "orientation": "horizontal",
            "max": 10,
            "_view_module": "@jupyter-widgets/controls",
            "_model_module_version": "1.5.0",
            "value": 10,
            "_view_count": null,
            "disabled": false,
            "_view_module_version": "1.5.0",
            "min": -10,
            "continuous_update": true,
            "readout_format": "d",
            "description_tooltip": null,
            "readout": true,
            "_model_module": "@jupyter-widgets/controls",
            "layout": "IPY_MODEL_82c25b2696d84f6b8333e31f8a417412"
          }
        },
        "50883f53c1224176a85cd08b86d15bbe": {
          "model_module": "@jupyter-widgets/controls",
          "model_name": "IntSliderModel",
          "state": {
            "_view_name": "IntSliderView",
            "style": "IPY_MODEL_94de9861986248d294f9172f6625cdcf",
            "_dom_classes": [],
            "description": "xmin",
            "step": 1,
            "_model_name": "IntSliderModel",
            "orientation": "horizontal",
            "max": 10,
            "_view_module": "@jupyter-widgets/controls",
            "_model_module_version": "1.5.0",
            "value": 0,
            "_view_count": null,
            "disabled": false,
            "_view_module_version": "1.5.0",
            "min": -10,
            "continuous_update": true,
            "readout_format": "d",
            "description_tooltip": null,
            "readout": true,
            "_model_module": "@jupyter-widgets/controls",
            "layout": "IPY_MODEL_eefbbb0e8e70443eadec283e97b8f9e5"
          }
        },
        "3137cf046eef4292ab91c3b6dfc2a633": {
          "model_module": "@jupyter-widgets/controls",
          "model_name": "IntSliderModel",
          "state": {
            "_view_name": "IntSliderView",
            "style": "IPY_MODEL_e9cb9b641b124f03950e1968ceba5667",
            "_dom_classes": [],
            "description": "xmax",
            "step": 1,
            "_model_name": "IntSliderModel",
            "orientation": "horizontal",
            "max": 20,
            "_view_module": "@jupyter-widgets/controls",
            "_model_module_version": "1.5.0",
            "value": 15,
            "_view_count": null,
            "disabled": false,
            "_view_module_version": "1.5.0",
            "min": 10,
            "continuous_update": true,
            "readout_format": "d",
            "description_tooltip": null,
            "readout": true,
            "_model_module": "@jupyter-widgets/controls",
            "layout": "IPY_MODEL_d3f15bd7e3634dda975b65d90db8278c"
          }
        },
        "7d33fc6ba9dd4cdfa3ddbb66421d159d": {
          "model_module": "@jupyter-widgets/controls",
          "model_name": "IntSliderModel",
          "state": {
            "_view_name": "IntSliderView",
            "style": "IPY_MODEL_0b388f10059c4ef29752cf0ded0d4d2d",
            "_dom_classes": [],
            "description": "ymin",
            "step": 1,
            "_model_name": "IntSliderModel",
            "orientation": "horizontal",
            "max": 20,
            "_view_module": "@jupyter-widgets/controls",
            "_model_module_version": "1.5.0",
            "value": 9,
            "_view_count": null,
            "disabled": false,
            "_view_module_version": "1.5.0",
            "min": -30,
            "continuous_update": true,
            "readout_format": "d",
            "description_tooltip": null,
            "readout": true,
            "_model_module": "@jupyter-widgets/controls",
            "layout": "IPY_MODEL_710fe6c356b94d8191351597f79a41d9"
          }
        },
        "3c80fac4a11b40768e17e1b4db7c2270": {
          "model_module": "@jupyter-widgets/controls",
          "model_name": "IntSliderModel",
          "state": {
            "_view_name": "IntSliderView",
            "style": "IPY_MODEL_0f7b5ed857d1407caafc2385c9f22599",
            "_dom_classes": [],
            "description": "ymax",
            "step": 1,
            "_model_name": "IntSliderModel",
            "orientation": "horizontal",
            "max": 200,
            "_view_module": "@jupyter-widgets/controls",
            "_model_module_version": "1.5.0",
            "value": 35,
            "_view_count": null,
            "disabled": false,
            "_view_module_version": "1.5.0",
            "min": 10,
            "continuous_update": true,
            "readout_format": "d",
            "description_tooltip": null,
            "readout": true,
            "_model_module": "@jupyter-widgets/controls",
            "layout": "IPY_MODEL_bc4ba2fdf241461db30293f9eeb534a6"
          }
        },
        "4aacdcdcfec14188a94f792f144e1e5f": {
          "model_module": "@jupyter-widgets/output",
          "model_name": "OutputModel",
          "state": {
            "_view_name": "OutputView",
            "msg_id": "",
            "_dom_classes": [],
            "_model_name": "OutputModel",
            "outputs": [
              {
                "output_type": "display_data",
                "metadata": {
                  "tags": [],
                  "needs_background": "light"
                },
                "image/png": "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\n",
                "text/plain": "<Figure size 432x288 with 1 Axes>"
              }
            ],
            "_view_module": "@jupyter-widgets/output",
            "_model_module_version": "1.0.0",
            "_view_count": null,
            "_view_module_version": "1.0.0",
            "layout": "IPY_MODEL_539f88c1568340938ae0e537d567a93d",
            "_model_module": "@jupyter-widgets/output"
          }
        },
        "17bda9f47b454c478a4e022a509cef5b": {
          "model_module": "@jupyter-widgets/controls",
          "model_name": "SliderStyleModel",
          "state": {
            "_view_name": "StyleView",
            "handle_color": null,
            "_model_name": "SliderStyleModel",
            "description_width": "",
            "_view_module": "@jupyter-widgets/base",
            "_model_module_version": "1.5.0",
            "_view_count": null,
            "_view_module_version": "1.2.0",
            "_model_module": "@jupyter-widgets/controls"
          }
        },
        "6e4cd3f1f7564fec84fe7f39dcbe1eae": {
          "model_module": "@jupyter-widgets/base",
          "model_name": "LayoutModel",
          "state": {
            "_view_name": "LayoutView",
            "grid_template_rows": null,
            "right": null,
            "justify_content": null,
            "_view_module": "@jupyter-widgets/base",
            "overflow": null,
            "_model_module_version": "1.2.0",
            "_view_count": null,
            "flex_flow": null,
            "width": null,
            "min_width": null,
            "border": null,
            "align_items": null,
            "bottom": null,
            "_model_module": "@jupyter-widgets/base",
            "top": null,
            "grid_column": null,
            "overflow_y": null,
            "overflow_x": null,
            "grid_auto_flow": null,
            "grid_area": null,
            "grid_template_columns": null,
            "flex": null,
            "_model_name": "LayoutModel",
            "justify_items": null,
            "grid_row": null,
            "max_height": null,
            "align_content": null,
            "visibility": null,
            "align_self": null,
            "height": null,
            "min_height": null,
            "padding": null,
            "grid_auto_rows": null,
            "grid_gap": null,
            "max_width": null,
            "order": null,
            "_view_module_version": "1.2.0",
            "grid_template_areas": null,
            "object_position": null,
            "object_fit": null,
            "grid_auto_columns": null,
            "margin": null,
            "display": null,
            "left": null
          }
        },
        "085ea1ed1dc14d33b0411a1e2938b923": {
          "model_module": "@jupyter-widgets/controls",
          "model_name": "SliderStyleModel",
          "state": {
            "_view_name": "StyleView",
            "handle_color": null,
            "_model_name": "SliderStyleModel",
            "description_width": "",
            "_view_module": "@jupyter-widgets/base",
            "_model_module_version": "1.5.0",
            "_view_count": null,
            "_view_module_version": "1.2.0",
            "_model_module": "@jupyter-widgets/controls"
          }
        },
        "82c25b2696d84f6b8333e31f8a417412": {
          "model_module": "@jupyter-widgets/base",
          "model_name": "LayoutModel",
          "state": {
            "_view_name": "LayoutView",
            "grid_template_rows": null,
            "right": null,
            "justify_content": null,
            "_view_module": "@jupyter-widgets/base",
            "overflow": null,
            "_model_module_version": "1.2.0",
            "_view_count": null,
            "flex_flow": null,
            "width": null,
            "min_width": null,
            "border": null,
            "align_items": null,
            "bottom": null,
            "_model_module": "@jupyter-widgets/base",
            "top": null,
            "grid_column": null,
            "overflow_y": null,
            "overflow_x": null,
            "grid_auto_flow": null,
            "grid_area": null,
            "grid_template_columns": null,
            "flex": null,
            "_model_name": "LayoutModel",
            "justify_items": null,
            "grid_row": null,
            "max_height": null,
            "align_content": null,
            "visibility": null,
            "align_self": null,
            "height": null,
            "min_height": null,
            "padding": null,
            "grid_auto_rows": null,
            "grid_gap": null,
            "max_width": null,
            "order": null,
            "_view_module_version": "1.2.0",
            "grid_template_areas": null,
            "object_position": null,
            "object_fit": null,
            "grid_auto_columns": null,
            "margin": null,
            "display": null,
            "left": null
          }
        },
        "94de9861986248d294f9172f6625cdcf": {
          "model_module": "@jupyter-widgets/controls",
          "model_name": "SliderStyleModel",
          "state": {
            "_view_name": "StyleView",
            "handle_color": null,
            "_model_name": "SliderStyleModel",
            "description_width": "",
            "_view_module": "@jupyter-widgets/base",
            "_model_module_version": "1.5.0",
            "_view_count": null,
            "_view_module_version": "1.2.0",
            "_model_module": "@jupyter-widgets/controls"
          }
        },
        "eefbbb0e8e70443eadec283e97b8f9e5": {
          "model_module": "@jupyter-widgets/base",
          "model_name": "LayoutModel",
          "state": {
            "_view_name": "LayoutView",
            "grid_template_rows": null,
            "right": null,
            "justify_content": null,
            "_view_module": "@jupyter-widgets/base",
            "overflow": null,
            "_model_module_version": "1.2.0",
            "_view_count": null,
            "flex_flow": null,
            "width": null,
            "min_width": null,
            "border": null,
            "align_items": null,
            "bottom": null,
            "_model_module": "@jupyter-widgets/base",
            "top": null,
            "grid_column": null,
            "overflow_y": null,
            "overflow_x": null,
            "grid_auto_flow": null,
            "grid_area": null,
            "grid_template_columns": null,
            "flex": null,
            "_model_name": "LayoutModel",
            "justify_items": null,
            "grid_row": null,
            "max_height": null,
            "align_content": null,
            "visibility": null,
            "align_self": null,
            "height": null,
            "min_height": null,
            "padding": null,
            "grid_auto_rows": null,
            "grid_gap": null,
            "max_width": null,
            "order": null,
            "_view_module_version": "1.2.0",
            "grid_template_areas": null,
            "object_position": null,
            "object_fit": null,
            "grid_auto_columns": null,
            "margin": null,
            "display": null,
            "left": null
          }
        },
        "e9cb9b641b124f03950e1968ceba5667": {
          "model_module": "@jupyter-widgets/controls",
          "model_name": "SliderStyleModel",
          "state": {
            "_view_name": "StyleView",
            "handle_color": null,
            "_model_name": "SliderStyleModel",
            "description_width": "",
            "_view_module": "@jupyter-widgets/base",
            "_model_module_version": "1.5.0",
            "_view_count": null,
            "_view_module_version": "1.2.0",
            "_model_module": "@jupyter-widgets/controls"
          }
        },
        "d3f15bd7e3634dda975b65d90db8278c": {
          "model_module": "@jupyter-widgets/base",
          "model_name": "LayoutModel",
          "state": {
            "_view_name": "LayoutView",
            "grid_template_rows": null,
            "right": null,
            "justify_content": null,
            "_view_module": "@jupyter-widgets/base",
            "overflow": null,
            "_model_module_version": "1.2.0",
            "_view_count": null,
            "flex_flow": null,
            "width": null,
            "min_width": null,
            "border": null,
            "align_items": null,
            "bottom": null,
            "_model_module": "@jupyter-widgets/base",
            "top": null,
            "grid_column": null,
            "overflow_y": null,
            "overflow_x": null,
            "grid_auto_flow": null,
            "grid_area": null,
            "grid_template_columns": null,
            "flex": null,
            "_model_name": "LayoutModel",
            "justify_items": null,
            "grid_row": null,
            "max_height": null,
            "align_content": null,
            "visibility": null,
            "align_self": null,
            "height": null,
            "min_height": null,
            "padding": null,
            "grid_auto_rows": null,
            "grid_gap": null,
            "max_width": null,
            "order": null,
            "_view_module_version": "1.2.0",
            "grid_template_areas": null,
            "object_position": null,
            "object_fit": null,
            "grid_auto_columns": null,
            "margin": null,
            "display": null,
            "left": null
          }
        },
        "0b388f10059c4ef29752cf0ded0d4d2d": {
          "model_module": "@jupyter-widgets/controls",
          "model_name": "SliderStyleModel",
          "state": {
            "_view_name": "StyleView",
            "handle_color": null,
            "_model_name": "SliderStyleModel",
            "description_width": "",
            "_view_module": "@jupyter-widgets/base",
            "_model_module_version": "1.5.0",
            "_view_count": null,
            "_view_module_version": "1.2.0",
            "_model_module": "@jupyter-widgets/controls"
          }
        },
        "710fe6c356b94d8191351597f79a41d9": {
          "model_module": "@jupyter-widgets/base",
          "model_name": "LayoutModel",
          "state": {
            "_view_name": "LayoutView",
            "grid_template_rows": null,
            "right": null,
            "justify_content": null,
            "_view_module": "@jupyter-widgets/base",
            "overflow": null,
            "_model_module_version": "1.2.0",
            "_view_count": null,
            "flex_flow": null,
            "width": null,
            "min_width": null,
            "border": null,
            "align_items": null,
            "bottom": null,
            "_model_module": "@jupyter-widgets/base",
            "top": null,
            "grid_column": null,
            "overflow_y": null,
            "overflow_x": null,
            "grid_auto_flow": null,
            "grid_area": null,
            "grid_template_columns": null,
            "flex": null,
            "_model_name": "LayoutModel",
            "justify_items": null,
            "grid_row": null,
            "max_height": null,
            "align_content": null,
            "visibility": null,
            "align_self": null,
            "height": null,
            "min_height": null,
            "padding": null,
            "grid_auto_rows": null,
            "grid_gap": null,
            "max_width": null,
            "order": null,
            "_view_module_version": "1.2.0",
            "grid_template_areas": null,
            "object_position": null,
            "object_fit": null,
            "grid_auto_columns": null,
            "margin": null,
            "display": null,
            "left": null
          }
        },
        "0f7b5ed857d1407caafc2385c9f22599": {
          "model_module": "@jupyter-widgets/controls",
          "model_name": "SliderStyleModel",
          "state": {
            "_view_name": "StyleView",
            "handle_color": null,
            "_model_name": "SliderStyleModel",
            "description_width": "",
            "_view_module": "@jupyter-widgets/base",
            "_model_module_version": "1.5.0",
            "_view_count": null,
            "_view_module_version": "1.2.0",
            "_model_module": "@jupyter-widgets/controls"
          }
        },
        "bc4ba2fdf241461db30293f9eeb534a6": {
          "model_module": "@jupyter-widgets/base",
          "model_name": "LayoutModel",
          "state": {
            "_view_name": "LayoutView",
            "grid_template_rows": null,
            "right": null,
            "justify_content": null,
            "_view_module": "@jupyter-widgets/base",
            "overflow": null,
            "_model_module_version": "1.2.0",
            "_view_count": null,
            "flex_flow": null,
            "width": null,
            "min_width": null,
            "border": null,
            "align_items": null,
            "bottom": null,
            "_model_module": "@jupyter-widgets/base",
            "top": null,
            "grid_column": null,
            "overflow_y": null,
            "overflow_x": null,
            "grid_auto_flow": null,
            "grid_area": null,
            "grid_template_columns": null,
            "flex": null,
            "_model_name": "LayoutModel",
            "justify_items": null,
            "grid_row": null,
            "max_height": null,
            "align_content": null,
            "visibility": null,
            "align_self": null,
            "height": null,
            "min_height": null,
            "padding": null,
            "grid_auto_rows": null,
            "grid_gap": null,
            "max_width": null,
            "order": null,
            "_view_module_version": "1.2.0",
            "grid_template_areas": null,
            "object_position": null,
            "object_fit": null,
            "grid_auto_columns": null,
            "margin": null,
            "display": null,
            "left": null
          }
        },
        "539f88c1568340938ae0e537d567a93d": {
          "model_module": "@jupyter-widgets/base",
          "model_name": "LayoutModel",
          "state": {
            "_view_name": "LayoutView",
            "grid_template_rows": null,
            "right": null,
            "justify_content": null,
            "_view_module": "@jupyter-widgets/base",
            "overflow": null,
            "_model_module_version": "1.2.0",
            "_view_count": null,
            "flex_flow": null,
            "width": null,
            "min_width": null,
            "border": null,
            "align_items": null,
            "bottom": null,
            "_model_module": "@jupyter-widgets/base",
            "top": null,
            "grid_column": null,
            "overflow_y": null,
            "overflow_x": null,
            "grid_auto_flow": null,
            "grid_area": null,
            "grid_template_columns": null,
            "flex": null,
            "_model_name": "LayoutModel",
            "justify_items": null,
            "grid_row": null,
            "max_height": null,
            "align_content": null,
            "visibility": null,
            "align_self": null,
            "height": null,
            "min_height": null,
            "padding": null,
            "grid_auto_rows": null,
            "grid_gap": null,
            "max_width": null,
            "order": null,
            "_view_module_version": "1.2.0",
            "grid_template_areas": null,
            "object_position": null,
            "object_fit": null,
            "grid_auto_columns": null,
            "margin": null,
            "display": null,
            "left": null
          }
        },
        "4c21a2a62ca946b6bdb92572c54daaff": {
          "model_module": "@jupyter-widgets/controls",
          "model_name": "VBoxModel",
          "state": {
            "_view_name": "VBoxView",
            "_dom_classes": [
              "widget-interact"
            ],
            "_model_name": "VBoxModel",
            "_view_module": "@jupyter-widgets/controls",
            "_model_module_version": "1.5.0",
            "_view_count": null,
            "_view_module_version": "1.5.0",
            "box_style": "",
            "layout": "IPY_MODEL_d3fdf8a7be6e4a74ab74ff9f6bc4f348",
            "_model_module": "@jupyter-widgets/controls",
            "children": [
              "IPY_MODEL_8dc6aadc596d40b9960db361aa9aea58",
              "IPY_MODEL_e9f0b7e36f5341aeab7c5de0aafad598",
              "IPY_MODEL_d7f91afcc12e46bd9dabbc0fe1599aa4"
            ]
          }
        },
        "d3fdf8a7be6e4a74ab74ff9f6bc4f348": {
          "model_module": "@jupyter-widgets/base",
          "model_name": "LayoutModel",
          "state": {
            "_view_name": "LayoutView",
            "grid_template_rows": null,
            "right": null,
            "justify_content": null,
            "_view_module": "@jupyter-widgets/base",
            "overflow": null,
            "_model_module_version": "1.2.0",
            "_view_count": null,
            "flex_flow": null,
            "width": null,
            "min_width": null,
            "border": null,
            "align_items": null,
            "bottom": null,
            "_model_module": "@jupyter-widgets/base",
            "top": null,
            "grid_column": null,
            "overflow_y": null,
            "overflow_x": null,
            "grid_auto_flow": null,
            "grid_area": null,
            "grid_template_columns": null,
            "flex": null,
            "_model_name": "LayoutModel",
            "justify_items": null,
            "grid_row": null,
            "max_height": null,
            "align_content": null,
            "visibility": null,
            "align_self": null,
            "height": null,
            "min_height": null,
            "padding": null,
            "grid_auto_rows": null,
            "grid_gap": null,
            "max_width": null,
            "order": null,
            "_view_module_version": "1.2.0",
            "grid_template_areas": null,
            "object_position": null,
            "object_fit": null,
            "grid_auto_columns": null,
            "margin": null,
            "display": null,
            "left": null
          }
        },
        "8dc6aadc596d40b9960db361aa9aea58": {
          "model_module": "@jupyter-widgets/controls",
          "model_name": "IntSliderModel",
          "state": {
            "_view_name": "IntSliderView",
            "style": "IPY_MODEL_c723c795682c45508d2e8b3578e21909",
            "_dom_classes": [],
            "description": "a",
            "step": 1,
            "_model_name": "IntSliderModel",
            "orientation": "horizontal",
            "max": 100,
            "_view_module": "@jupyter-widgets/controls",
            "_model_module_version": "1.5.0",
            "value": 51,
            "_view_count": null,
            "disabled": false,
            "_view_module_version": "1.5.0",
            "min": 1,
            "continuous_update": true,
            "readout_format": "d",
            "description_tooltip": null,
            "readout": true,
            "_model_module": "@jupyter-widgets/controls",
            "layout": "IPY_MODEL_3053f09c2f384543bb2841fb878b377d"
          }
        },
        "e9f0b7e36f5341aeab7c5de0aafad598": {
          "model_module": "@jupyter-widgets/controls",
          "model_name": "IntSliderModel",
          "state": {
            "_view_name": "IntSliderView",
            "style": "IPY_MODEL_577d2d2a1aff43d2bceb480676f8fdac",
            "_dom_classes": [],
            "description": "b",
            "step": 1,
            "_model_name": "IntSliderModel",
            "orientation": "horizontal",
            "max": 100,
            "_view_module": "@jupyter-widgets/controls",
            "_model_module_version": "1.5.0",
            "value": 45,
            "_view_count": null,
            "disabled": false,
            "_view_module_version": "1.5.0",
            "min": 1,
            "continuous_update": true,
            "readout_format": "d",
            "description_tooltip": null,
            "readout": true,
            "_model_module": "@jupyter-widgets/controls",
            "layout": "IPY_MODEL_7dcd53495d9c4e55980239190cd5a1f7"
          }
        },
        "d7f91afcc12e46bd9dabbc0fe1599aa4": {
          "model_module": "@jupyter-widgets/output",
          "model_name": "OutputModel",
          "state": {
            "_view_name": "OutputView",
            "msg_id": "",
            "_dom_classes": [],
            "_model_name": "OutputModel",
            "outputs": [
              {
                "output_type": "display_data",
                "metadata": {
                  "tags": []
                },
                "text/plain": "96"
              }
            ],
            "_view_module": "@jupyter-widgets/output",
            "_model_module_version": "1.0.0",
            "_view_count": null,
            "_view_module_version": "1.0.0",
            "layout": "IPY_MODEL_ae633cabb2d94aae88ed660f68bdbdf5",
            "_model_module": "@jupyter-widgets/output"
          }
        },
        "c723c795682c45508d2e8b3578e21909": {
          "model_module": "@jupyter-widgets/controls",
          "model_name": "SliderStyleModel",
          "state": {
            "_view_name": "StyleView",
            "handle_color": null,
            "_model_name": "SliderStyleModel",
            "description_width": "",
            "_view_module": "@jupyter-widgets/base",
            "_model_module_version": "1.5.0",
            "_view_count": null,
            "_view_module_version": "1.2.0",
            "_model_module": "@jupyter-widgets/controls"
          }
        },
        "3053f09c2f384543bb2841fb878b377d": {
          "model_module": "@jupyter-widgets/base",
          "model_name": "LayoutModel",
          "state": {
            "_view_name": "LayoutView",
            "grid_template_rows": null,
            "right": null,
            "justify_content": null,
            "_view_module": "@jupyter-widgets/base",
            "overflow": null,
            "_model_module_version": "1.2.0",
            "_view_count": null,
            "flex_flow": null,
            "width": null,
            "min_width": null,
            "border": null,
            "align_items": null,
            "bottom": null,
            "_model_module": "@jupyter-widgets/base",
            "top": null,
            "grid_column": null,
            "overflow_y": null,
            "overflow_x": null,
            "grid_auto_flow": null,
            "grid_area": null,
            "grid_template_columns": null,
            "flex": null,
            "_model_name": "LayoutModel",
            "justify_items": null,
            "grid_row": null,
            "max_height": null,
            "align_content": null,
            "visibility": null,
            "align_self": null,
            "height": null,
            "min_height": null,
            "padding": null,
            "grid_auto_rows": null,
            "grid_gap": null,
            "max_width": null,
            "order": null,
            "_view_module_version": "1.2.0",
            "grid_template_areas": null,
            "object_position": null,
            "object_fit": null,
            "grid_auto_columns": null,
            "margin": null,
            "display": null,
            "left": null
          }
        },
        "577d2d2a1aff43d2bceb480676f8fdac": {
          "model_module": "@jupyter-widgets/controls",
          "model_name": "SliderStyleModel",
          "state": {
            "_view_name": "StyleView",
            "handle_color": null,
            "_model_name": "SliderStyleModel",
            "description_width": "",
            "_view_module": "@jupyter-widgets/base",
            "_model_module_version": "1.5.0",
            "_view_count": null,
            "_view_module_version": "1.2.0",
            "_model_module": "@jupyter-widgets/controls"
          }
        },
        "7dcd53495d9c4e55980239190cd5a1f7": {
          "model_module": "@jupyter-widgets/base",
          "model_name": "LayoutModel",
          "state": {
            "_view_name": "LayoutView",
            "grid_template_rows": null,
            "right": null,
            "justify_content": null,
            "_view_module": "@jupyter-widgets/base",
            "overflow": null,
            "_model_module_version": "1.2.0",
            "_view_count": null,
            "flex_flow": null,
            "width": null,
            "min_width": null,
            "border": null,
            "align_items": null,
            "bottom": null,
            "_model_module": "@jupyter-widgets/base",
            "top": null,
            "grid_column": null,
            "overflow_y": null,
            "overflow_x": null,
            "grid_auto_flow": null,
            "grid_area": null,
            "grid_template_columns": null,
            "flex": null,
            "_model_name": "LayoutModel",
            "justify_items": null,
            "grid_row": null,
            "max_height": null,
            "align_content": null,
            "visibility": null,
            "align_self": null,
            "height": null,
            "min_height": null,
            "padding": null,
            "grid_auto_rows": null,
            "grid_gap": null,
            "max_width": null,
            "order": null,
            "_view_module_version": "1.2.0",
            "grid_template_areas": null,
            "object_position": null,
            "object_fit": null,
            "grid_auto_columns": null,
            "margin": null,
            "display": null,
            "left": null
          }
        },
        "ae633cabb2d94aae88ed660f68bdbdf5": {
          "model_module": "@jupyter-widgets/base",
          "model_name": "LayoutModel",
          "state": {
            "_view_name": "LayoutView",
            "grid_template_rows": null,
            "right": null,
            "justify_content": null,
            "_view_module": "@jupyter-widgets/base",
            "overflow": null,
            "_model_module_version": "1.2.0",
            "_view_count": null,
            "flex_flow": null,
            "width": null,
            "min_width": null,
            "border": null,
            "align_items": null,
            "bottom": null,
            "_model_module": "@jupyter-widgets/base",
            "top": null,
            "grid_column": null,
            "overflow_y": null,
            "overflow_x": null,
            "grid_auto_flow": null,
            "grid_area": null,
            "grid_template_columns": null,
            "flex": null,
            "_model_name": "LayoutModel",
            "justify_items": null,
            "grid_row": null,
            "max_height": null,
            "align_content": null,
            "visibility": null,
            "align_self": null,
            "height": null,
            "min_height": null,
            "padding": null,
            "grid_auto_rows": null,
            "grid_gap": null,
            "max_width": null,
            "order": null,
            "_view_module_version": "1.2.0",
            "grid_template_areas": null,
            "object_position": null,
            "object_fit": null,
            "grid_auto_columns": null,
            "margin": null,
            "display": null,
            "left": null
          }
        },
        "791144e90c55452186c0cb4a9dcfc8c1": {
          "model_module": "@jupyter-widgets/controls",
          "model_name": "VBoxModel",
          "state": {
            "_view_name": "VBoxView",
            "_dom_classes": [
              "widget-interact"
            ],
            "_model_name": "VBoxModel",
            "_view_module": "@jupyter-widgets/controls",
            "_model_module_version": "1.5.0",
            "_view_count": null,
            "_view_module_version": "1.5.0",
            "box_style": "",
            "layout": "IPY_MODEL_b943fed6d4674b909afe80595a938fdc",
            "_model_module": "@jupyter-widgets/controls",
            "children": [
              "IPY_MODEL_5b26f31759d9405a8aa968210a1fd426",
              "IPY_MODEL_37f9ba5f1344462a8d0fa0cba16f7612",
              "IPY_MODEL_3ef865b8c3534b80a63a879276b3237e"
            ]
          }
        },
        "b943fed6d4674b909afe80595a938fdc": {
          "model_module": "@jupyter-widgets/base",
          "model_name": "LayoutModel",
          "state": {
            "_view_name": "LayoutView",
            "grid_template_rows": null,
            "right": null,
            "justify_content": null,
            "_view_module": "@jupyter-widgets/base",
            "overflow": null,
            "_model_module_version": "1.2.0",
            "_view_count": null,
            "flex_flow": null,
            "width": null,
            "min_width": null,
            "border": null,
            "align_items": null,
            "bottom": null,
            "_model_module": "@jupyter-widgets/base",
            "top": null,
            "grid_column": null,
            "overflow_y": null,
            "overflow_x": null,
            "grid_auto_flow": null,
            "grid_area": null,
            "grid_template_columns": null,
            "flex": null,
            "_model_name": "LayoutModel",
            "justify_items": null,
            "grid_row": null,
            "max_height": null,
            "align_content": null,
            "visibility": null,
            "align_self": null,
            "height": null,
            "min_height": null,
            "padding": null,
            "grid_auto_rows": null,
            "grid_gap": null,
            "max_width": null,
            "order": null,
            "_view_module_version": "1.2.0",
            "grid_template_areas": null,
            "object_position": null,
            "object_fit": null,
            "grid_auto_columns": null,
            "margin": null,
            "display": null,
            "left": null
          }
        },
        "5b26f31759d9405a8aa968210a1fd426": {
          "model_module": "@jupyter-widgets/controls",
          "model_name": "FloatSliderModel",
          "state": {
            "_view_name": "FloatSliderView",
            "style": "IPY_MODEL_92b7dd59cff34a8fb01603e0ea45eb01",
            "_dom_classes": [],
            "description": "a",
            "step": 0.5,
            "_model_name": "FloatSliderModel",
            "orientation": "horizontal",
            "max": 10,
            "_view_module": "@jupyter-widgets/controls",
            "_model_module_version": "1.5.0",
            "value": 8,
            "_view_count": null,
            "disabled": false,
            "_view_module_version": "1.5.0",
            "min": 1,
            "continuous_update": true,
            "readout_format": ".2f",
            "description_tooltip": null,
            "readout": true,
            "_model_module": "@jupyter-widgets/controls",
            "layout": "IPY_MODEL_7fb4d138ef17465cb20717ab496fa710"
          }
        },
        "37f9ba5f1344462a8d0fa0cba16f7612": {
          "model_module": "@jupyter-widgets/controls",
          "model_name": "FloatSliderModel",
          "state": {
            "_view_name": "FloatSliderView",
            "style": "IPY_MODEL_f2790d0042b8443eb2c9d8ef9c967c03",
            "_dom_classes": [],
            "description": "b",
            "step": 0.5,
            "_model_name": "FloatSliderModel",
            "orientation": "horizontal",
            "max": 10,
            "_view_module": "@jupyter-widgets/controls",
            "_model_module_version": "1.5.0",
            "value": 5,
            "_view_count": null,
            "disabled": false,
            "_view_module_version": "1.5.0",
            "min": 1,
            "continuous_update": true,
            "readout_format": ".2f",
            "description_tooltip": null,
            "readout": true,
            "_model_module": "@jupyter-widgets/controls",
            "layout": "IPY_MODEL_261e9eee235949eab2e3a9e52be22f2f"
          }
        },
        "3ef865b8c3534b80a63a879276b3237e": {
          "model_module": "@jupyter-widgets/output",
          "model_name": "OutputModel",
          "state": {
            "_view_name": "OutputView",
            "msg_id": "",
            "_dom_classes": [],
            "_model_name": "OutputModel",
            "outputs": [
              {
                "output_type": "display_data",
                "metadata": {
                  "tags": []
                },
                "text/plain": "13.0"
              }
            ],
            "_view_module": "@jupyter-widgets/output",
            "_model_module_version": "1.0.0",
            "_view_count": null,
            "_view_module_version": "1.0.0",
            "layout": "IPY_MODEL_b3057939eac74e7a884972fd29448f7f",
            "_model_module": "@jupyter-widgets/output"
          }
        },
        "92b7dd59cff34a8fb01603e0ea45eb01": {
          "model_module": "@jupyter-widgets/controls",
          "model_name": "SliderStyleModel",
          "state": {
            "_view_name": "StyleView",
            "handle_color": null,
            "_model_name": "SliderStyleModel",
            "description_width": "",
            "_view_module": "@jupyter-widgets/base",
            "_model_module_version": "1.5.0",
            "_view_count": null,
            "_view_module_version": "1.2.0",
            "_model_module": "@jupyter-widgets/controls"
          }
        },
        "7fb4d138ef17465cb20717ab496fa710": {
          "model_module": "@jupyter-widgets/base",
          "model_name": "LayoutModel",
          "state": {
            "_view_name": "LayoutView",
            "grid_template_rows": null,
            "right": null,
            "justify_content": null,
            "_view_module": "@jupyter-widgets/base",
            "overflow": null,
            "_model_module_version": "1.2.0",
            "_view_count": null,
            "flex_flow": null,
            "width": null,
            "min_width": null,
            "border": null,
            "align_items": null,
            "bottom": null,
            "_model_module": "@jupyter-widgets/base",
            "top": null,
            "grid_column": null,
            "overflow_y": null,
            "overflow_x": null,
            "grid_auto_flow": null,
            "grid_area": null,
            "grid_template_columns": null,
            "flex": null,
            "_model_name": "LayoutModel",
            "justify_items": null,
            "grid_row": null,
            "max_height": null,
            "align_content": null,
            "visibility": null,
            "align_self": null,
            "height": null,
            "min_height": null,
            "padding": null,
            "grid_auto_rows": null,
            "grid_gap": null,
            "max_width": null,
            "order": null,
            "_view_module_version": "1.2.0",
            "grid_template_areas": null,
            "object_position": null,
            "object_fit": null,
            "grid_auto_columns": null,
            "margin": null,
            "display": null,
            "left": null
          }
        },
        "f2790d0042b8443eb2c9d8ef9c967c03": {
          "model_module": "@jupyter-widgets/controls",
          "model_name": "SliderStyleModel",
          "state": {
            "_view_name": "StyleView",
            "handle_color": null,
            "_model_name": "SliderStyleModel",
            "description_width": "",
            "_view_module": "@jupyter-widgets/base",
            "_model_module_version": "1.5.0",
            "_view_count": null,
            "_view_module_version": "1.2.0",
            "_model_module": "@jupyter-widgets/controls"
          }
        },
        "261e9eee235949eab2e3a9e52be22f2f": {
          "model_module": "@jupyter-widgets/base",
          "model_name": "LayoutModel",
          "state": {
            "_view_name": "LayoutView",
            "grid_template_rows": null,
            "right": null,
            "justify_content": null,
            "_view_module": "@jupyter-widgets/base",
            "overflow": null,
            "_model_module_version": "1.2.0",
            "_view_count": null,
            "flex_flow": null,
            "width": null,
            "min_width": null,
            "border": null,
            "align_items": null,
            "bottom": null,
            "_model_module": "@jupyter-widgets/base",
            "top": null,
            "grid_column": null,
            "overflow_y": null,
            "overflow_x": null,
            "grid_auto_flow": null,
            "grid_area": null,
            "grid_template_columns": null,
            "flex": null,
            "_model_name": "LayoutModel",
            "justify_items": null,
            "grid_row": null,
            "max_height": null,
            "align_content": null,
            "visibility": null,
            "align_self": null,
            "height": null,
            "min_height": null,
            "padding": null,
            "grid_auto_rows": null,
            "grid_gap": null,
            "max_width": null,
            "order": null,
            "_view_module_version": "1.2.0",
            "grid_template_areas": null,
            "object_position": null,
            "object_fit": null,
            "grid_auto_columns": null,
            "margin": null,
            "display": null,
            "left": null
          }
        },
        "b3057939eac74e7a884972fd29448f7f": {
          "model_module": "@jupyter-widgets/base",
          "model_name": "LayoutModel",
          "state": {
            "_view_name": "LayoutView",
            "grid_template_rows": null,
            "right": null,
            "justify_content": null,
            "_view_module": "@jupyter-widgets/base",
            "overflow": null,
            "_model_module_version": "1.2.0",
            "_view_count": null,
            "flex_flow": null,
            "width": null,
            "min_width": null,
            "border": null,
            "align_items": null,
            "bottom": null,
            "_model_module": "@jupyter-widgets/base",
            "top": null,
            "grid_column": null,
            "overflow_y": null,
            "overflow_x": null,
            "grid_auto_flow": null,
            "grid_area": null,
            "grid_template_columns": null,
            "flex": null,
            "_model_name": "LayoutModel",
            "justify_items": null,
            "grid_row": null,
            "max_height": null,
            "align_content": null,
            "visibility": null,
            "align_self": null,
            "height": null,
            "min_height": null,
            "padding": null,
            "grid_auto_rows": null,
            "grid_gap": null,
            "max_width": null,
            "order": null,
            "_view_module_version": "1.2.0",
            "grid_template_areas": null,
            "object_position": null,
            "object_fit": null,
            "grid_auto_columns": null,
            "margin": null,
            "display": null,
            "left": null
          }
        },
        "dea68e9ae87b4320b77b82cfa7471d7d": {
          "model_module": "@jupyter-widgets/controls",
          "model_name": "VBoxModel",
          "state": {
            "_view_name": "VBoxView",
            "_dom_classes": [
              "widget-interact"
            ],
            "_model_name": "VBoxModel",
            "_view_module": "@jupyter-widgets/controls",
            "_model_module_version": "1.5.0",
            "_view_count": null,
            "_view_module_version": "1.5.0",
            "box_style": "",
            "layout": "IPY_MODEL_367fddf54d994eba90401f1d6812e6d4",
            "_model_module": "@jupyter-widgets/controls",
            "children": [
              "IPY_MODEL_d821d15151ba405a8005b25f190068bb",
              "IPY_MODEL_f6390310ae5c4225b7366c70c81cfd61",
              "IPY_MODEL_dd3346cb49b844d3a06e66b4d6eb684e"
            ]
          }
        },
        "367fddf54d994eba90401f1d6812e6d4": {
          "model_module": "@jupyter-widgets/base",
          "model_name": "LayoutModel",
          "state": {
            "_view_name": "LayoutView",
            "grid_template_rows": null,
            "right": null,
            "justify_content": null,
            "_view_module": "@jupyter-widgets/base",
            "overflow": null,
            "_model_module_version": "1.2.0",
            "_view_count": null,
            "flex_flow": null,
            "width": null,
            "min_width": null,
            "border": null,
            "align_items": null,
            "bottom": null,
            "_model_module": "@jupyter-widgets/base",
            "top": null,
            "grid_column": null,
            "overflow_y": null,
            "overflow_x": null,
            "grid_auto_flow": null,
            "grid_area": null,
            "grid_template_columns": null,
            "flex": null,
            "_model_name": "LayoutModel",
            "justify_items": null,
            "grid_row": null,
            "max_height": null,
            "align_content": null,
            "visibility": null,
            "align_self": null,
            "height": null,
            "min_height": null,
            "padding": null,
            "grid_auto_rows": null,
            "grid_gap": null,
            "max_width": null,
            "order": null,
            "_view_module_version": "1.2.0",
            "grid_template_areas": null,
            "object_position": null,
            "object_fit": null,
            "grid_auto_columns": null,
            "margin": null,
            "display": null,
            "left": null
          }
        },
        "d821d15151ba405a8005b25f190068bb": {
          "model_module": "@jupyter-widgets/controls",
          "model_name": "DropdownModel",
          "state": {
            "_options_labels": [
              "1",
              "3",
              "5",
              "7",
              "9"
            ],
            "_view_name": "DropdownView",
            "style": "IPY_MODEL_2c06f90b3f534672be0702973d9d3318",
            "_dom_classes": [],
            "description": "a",
            "_model_name": "DropdownModel",
            "index": 2,
            "_view_module": "@jupyter-widgets/controls",
            "_model_module_version": "1.5.0",
            "_view_count": null,
            "disabled": false,
            "_view_module_version": "1.5.0",
            "description_tooltip": null,
            "_model_module": "@jupyter-widgets/controls",
            "layout": "IPY_MODEL_4197aa88303d4e84a5873ce24715411c"
          }
        },
        "f6390310ae5c4225b7366c70c81cfd61": {
          "model_module": "@jupyter-widgets/controls",
          "model_name": "DropdownModel",
          "state": {
            "_options_labels": [
              "1",
              "4",
              "7"
            ],
            "_view_name": "DropdownView",
            "style": "IPY_MODEL_5e58947f8f0149a190f292d406e67ee9",
            "_dom_classes": [],
            "description": "b",
            "_model_name": "DropdownModel",
            "index": 1,
            "_view_module": "@jupyter-widgets/controls",
            "_model_module_version": "1.5.0",
            "_view_count": null,
            "disabled": false,
            "_view_module_version": "1.5.0",
            "description_tooltip": null,
            "_model_module": "@jupyter-widgets/controls",
            "layout": "IPY_MODEL_8cb1d1f6c12b446a851890f8d3a72b7b"
          }
        },
        "dd3346cb49b844d3a06e66b4d6eb684e": {
          "model_module": "@jupyter-widgets/output",
          "model_name": "OutputModel",
          "state": {
            "_view_name": "OutputView",
            "msg_id": "",
            "_dom_classes": [],
            "_model_name": "OutputModel",
            "outputs": [
              {
                "output_type": "display_data",
                "metadata": {
                  "tags": []
                },
                "text/plain": "9"
              }
            ],
            "_view_module": "@jupyter-widgets/output",
            "_model_module_version": "1.0.0",
            "_view_count": null,
            "_view_module_version": "1.0.0",
            "layout": "IPY_MODEL_e0b1946827b149fab5f9626df9bc9819",
            "_model_module": "@jupyter-widgets/output"
          }
        },
        "2c06f90b3f534672be0702973d9d3318": {
          "model_module": "@jupyter-widgets/controls",
          "model_name": "DescriptionStyleModel",
          "state": {
            "_view_name": "StyleView",
            "_model_name": "DescriptionStyleModel",
            "description_width": "",
            "_view_module": "@jupyter-widgets/base",
            "_model_module_version": "1.5.0",
            "_view_count": null,
            "_view_module_version": "1.2.0",
            "_model_module": "@jupyter-widgets/controls"
          }
        },
        "4197aa88303d4e84a5873ce24715411c": {
          "model_module": "@jupyter-widgets/base",
          "model_name": "LayoutModel",
          "state": {
            "_view_name": "LayoutView",
            "grid_template_rows": null,
            "right": null,
            "justify_content": null,
            "_view_module": "@jupyter-widgets/base",
            "overflow": null,
            "_model_module_version": "1.2.0",
            "_view_count": null,
            "flex_flow": null,
            "width": null,
            "min_width": null,
            "border": null,
            "align_items": null,
            "bottom": null,
            "_model_module": "@jupyter-widgets/base",
            "top": null,
            "grid_column": null,
            "overflow_y": null,
            "overflow_x": null,
            "grid_auto_flow": null,
            "grid_area": null,
            "grid_template_columns": null,
            "flex": null,
            "_model_name": "LayoutModel",
            "justify_items": null,
            "grid_row": null,
            "max_height": null,
            "align_content": null,
            "visibility": null,
            "align_self": null,
            "height": null,
            "min_height": null,
            "padding": null,
            "grid_auto_rows": null,
            "grid_gap": null,
            "max_width": null,
            "order": null,
            "_view_module_version": "1.2.0",
            "grid_template_areas": null,
            "object_position": null,
            "object_fit": null,
            "grid_auto_columns": null,
            "margin": null,
            "display": null,
            "left": null
          }
        },
        "5e58947f8f0149a190f292d406e67ee9": {
          "model_module": "@jupyter-widgets/controls",
          "model_name": "DescriptionStyleModel",
          "state": {
            "_view_name": "StyleView",
            "_model_name": "DescriptionStyleModel",
            "description_width": "",
            "_view_module": "@jupyter-widgets/base",
            "_model_module_version": "1.5.0",
            "_view_count": null,
            "_view_module_version": "1.2.0",
            "_model_module": "@jupyter-widgets/controls"
          }
        },
        "8cb1d1f6c12b446a851890f8d3a72b7b": {
          "model_module": "@jupyter-widgets/base",
          "model_name": "LayoutModel",
          "state": {
            "_view_name": "LayoutView",
            "grid_template_rows": null,
            "right": null,
            "justify_content": null,
            "_view_module": "@jupyter-widgets/base",
            "overflow": null,
            "_model_module_version": "1.2.0",
            "_view_count": null,
            "flex_flow": null,
            "width": null,
            "min_width": null,
            "border": null,
            "align_items": null,
            "bottom": null,
            "_model_module": "@jupyter-widgets/base",
            "top": null,
            "grid_column": null,
            "overflow_y": null,
            "overflow_x": null,
            "grid_auto_flow": null,
            "grid_area": null,
            "grid_template_columns": null,
            "flex": null,
            "_model_name": "LayoutModel",
            "justify_items": null,
            "grid_row": null,
            "max_height": null,
            "align_content": null,
            "visibility": null,
            "align_self": null,
            "height": null,
            "min_height": null,
            "padding": null,
            "grid_auto_rows": null,
            "grid_gap": null,
            "max_width": null,
            "order": null,
            "_view_module_version": "1.2.0",
            "grid_template_areas": null,
            "object_position": null,
            "object_fit": null,
            "grid_auto_columns": null,
            "margin": null,
            "display": null,
            "left": null
          }
        },
        "e0b1946827b149fab5f9626df9bc9819": {
          "model_module": "@jupyter-widgets/base",
          "model_name": "LayoutModel",
          "state": {
            "_view_name": "LayoutView",
            "grid_template_rows": null,
            "right": null,
            "justify_content": null,
            "_view_module": "@jupyter-widgets/base",
            "overflow": null,
            "_model_module_version": "1.2.0",
            "_view_count": null,
            "flex_flow": null,
            "width": null,
            "min_width": null,
            "border": null,
            "align_items": null,
            "bottom": null,
            "_model_module": "@jupyter-widgets/base",
            "top": null,
            "grid_column": null,
            "overflow_y": null,
            "overflow_x": null,
            "grid_auto_flow": null,
            "grid_area": null,
            "grid_template_columns": null,
            "flex": null,
            "_model_name": "LayoutModel",
            "justify_items": null,
            "grid_row": null,
            "max_height": null,
            "align_content": null,
            "visibility": null,
            "align_self": null,
            "height": null,
            "min_height": null,
            "padding": null,
            "grid_auto_rows": null,
            "grid_gap": null,
            "max_width": null,
            "order": null,
            "_view_module_version": "1.2.0",
            "grid_template_areas": null,
            "object_position": null,
            "object_fit": null,
            "grid_auto_columns": null,
            "margin": null,
            "display": null,
            "left": null
          }
        },
        "fa337d6d9aba4f0ebf966a55dc8f6196": {
          "model_module": "@jupyter-widgets/controls",
          "model_name": "VBoxModel",
          "state": {
            "_view_name": "VBoxView",
            "_dom_classes": [
              "widget-interact"
            ],
            "_model_name": "VBoxModel",
            "_view_module": "@jupyter-widgets/controls",
            "_model_module_version": "1.5.0",
            "_view_count": null,
            "_view_module_version": "1.5.0",
            "box_style": "",
            "layout": "IPY_MODEL_b641e4f4140c45cfaaa30c75e351d61b",
            "_model_module": "@jupyter-widgets/controls",
            "children": [
              "IPY_MODEL_28f92c5363bf4b7ab73beac2da835738",
              "IPY_MODEL_c58a459e909d46d8a77452075765d699",
              "IPY_MODEL_568bf1add1ef4c13afce537c96726752"
            ]
          }
        },
        "b641e4f4140c45cfaaa30c75e351d61b": {
          "model_module": "@jupyter-widgets/base",
          "model_name": "LayoutModel",
          "state": {
            "_view_name": "LayoutView",
            "grid_template_rows": null,
            "right": null,
            "justify_content": null,
            "_view_module": "@jupyter-widgets/base",
            "overflow": null,
            "_model_module_version": "1.2.0",
            "_view_count": null,
            "flex_flow": null,
            "width": null,
            "min_width": null,
            "border": null,
            "align_items": null,
            "bottom": null,
            "_model_module": "@jupyter-widgets/base",
            "top": null,
            "grid_column": null,
            "overflow_y": null,
            "overflow_x": null,
            "grid_auto_flow": null,
            "grid_area": null,
            "grid_template_columns": null,
            "flex": null,
            "_model_name": "LayoutModel",
            "justify_items": null,
            "grid_row": null,
            "max_height": null,
            "align_content": null,
            "visibility": null,
            "align_self": null,
            "height": null,
            "min_height": null,
            "padding": null,
            "grid_auto_rows": null,
            "grid_gap": null,
            "max_width": null,
            "order": null,
            "_view_module_version": "1.2.0",
            "grid_template_areas": null,
            "object_position": null,
            "object_fit": null,
            "grid_auto_columns": null,
            "margin": null,
            "display": null,
            "left": null
          }
        },
        "28f92c5363bf4b7ab73beac2da835738": {
          "model_module": "@jupyter-widgets/controls",
          "model_name": "DropdownModel",
          "state": {
            "_options_labels": [
              "a",
              "b",
              "c",
              "d"
            ],
            "_view_name": "DropdownView",
            "style": "IPY_MODEL_07102c8756884a999a7e2ee05380e4b5",
            "_dom_classes": [],
            "description": "x",
            "_model_name": "DropdownModel",
            "index": 0,
            "_view_module": "@jupyter-widgets/controls",
            "_model_module_version": "1.5.0",
            "_view_count": null,
            "disabled": false,
            "_view_module_version": "1.5.0",
            "description_tooltip": null,
            "_model_module": "@jupyter-widgets/controls",
            "layout": "IPY_MODEL_cb5ddd7cafae41ab8435f8da669f56d7"
          }
        },
        "c58a459e909d46d8a77452075765d699": {
          "model_module": "@jupyter-widgets/controls",
          "model_name": "DropdownModel",
          "state": {
            "_options_labels": [
              "a",
              "b",
              "c",
              "d"
            ],
            "_view_name": "DropdownView",
            "style": "IPY_MODEL_a4dccf392af841a781af4065af83aad0",
            "_dom_classes": [],
            "description": "y",
            "_model_name": "DropdownModel",
            "index": 3,
            "_view_module": "@jupyter-widgets/controls",
            "_model_module_version": "1.5.0",
            "_view_count": null,
            "disabled": false,
            "_view_module_version": "1.5.0",
            "description_tooltip": null,
            "_model_module": "@jupyter-widgets/controls",
            "layout": "IPY_MODEL_affa3baa5c29491c8c5f1d126ac86a4a"
          }
        },
        "568bf1add1ef4c13afce537c96726752": {
          "model_module": "@jupyter-widgets/output",
          "model_name": "OutputModel",
          "state": {
            "_view_name": "OutputView",
            "msg_id": "",
            "_dom_classes": [],
            "_model_name": "OutputModel",
            "outputs": [
              {
                "output_type": "display_data",
                "metadata": {
                  "tags": [],
                  "needs_background": "light"
                },
                "image/png": "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\n",
                "text/plain": "<Figure size 432x288 with 1 Axes>"
              }
            ],
            "_view_module": "@jupyter-widgets/output",
            "_model_module_version": "1.0.0",
            "_view_count": null,
            "_view_module_version": "1.0.0",
            "layout": "IPY_MODEL_769a75d135984d47985913e2bb1978de",
            "_model_module": "@jupyter-widgets/output"
          }
        },
        "07102c8756884a999a7e2ee05380e4b5": {
          "model_module": "@jupyter-widgets/controls",
          "model_name": "DescriptionStyleModel",
          "state": {
            "_view_name": "StyleView",
            "_model_name": "DescriptionStyleModel",
            "description_width": "",
            "_view_module": "@jupyter-widgets/base",
            "_model_module_version": "1.5.0",
            "_view_count": null,
            "_view_module_version": "1.2.0",
            "_model_module": "@jupyter-widgets/controls"
          }
        },
        "cb5ddd7cafae41ab8435f8da669f56d7": {
          "model_module": "@jupyter-widgets/base",
          "model_name": "LayoutModel",
          "state": {
            "_view_name": "LayoutView",
            "grid_template_rows": null,
            "right": null,
            "justify_content": null,
            "_view_module": "@jupyter-widgets/base",
            "overflow": null,
            "_model_module_version": "1.2.0",
            "_view_count": null,
            "flex_flow": null,
            "width": null,
            "min_width": null,
            "border": null,
            "align_items": null,
            "bottom": null,
            "_model_module": "@jupyter-widgets/base",
            "top": null,
            "grid_column": null,
            "overflow_y": null,
            "overflow_x": null,
            "grid_auto_flow": null,
            "grid_area": null,
            "grid_template_columns": null,
            "flex": null,
            "_model_name": "LayoutModel",
            "justify_items": null,
            "grid_row": null,
            "max_height": null,
            "align_content": null,
            "visibility": null,
            "align_self": null,
            "height": null,
            "min_height": null,
            "padding": null,
            "grid_auto_rows": null,
            "grid_gap": null,
            "max_width": null,
            "order": null,
            "_view_module_version": "1.2.0",
            "grid_template_areas": null,
            "object_position": null,
            "object_fit": null,
            "grid_auto_columns": null,
            "margin": null,
            "display": null,
            "left": null
          }
        },
        "a4dccf392af841a781af4065af83aad0": {
          "model_module": "@jupyter-widgets/controls",
          "model_name": "DescriptionStyleModel",
          "state": {
            "_view_name": "StyleView",
            "_model_name": "DescriptionStyleModel",
            "description_width": "",
            "_view_module": "@jupyter-widgets/base",
            "_model_module_version": "1.5.0",
            "_view_count": null,
            "_view_module_version": "1.2.0",
            "_model_module": "@jupyter-widgets/controls"
          }
        },
        "affa3baa5c29491c8c5f1d126ac86a4a": {
          "model_module": "@jupyter-widgets/base",
          "model_name": "LayoutModel",
          "state": {
            "_view_name": "LayoutView",
            "grid_template_rows": null,
            "right": null,
            "justify_content": null,
            "_view_module": "@jupyter-widgets/base",
            "overflow": null,
            "_model_module_version": "1.2.0",
            "_view_count": null,
            "flex_flow": null,
            "width": null,
            "min_width": null,
            "border": null,
            "align_items": null,
            "bottom": null,
            "_model_module": "@jupyter-widgets/base",
            "top": null,
            "grid_column": null,
            "overflow_y": null,
            "overflow_x": null,
            "grid_auto_flow": null,
            "grid_area": null,
            "grid_template_columns": null,
            "flex": null,
            "_model_name": "LayoutModel",
            "justify_items": null,
            "grid_row": null,
            "max_height": null,
            "align_content": null,
            "visibility": null,
            "align_self": null,
            "height": null,
            "min_height": null,
            "padding": null,
            "grid_auto_rows": null,
            "grid_gap": null,
            "max_width": null,
            "order": null,
            "_view_module_version": "1.2.0",
            "grid_template_areas": null,
            "object_position": null,
            "object_fit": null,
            "grid_auto_columns": null,
            "margin": null,
            "display": null,
            "left": null
          }
        },
        "769a75d135984d47985913e2bb1978de": {
          "model_module": "@jupyter-widgets/base",
          "model_name": "LayoutModel",
          "state": {
            "_view_name": "LayoutView",
            "grid_template_rows": null,
            "right": null,
            "justify_content": null,
            "_view_module": "@jupyter-widgets/base",
            "overflow": null,
            "_model_module_version": "1.2.0",
            "_view_count": null,
            "flex_flow": null,
            "width": null,
            "min_width": null,
            "border": null,
            "align_items": null,
            "bottom": null,
            "_model_module": "@jupyter-widgets/base",
            "top": null,
            "grid_column": null,
            "overflow_y": null,
            "overflow_x": null,
            "grid_auto_flow": null,
            "grid_area": null,
            "grid_template_columns": null,
            "flex": null,
            "_model_name": "LayoutModel",
            "justify_items": null,
            "grid_row": null,
            "max_height": null,
            "align_content": null,
            "visibility": null,
            "align_self": null,
            "height": null,
            "min_height": null,
            "padding": null,
            "grid_auto_rows": null,
            "grid_gap": null,
            "max_width": null,
            "order": null,
            "_view_module_version": "1.2.0",
            "grid_template_areas": null,
            "object_position": null,
            "object_fit": null,
            "grid_auto_columns": null,
            "margin": null,
            "display": null,
            "left": null
          }
        },
        "592029ac8e2a48fdbcdd4f73322354e9": {
          "model_module": "@jupyter-widgets/controls",
          "model_name": "VBoxModel",
          "state": {
            "_view_name": "VBoxView",
            "_dom_classes": [
              "widget-interact"
            ],
            "_model_name": "VBoxModel",
            "_view_module": "@jupyter-widgets/controls",
            "_model_module_version": "1.5.0",
            "_view_count": null,
            "_view_module_version": "1.5.0",
            "box_style": "",
            "layout": "IPY_MODEL_bea3d878158b475c982a6443941f2900",
            "_model_module": "@jupyter-widgets/controls",
            "children": [
              "IPY_MODEL_dde4010dd69b4cb7ba18218e5692913c",
              "IPY_MODEL_d7dad92b1dd74266a79bcd98a472ed62"
            ]
          }
        },
        "bea3d878158b475c982a6443941f2900": {
          "model_module": "@jupyter-widgets/base",
          "model_name": "LayoutModel",
          "state": {
            "_view_name": "LayoutView",
            "grid_template_rows": null,
            "right": null,
            "justify_content": null,
            "_view_module": "@jupyter-widgets/base",
            "overflow": null,
            "_model_module_version": "1.2.0",
            "_view_count": null,
            "flex_flow": null,
            "width": null,
            "min_width": null,
            "border": null,
            "align_items": null,
            "bottom": null,
            "_model_module": "@jupyter-widgets/base",
            "top": null,
            "grid_column": null,
            "overflow_y": null,
            "overflow_x": null,
            "grid_auto_flow": null,
            "grid_area": null,
            "grid_template_columns": null,
            "flex": null,
            "_model_name": "LayoutModel",
            "justify_items": null,
            "grid_row": null,
            "max_height": null,
            "align_content": null,
            "visibility": null,
            "align_self": null,
            "height": null,
            "min_height": null,
            "padding": null,
            "grid_auto_rows": null,
            "grid_gap": null,
            "max_width": null,
            "order": null,
            "_view_module_version": "1.2.0",
            "grid_template_areas": null,
            "object_position": null,
            "object_fit": null,
            "grid_auto_columns": null,
            "margin": null,
            "display": null,
            "left": null
          }
        },
        "dde4010dd69b4cb7ba18218e5692913c": {
          "model_module": "@jupyter-widgets/controls",
          "model_name": "CheckboxModel",
          "state": {
            "_view_name": "CheckboxView",
            "style": "IPY_MODEL_4d0e54d122f247d3826edc38bb603e23",
            "_dom_classes": [],
            "description": "val",
            "_model_name": "CheckboxModel",
            "_view_module": "@jupyter-widgets/controls",
            "_model_module_version": "1.5.0",
            "value": true,
            "_view_count": null,
            "disabled": false,
            "_view_module_version": "1.5.0",
            "indent": true,
            "description_tooltip": null,
            "_model_module": "@jupyter-widgets/controls",
            "layout": "IPY_MODEL_c711f36822604d428e7798007b6940d5"
          }
        },
        "d7dad92b1dd74266a79bcd98a472ed62": {
          "model_module": "@jupyter-widgets/output",
          "model_name": "OutputModel",
          "state": {
            "_view_name": "OutputView",
            "msg_id": "",
            "_dom_classes": [],
            "_model_name": "OutputModel",
            "outputs": [
              {
                "output_type": "display_data",
                "metadata": {
                  "tags": []
                },
                "application/vnd.google.colaboratory.intrinsic+json": {
                  "type": "string"
                },
                "text/plain": "'hola'"
              }
            ],
            "_view_module": "@jupyter-widgets/output",
            "_model_module_version": "1.0.0",
            "_view_count": null,
            "_view_module_version": "1.0.0",
            "layout": "IPY_MODEL_98e0faacd8c648f5842eca6e13cafae5",
            "_model_module": "@jupyter-widgets/output"
          }
        },
        "4d0e54d122f247d3826edc38bb603e23": {
          "model_module": "@jupyter-widgets/controls",
          "model_name": "DescriptionStyleModel",
          "state": {
            "_view_name": "StyleView",
            "_model_name": "DescriptionStyleModel",
            "description_width": "",
            "_view_module": "@jupyter-widgets/base",
            "_model_module_version": "1.5.0",
            "_view_count": null,
            "_view_module_version": "1.2.0",
            "_model_module": "@jupyter-widgets/controls"
          }
        },
        "c711f36822604d428e7798007b6940d5": {
          "model_module": "@jupyter-widgets/base",
          "model_name": "LayoutModel",
          "state": {
            "_view_name": "LayoutView",
            "grid_template_rows": null,
            "right": null,
            "justify_content": null,
            "_view_module": "@jupyter-widgets/base",
            "overflow": null,
            "_model_module_version": "1.2.0",
            "_view_count": null,
            "flex_flow": null,
            "width": null,
            "min_width": null,
            "border": null,
            "align_items": null,
            "bottom": null,
            "_model_module": "@jupyter-widgets/base",
            "top": null,
            "grid_column": null,
            "overflow_y": null,
            "overflow_x": null,
            "grid_auto_flow": null,
            "grid_area": null,
            "grid_template_columns": null,
            "flex": null,
            "_model_name": "LayoutModel",
            "justify_items": null,
            "grid_row": null,
            "max_height": null,
            "align_content": null,
            "visibility": null,
            "align_self": null,
            "height": null,
            "min_height": null,
            "padding": null,
            "grid_auto_rows": null,
            "grid_gap": null,
            "max_width": null,
            "order": null,
            "_view_module_version": "1.2.0",
            "grid_template_areas": null,
            "object_position": null,
            "object_fit": null,
            "grid_auto_columns": null,
            "margin": null,
            "display": null,
            "left": null
          }
        },
        "98e0faacd8c648f5842eca6e13cafae5": {
          "model_module": "@jupyter-widgets/base",
          "model_name": "LayoutModel",
          "state": {
            "_view_name": "LayoutView",
            "grid_template_rows": null,
            "right": null,
            "justify_content": null,
            "_view_module": "@jupyter-widgets/base",
            "overflow": null,
            "_model_module_version": "1.2.0",
            "_view_count": null,
            "flex_flow": null,
            "width": null,
            "min_width": null,
            "border": null,
            "align_items": null,
            "bottom": null,
            "_model_module": "@jupyter-widgets/base",
            "top": null,
            "grid_column": null,
            "overflow_y": null,
            "overflow_x": null,
            "grid_auto_flow": null,
            "grid_area": null,
            "grid_template_columns": null,
            "flex": null,
            "_model_name": "LayoutModel",
            "justify_items": null,
            "grid_row": null,
            "max_height": null,
            "align_content": null,
            "visibility": null,
            "align_self": null,
            "height": null,
            "min_height": null,
            "padding": null,
            "grid_auto_rows": null,
            "grid_gap": null,
            "max_width": null,
            "order": null,
            "_view_module_version": "1.2.0",
            "grid_template_areas": null,
            "object_position": null,
            "object_fit": null,
            "grid_auto_columns": null,
            "margin": null,
            "display": null,
            "left": null
          }
        }
      }
    }
  },
  "cells": [
    {
      "cell_type": "markdown",
      "metadata": {
        "id": "view-in-github",
        "colab_type": "text"
      },
      "source": [
        "<a href=\"https://colab.research.google.com/github/lmcanavals/analytics_visualization/blob/main/notebooks/ea_Interactive_controls.ipynb\" target=\"_parent\"><img src=\"https://colab.research.google.com/assets/colab-badge.svg\" alt=\"Open In Colab\"/></a>"
      ]
    },
    {
      "cell_type": "code",
      "metadata": {
        "id": "1qYk0i-eaFUR"
      },
      "source": [
        "import matplotlib.pyplot as plt\n",
        "import matplotlib as mpl\n",
        "import numpy as np\n",
        "\n",
        "from ipywidgets import interact, interactive, fixed, interact_manual\n",
        "import ipywidgets as widgets"
      ],
      "execution_count": null,
      "outputs": []
    },
    {
      "cell_type": "code",
      "metadata": {
        "colab": {
          "base_uri": "https://localhost:8080/"
        },
        "id": "o14xgKztahSo",
        "outputId": "255808c1-781a-4e35-af33-56a3026454cd"
      },
      "source": [
        "x = np.arange(1, 15)\n",
        "x"
      ],
      "execution_count": null,
      "outputs": [
        {
          "output_type": "execute_result",
          "data": {
            "text/plain": [
              "array([ 1,  2,  3,  4,  5,  6,  7,  8,  9, 10, 11, 12, 13, 14])"
            ]
          },
          "metadata": {
            "tags": []
          },
          "execution_count": 4
        }
      ]
    },
    {
      "cell_type": "code",
      "metadata": {
        "colab": {
          "base_uri": "https://localhost:8080/"
        },
        "id": "-1j5TaCWbQK0",
        "outputId": "9a3150db-8cd9-48a7-e0c8-09a7de308e5c"
      },
      "source": [
        "y = x * 5\n",
        "y"
      ],
      "execution_count": null,
      "outputs": [
        {
          "output_type": "execute_result",
          "data": {
            "text/plain": [
              "array([ 5, 10, 15, 20, 25, 30, 35, 40, 45, 50, 55, 60, 65, 70])"
            ]
          },
          "metadata": {
            "tags": []
          },
          "execution_count": 5
        }
      ]
    },
    {
      "cell_type": "code",
      "metadata": {
        "colab": {
          "base_uri": "https://localhost:8080/",
          "height": 269
        },
        "id": "r4rbvK0XbVsd",
        "outputId": "0be3b79d-17e3-4b8c-d2bb-b30081df7f7a"
      },
      "source": [
        "plt.plot(x, y)\n",
        "plt.axis([0, 16, -20, 100])\n",
        "plt.show()"
      ],
      "execution_count": null,
      "outputs": [
        {
          "output_type": "display_data",
          "data": {
            "image/png": "[encoded data removed]",
            "text/plain": [
              "<Figure size 432x288 with 1 Axes>"
            ]
          },
          "metadata": {
            "tags": [],
            "needs_background": "light"
          }
        }
      ]
    },
    {
      "cell_type": "code",
      "metadata": {
        "id": "vL9Xq70-bcUa"
      },
      "source": [
        "def f(m):\n",
        "  y = x * m\n",
        "  plt.plot(x, y)\n",
        "  plt.axis([0, 16, -20, 100])"
      ],
      "execution_count": null,
      "outputs": []
    },
    {
      "cell_type": "code",
      "metadata": {
        "colab": {
          "base_uri": "https://localhost:8080/",
          "height": 269
        },
        "id": "u7EpT9DXbtxk",
        "outputId": "7b9f69b5-dd0f-405c-c7c1-1dcbd5a9881c"
      },
      "source": [
        "f(5)"
      ],
      "execution_count": null,
      "outputs": [
        {
          "output_type": "display_data",
          "data": {
            "image/png": "[encoded data removed]",
            "text/plain": [
              "<Figure size 432x288 with 1 Axes>"
            ]
          },
          "metadata": {
            "tags": [],
            "needs_background": "light"
          }
        }
      ]
    },
    {
      "cell_type": "code",
      "metadata": {
        "colab": {
          "base_uri": "https://localhost:8080/",
          "height": 319,
          "referenced_widgets": [
            "3a250bd04ed84d18a6a9b06ed4d7be8a",
            "f6f3a5297a6343c190cec30baca56bed",
            "09a92d08fce343cfa7be75b718c10b1d",
            "d7e4d7cda58f488087349062b606eec4",
            "4545b7ba6cde4af199c4225581709079",
            "736ba24c325d4017b838f312da5801e7",
            "e2594606d0da46e99b4f2b00dac61337"
          ]
        },
        "id": "eJg5CA5obvxx",
        "outputId": "65f4eddc-fd11-4611-d9f4-b61b418a6bb9"
      },
      "source": [
        "interact(f, m=1)"
      ],
      "execution_count": null,
      "outputs": [
        {
          "output_type": "display_data",
          "data": {
            "application/vnd.jupyter.widget-view+json": {
              "model_id": "3a250bd04ed84d18a6a9b06ed4d7be8a",
              "version_minor": 0,
              "version_major": 2
            },
            "text/plain": [
              "interactive(children=(IntSlider(value=1, description='m', max=3, min=-1), Output()), _dom_classes=('widget-int…"
            ]
          },
          "metadata": {
            "tags": []
          }
        },
        {
          "output_type": "execute_result",
          "data": {
            "text/plain": [
              "<function __main__.f>"
            ]
          },
          "metadata": {
            "tags": []
          },
          "execution_count": 10
        }
      ]
    },
    {
      "cell_type": "code",
      "metadata": {
        "colab": {
          "base_uri": "https://localhost:8080/",
          "height": 319,
          "referenced_widgets": [
            "2efc527f54aa423dbd877cd9cc3f8759",
            "5353adfb4c7c49f786e3c9cc226bd344",
            "18795db83fd24f0ca7801337e1aa6a9d",
            "fe90b783504f4e339fb30dcb99ac731c",
            "e1978e303138442d8837d754a14a65ef",
            "a6b1b62bf4054cd8abcc2f3c9d47c6a9",
            "0d82648c733141579ed25994b58c9ab8"
          ]
        },
        "id": "9evKMrLCb8wU",
        "outputId": "553a6e45-e3ab-40e7-901b-fc62c1af3434"
      },
      "source": [
        "interact(f, m=(1, 7))"
      ],
      "execution_count": null,
      "outputs": [
        {
          "output_type": "display_data",
          "data": {
            "application/vnd.jupyter.widget-view+json": {
              "model_id": "2efc527f54aa423dbd877cd9cc3f8759",
              "version_minor": 0,
              "version_major": 2
            },
            "text/plain": [
              "interactive(children=(IntSlider(value=4, description='m', max=7, min=1), Output()), _dom_classes=('widget-inte…"
            ]
          },
          "metadata": {
            "tags": []
          }
        },
        {
          "output_type": "execute_result",
          "data": {
            "text/plain": [
              "<function __main__.f>"
            ]
          },
          "metadata": {
            "tags": []
          },
          "execution_count": 11
        }
      ]
    },
    {
      "cell_type": "code",
      "metadata": {
        "id": "kyVNQjUHcK1f"
      },
      "source": [
        "def f(m, b):\n",
        "  y = x * m + b\n",
        "  plt.plot(x, y)\n",
        "  plt.axis([0, 16, -20, 100])"
      ],
      "execution_count": null,
      "outputs": []
    },
    {
      "cell_type": "code",
      "metadata": {
        "colab": {
          "base_uri": "https://localhost:8080/",
          "height": 351,
          "referenced_widgets": [
            "22ffacba4d4640edb7472ab8baf197d4",
            "3cb1feb858f24b39ad72d94d69c9ce83",
            "7707b1fa7f1948bb9c023a9bee1b2d73",
            "5594d5d7a7cf42f396e5f54c69cd7c69",
            "6f090a2ed0604bdebe980e0e50343e01",
            "2eaa2d1807064f77b49a7c498874d167",
            "22474f2395124dd6bdbbbd219730ed5f",
            "b5a14bbb55b94402a6f0b0eb11158857",
            "af402e9cc4b147a0bf3d9b52d4bf96a7",
            "73f53b9a4f9e4a7e8e16df60a7dd415a"
          ]
        },
        "id": "rPblWVQPc29n",
        "outputId": "b576263e-ad1d-485f-cf0a-a0626cd773a5"
      },
      "source": [
        "interact(f, m=(1, 7), b=(-10, 10))"
      ],
      "execution_count": null,
      "outputs": [
        {
          "output_type": "display_data",
          "data": {
            "application/vnd.jupyter.widget-view+json": {
              "model_id": "22ffacba4d4640edb7472ab8baf197d4",
              "version_minor": 0,
              "version_major": 2
            },
            "text/plain": [
              "interactive(children=(IntSlider(value=4, description='m', max=7, min=1), IntSlider(value=0, description='b', m…"
            ]
          },
          "metadata": {
            "tags": []
          }
        },
        {
          "output_type": "execute_result",
          "data": {
            "text/plain": [
              "<function __main__.f>"
            ]
          },
          "metadata": {
            "tags": []
          },
          "execution_count": 13
        }
      ]
    },
    {
      "cell_type": "code",
      "metadata": {
        "id": "kbEort50c9aa"
      },
      "source": [
        "def f(m, b, xmin, xmax, ymin, ymax):\n",
        "  y = x * m + b\n",
        "  plt.plot(x, y)\n",
        "  plt.axis([xmin, xmax, ymin, ymax])"
      ],
      "execution_count": null,
      "outputs": []
    },
    {
      "cell_type": "code",
      "metadata": {
        "colab": {
          "base_uri": "https://localhost:8080/",
          "height": 479,
          "referenced_widgets": [
            "d63444ca323a4fdaa80503e4e16c9947",
            "b2f04953cda2424a8bce9e7dddcd0ce0",
            "e5957000dd284fe9a7c532b0730dc41b",
            "8deacfdb0b52404898c2f9db70d9ab03",
            "50883f53c1224176a85cd08b86d15bbe",
            "3137cf046eef4292ab91c3b6dfc2a633",
            "7d33fc6ba9dd4cdfa3ddbb66421d159d",
            "3c80fac4a11b40768e17e1b4db7c2270",
            "4aacdcdcfec14188a94f792f144e1e5f",
            "17bda9f47b454c478a4e022a509cef5b",
            "6e4cd3f1f7564fec84fe7f39dcbe1eae",
            "085ea1ed1dc14d33b0411a1e2938b923",
            "82c25b2696d84f6b8333e31f8a417412",
            "94de9861986248d294f9172f6625cdcf",
            "eefbbb0e8e70443eadec283e97b8f9e5",
            "e9cb9b641b124f03950e1968ceba5667",
            "d3f15bd7e3634dda975b65d90db8278c",
            "0b388f10059c4ef29752cf0ded0d4d2d",
            "710fe6c356b94d8191351597f79a41d9",
            "0f7b5ed857d1407caafc2385c9f22599",
            "bc4ba2fdf241461db30293f9eeb534a6",
            "539f88c1568340938ae0e537d567a93d"
          ]
        },
        "id": "06UYlRdbdPkC",
        "outputId": "1cbffd25-5ad3-46bf-c709-071a6f594932"
      },
      "source": [
        "interact(f, m=(1, 7), b=(-10, 10),\n",
        "         xmin=(-10, 10), xmax=(10, 20), ymin=(-30, 20), ymax=(10, 200))"
      ],
      "execution_count": null,
      "outputs": [
        {
          "output_type": "display_data",
          "data": {
            "application/vnd.jupyter.widget-view+json": {
              "model_id": "d63444ca323a4fdaa80503e4e16c9947",
              "version_minor": 0,
              "version_major": 2
            },
            "text/plain": [
              "interactive(children=(IntSlider(value=4, description='m', max=7, min=1), IntSlider(value=0, description='b', m…"
            ]
          },
          "metadata": {
            "tags": []
          }
        },
        {
          "output_type": "execute_result",
          "data": {
            "text/plain": [
              "<function __main__.f>"
            ]
          },
          "metadata": {
            "tags": []
          },
          "execution_count": 16
        }
      ]
    },
    {
      "cell_type": "code",
      "metadata": {
        "id": "X_Jkb5cUdjl8"
      },
      "source": [
        "def f(a, b):\n",
        "  return a + b"
      ],
      "execution_count": null,
      "outputs": []
    },
    {
      "cell_type": "code",
      "metadata": {
        "colab": {
          "base_uri": "https://localhost:8080/",
          "height": 117,
          "referenced_widgets": [
            "4c21a2a62ca946b6bdb92572c54daaff",
            "d3fdf8a7be6e4a74ab74ff9f6bc4f348",
            "8dc6aadc596d40b9960db361aa9aea58",
            "e9f0b7e36f5341aeab7c5de0aafad598",
            "d7f91afcc12e46bd9dabbc0fe1599aa4",
            "c723c795682c45508d2e8b3578e21909",
            "3053f09c2f384543bb2841fb878b377d",
            "577d2d2a1aff43d2bceb480676f8fdac",
            "7dcd53495d9c4e55980239190cd5a1f7",
            "ae633cabb2d94aae88ed660f68bdbdf5"
          ]
        },
        "id": "p66FaL76eBz-",
        "outputId": "58dc0240-e65f-4521-e3bd-04b00144b342"
      },
      "source": [
        "interact(f, a=(1, 100), b=(1, 100))"
      ],
      "execution_count": null,
      "outputs": [
        {
          "output_type": "display_data",
          "data": {
            "application/vnd.jupyter.widget-view+json": {
              "model_id": "4c21a2a62ca946b6bdb92572c54daaff",
              "version_minor": 0,
              "version_major": 2
            },
            "text/plain": [
              "interactive(children=(IntSlider(value=50, description='a', min=1), IntSlider(value=50, description='b', min=1)…"
            ]
          },
          "metadata": {
            "tags": []
          }
        },
        {
          "output_type": "execute_result",
          "data": {
            "text/plain": [
              "<function __main__.f>"
            ]
          },
          "metadata": {
            "tags": []
          },
          "execution_count": 18
        }
      ]
    },
    {
      "cell_type": "code",
      "metadata": {
        "colab": {
          "base_uri": "https://localhost:8080/",
          "height": 117,
          "referenced_widgets": [
            "791144e90c55452186c0cb4a9dcfc8c1",
            "b943fed6d4674b909afe80595a938fdc",
            "5b26f31759d9405a8aa968210a1fd426",
            "37f9ba5f1344462a8d0fa0cba16f7612",
            "3ef865b8c3534b80a63a879276b3237e",
            "92b7dd59cff34a8fb01603e0ea45eb01",
            "7fb4d138ef17465cb20717ab496fa710",
            "f2790d0042b8443eb2c9d8ef9c967c03",
            "261e9eee235949eab2e3a9e52be22f2f",
            "b3057939eac74e7a884972fd29448f7f"
          ]
        },
        "id": "BY8ryhzUeGmh",
        "outputId": "ccd80ea7-1e5c-4239-e052-8d67c8b3f362"
      },
      "source": [
        "interact(f, a=(1, 10, 0.5), b=(1, 10, 0.5))"
      ],
      "execution_count": null,
      "outputs": [
        {
          "output_type": "display_data",
          "data": {
            "application/vnd.jupyter.widget-view+json": {
              "model_id": "791144e90c55452186c0cb4a9dcfc8c1",
              "version_minor": 0,
              "version_major": 2
            },
            "text/plain": [
              "interactive(children=(FloatSlider(value=5.0, description='a', max=10.0, min=1.0, step=0.5), FloatSlider(value=…"
            ]
          },
          "metadata": {
            "tags": []
          }
        },
        {
          "output_type": "execute_result",
          "data": {
            "text/plain": [
              "<function __main__.f>"
            ]
          },
          "metadata": {
            "tags": []
          },
          "execution_count": 19
        }
      ]
    },
    {
      "cell_type": "code",
      "metadata": {
        "colab": {
          "base_uri": "https://localhost:8080/",
          "height": 117,
          "referenced_widgets": [
            "dea68e9ae87b4320b77b82cfa7471d7d",
            "367fddf54d994eba90401f1d6812e6d4",
            "d821d15151ba405a8005b25f190068bb",
            "f6390310ae5c4225b7366c70c81cfd61",
            "dd3346cb49b844d3a06e66b4d6eb684e",
            "2c06f90b3f534672be0702973d9d3318",
            "4197aa88303d4e84a5873ce24715411c",
            "5e58947f8f0149a190f292d406e67ee9",
            "8cb1d1f6c12b446a851890f8d3a72b7b",
            "e0b1946827b149fab5f9626df9bc9819"
          ]
        },
        "id": "s8k99yVce1qf",
        "outputId": "09051c6c-9616-41f5-f4fa-0655e0dc6bec"
      },
      "source": [
        "interact(f, a=range(1, 10, 2), b=range(1, 10, 3))"
      ],
      "execution_count": null,
      "outputs": [
        {
          "output_type": "display_data",
          "data": {
            "application/vnd.jupyter.widget-view+json": {
              "model_id": "dea68e9ae87b4320b77b82cfa7471d7d",
              "version_minor": 0,
              "version_major": 2
            },
            "text/plain": [
              "interactive(children=(Dropdown(description='a', options=(1, 3, 5, 7, 9), value=1), Dropdown(description='b', o…"
            ]
          },
          "metadata": {
            "tags": []
          }
        },
        {
          "output_type": "execute_result",
          "data": {
            "text/plain": [
              "<function __main__.f>"
            ]
          },
          "metadata": {
            "tags": []
          },
          "execution_count": 21
        }
      ]
    },
    {
      "cell_type": "code",
      "metadata": {
        "id": "3-D8dInWe-JT"
      },
      "source": [
        "data = {\n",
        "    'a': np.arange(1, 15),\n",
        "    'b': np.arange(1, 15) ** 2,\n",
        "    'c': np.arange(1, 15) + 2.5,\n",
        "    'd': np.arange(1, 15) ** .5,\n",
        "}"
      ],
      "execution_count": null,
      "outputs": []
    },
    {
      "cell_type": "code",
      "metadata": {
        "id": "RZIS_FV3ff4Y"
      },
      "source": [
        "def f2(x, y):\n",
        "  plt.scatter(data[x], data[y])"
      ],
      "execution_count": null,
      "outputs": []
    },
    {
      "cell_type": "code",
      "metadata": {
        "colab": {
          "base_uri": "https://localhost:8080/",
          "height": 347,
          "referenced_widgets": [
            "fa337d6d9aba4f0ebf966a55dc8f6196",
            "b641e4f4140c45cfaaa30c75e351d61b",
            "28f92c5363bf4b7ab73beac2da835738",
            "c58a459e909d46d8a77452075765d699",
            "568bf1add1ef4c13afce537c96726752",
            "07102c8756884a999a7e2ee05380e4b5",
            "cb5ddd7cafae41ab8435f8da669f56d7",
            "a4dccf392af841a781af4065af83aad0",
            "affa3baa5c29491c8c5f1d126ac86a4a",
            "769a75d135984d47985913e2bb1978de"
          ]
        },
        "id": "sNNEelmOfqw0",
        "outputId": "f713be1a-abc5-4fdd-a15a-4bb22ea793cf"
      },
      "source": [
        "cols = ['a', 'b', 'c', 'd']\n",
        "interact(f2, x=cols, y=cols)"
      ],
      "execution_count": null,
      "outputs": [
        {
          "output_type": "display_data",
          "data": {
            "application/vnd.jupyter.widget-view+json": {
              "model_id": "fa337d6d9aba4f0ebf966a55dc8f6196",
              "version_minor": 0,
              "version_major": 2
            },
            "text/plain": [
              "interactive(children=(Dropdown(description='x', options=('a', 'b', 'c', 'd'), value='a'), Dropdown(description…"
            ]
          },
          "metadata": {
            "tags": []
          }
        },
        {
          "output_type": "execute_result",
          "data": {
            "text/plain": [
              "<function __main__.f2>"
            ]
          },
          "metadata": {
            "tags": []
          },
          "execution_count": 30
        }
      ]
    },
    {
      "cell_type": "code",
      "metadata": {
        "id": "vfCgl05vfzXy"
      },
      "source": [
        "def f3(val: bool):\n",
        "  if val:\n",
        "    return \"hola\"\n",
        "  else:\n",
        "    return \"chao\""
      ],
      "execution_count": null,
      "outputs": []
    },
    {
      "cell_type": "code",
      "metadata": {
        "colab": {
          "base_uri": "https://localhost:8080/",
          "height": 85,
          "referenced_widgets": [
            "592029ac8e2a48fdbcdd4f73322354e9",
            "bea3d878158b475c982a6443941f2900",
            "dde4010dd69b4cb7ba18218e5692913c",
            "d7dad92b1dd74266a79bcd98a472ed62",
            "4d0e54d122f247d3826edc38bb603e23",
            "c711f36822604d428e7798007b6940d5",
            "98e0faacd8c648f5842eca6e13cafae5"
          ]
        },
        "id": "XWJ7ob3_gfTf",
        "outputId": "1dd9aa6a-c433-4085-9d78-13bceec607c3"
      },
      "source": [
        "interact(f3, val=False)"
      ],
      "execution_count": null,
      "outputs": [
        {
          "output_type": "display_data",
          "data": {
            "application/vnd.jupyter.widget-view+json": {
              "model_id": "592029ac8e2a48fdbcdd4f73322354e9",
              "version_minor": 0,
              "version_major": 2
            },
            "text/plain": [
              "interactive(children=(Checkbox(value=False, description='val'), Output()), _dom_classes=('widget-interact',))"
            ]
          },
          "metadata": {
            "tags": []
          }
        },
        {
          "output_type": "execute_result",
          "data": {
            "text/plain": [
              "<function __main__.f3>"
            ]
          },
          "metadata": {
            "tags": []
          },
          "execution_count": 33
        }
      ]
    },
    {
      "cell_type": "code",
      "metadata": {
        "id": "1NSND8WYhAtC"
      },
      "source": [
        "#@title Example form fields\n",
        "#@markdown Forms support many types of fields.\n",
        "\n",
        "no_type_checking = ''  #@param\n",
        "string_type = ''  #@param {type: \"string\"}\n",
        "slider_value = 131  #@param {type: \"slider\", min: 100, max: 200}\n",
        "number = 102  #@param {type: \"number\"}\n",
        "date = '2010-11-05'  #@param {type: \"date\"}\n",
        "pick_me = \"monday\"  #@param ['monday', 'tuesday', 'wednesday', 'thursday']\n",
        "select_or_input = \"apples\" #@param [\"apples\", \"bananas\", \"oranges\"] {allow-input: true}\n",
        "#@markdown ---\n"
      ],
      "execution_count": null,
      "outputs": []
    },
    {
      "cell_type": "code",
      "metadata": {
        "id": "KhDUZ8fFhcxI"
      },
      "source": [
        "from IPython.display import display, Javascript\n",
        "from google.colab.output import eval_js\n",
        "from base64 import b64decode\n",
        "\n",
        "def take_photo(filename='photo.jpg', quality=0.8):\n",
        "  js = Javascript('''\n",
        "    async function takePhoto(quality) {\n",
        "      const div = document.createElement('div');\n",
        "      const capture = document.createElement('button');\n",
        "      capture.textContent = 'Capture';\n",
        "      div.appendChild(capture);\n",
        "\n",
        "      const video = document.createElement('video');\n",
        "      video.style.display = 'block';\n",
        "      const stream = await navigator.mediaDevices.getUserMedia({video: true});\n",
        "\n",
        "      document.body.appendChild(div);\n",
        "      div.appendChild(video);\n",
        "      video.srcObject = stream;\n",
        "      await video.play();\n",
        "\n",
        "      // Resize the output to fit the video element.\n",
        "      google.colab.output.setIframeHeight(document.documentElement.scrollHeight, true);\n",
        "\n",
        "      // Wait for Capture to be clicked.\n",
        "      await new Promise((resolve) => capture.onclick = resolve);\n",
        "\n",
        "      const canvas = document.createElement('canvas');\n",
        "      canvas.width = video.videoWidth;\n",
        "      canvas.height = video.videoHeight;\n",
        "      canvas.getContext('2d').drawImage(video, 0, 0);\n",
        "      stream.getVideoTracks()[0].stop();\n",
        "      div.remove();\n",
        "      return canvas.toDataURL('image/jpeg', quality);\n",
        "    }\n",
        "    ''')\n",
        "  display(js)\n",
        "  data = eval_js('takePhoto({})'.format(quality))\n",
        "  binary = b64decode(data.split(',')[1])\n",
        "  with open(filename, 'wb') as f:\n",
        "    f.write(binary)\n",
        "  return filename"
      ],
      "execution_count": null,
      "outputs": []
    },
    {
      "cell_type": "code",
      "metadata": {
        "colab": {
          "base_uri": "https://localhost:8080/",
          "height": 515
        },
        "id": "nEW4Op3dhcxN",
        "outputId": "259c184b-ffc2-46d8-bb1a-99a2df150427"
      },
      "source": [
        "from IPython.display import Image\n",
        "try:\n",
        "  filename = take_photo()\n",
        "  print('Saved to {}'.format(filename))\n",
        "  \n",
        "  # Show the image which was just taken.\n",
        "  display(Image(filename))\n",
        "except Exception as err:\n",
        "  # Errors will be thrown if the user does not have a webcam or if they do not\n",
        "  # grant the page permission to access it.\n",
        "  print(str(err))"
      ],
      "execution_count": null,
      "outputs": [
        {
          "output_type": "display_data",
          "data": {
            "application/javascript": [
              "\n",
              "    async function takePhoto(quality) {\n",
              "      const div = document.createElement('div');\n",
              "      const capture = document.createElement('button');\n",
              "      capture.textContent = 'Capture';\n",
              "      div.appendChild(capture);\n",
              "\n",
              "      const video = document.createElement('video');\n",
              "      video.style.display = 'block';\n",
              "      const stream = await navigator.mediaDevices.getUserMedia({video: true});\n",
              "\n",
              "      document.body.appendChild(div);\n",
              "      div.appendChild(video);\n",
              "      video.srcObject = stream;\n",
              "      await video.play();\n",
              "\n",
              "      // Resize the output to fit the video element.\n",
              "      google.colab.output.setIframeHeight(document.documentElement.scrollHeight, true);\n",
              "\n",
              "      // Wait for Capture to be clicked.\n",
              "      await new Promise((resolve) => capture.onclick = resolve);\n",
              "\n",
              "      const canvas = document.createElement('canvas');\n",
              "      canvas.width = video.videoWidth;\n",
              "      canvas.height = video.videoHeight;\n",
              "      canvas.getContext('2d').drawImage(video, 0, 0);\n",
              "      stream.getVideoTracks()[0].stop();\n",
              "      div.remove();\n",
              "      return canvas.toDataURL('image/jpeg', quality);\n",
              "    }\n",
              "    "
            ],
            "text/plain": [
              "<IPython.core.display.Javascript object>"
            ]
          },
          "metadata": {
            "tags": []
          }
        },
        {
          "output_type": "stream",
          "text": [
            "Saved to photo.jpg\n"
          ],
          "name": "stdout"
        },
        {
          "output_type": "display_data",
          "data": {
            "image/jpeg": "[encoded data removed]",
            "text/plain": [
              "<IPython.core.display.Image object>"
            ]
          },
          "metadata": {
            "tags": []
          }
        }
      ]
    },
    {
      "cell_type": "code",
      "metadata": {
        "id": "oZrgWwFfhskS"
      },
      "source": [
        "import matplotlib.image as mpimg"
      ],
      "execution_count": null,
      "outputs": []
    },
    {
      "cell_type": "code",
      "metadata": {
        "colab": {
          "base_uri": "https://localhost:8080/",
          "height": 287
        },
        "id": "Dwufi2Xrhy_I",
        "outputId": "9270ef11-2624-4b1d-8dfb-6f7bec55e9de"
      },
      "source": [
        "img = mpimg.imread(\"photo.jpg\", format=\"jpeg\")\n",
        "plt.imshow(img)"
      ],
      "execution_count": null,
      "outputs": [
        {
          "output_type": "execute_result",
          "data": {
            "text/plain": [
              "<matplotlib.image.AxesImage at 0x7ff1d4c206d0>"
            ]
          },
          "metadata": {
            "tags": []
          },
          "execution_count": 38
        },
        {
          "output_type": "display_data",
          "data": {
            "image/png": "[encoded data removed]",
            "text/plain": [
              "<Figure size 432x288 with 1 Axes>"
            ]
          },
          "metadata": {
            "tags": [],
            "needs_background": "light"
          }
        }
      ]
    },
    {
      "cell_type": "code",
      "metadata": {
        "id": "ZSAXwUwniI2y"
      },
      "source": [
        ""
      ],
      "execution_count": null,
      "outputs": []
    }
  ]
}