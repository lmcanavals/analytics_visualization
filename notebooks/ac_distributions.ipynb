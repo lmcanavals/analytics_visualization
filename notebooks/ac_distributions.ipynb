{
  "nbformat": 4,
  "nbformat_minor": 0,
  "metadata": {
    "colab": {
      "name": "ba_distributions.ipynb",
      "provenance": [],
      "collapsed_sections": [],
      "authorship_tag": "ABX9TyPlsqA4VHcShGYfLW1a62aG",
      "include_colab_link": true
    },
    "kernelspec": {
      "name": "python3",
      "display_name": "Python 3"
    }
  },
  "cells": [
    {
      "cell_type": "markdown",
      "metadata": {
        "id": "view-in-github",
        "colab_type": "text"
      },
      "source": [
        "<a href=\"https://colab.research.google.com/github/lmcanavals/analytics_visualization/blob/main/notebooks/ac_distributions.ipynb\" target=\"_parent\"><img src=\"https://colab.research.google.com/assets/colab-badge.svg\" alt=\"Open In Colab\"/></a>"
      ]
    },
    {
      "cell_type": "code",
      "metadata": {
        "id": "cvalWfWlDmWn"
      },
      "source": [
        "import pandas as pd\n",
        "import numpy as np\n",
        "from scipy import stats\n",
        "from sklearn.utils import resample\n",
        "\n",
        "import seaborn as sns\n",
        "import matplotlib.pylab as plt"
      ],
      "execution_count": null,
      "outputs": []
    },
    {
      "cell_type": "code",
      "metadata": {
        "id": "Oa23opihACQY"
      },
      "source": [
        "BASE_URL = \"https://raw.githubusercontent.com/lmcanavals/avd/main/data/\"\n",
        "LOANS_INCOME_CSV   = f\"{BASE_URL}loans_income.csv\"\n",
        "SP500_DATA_CSV     = f\"{BASE_URL}sp500_data.csv.gz\""
      ],
      "execution_count": null,
      "outputs": []
    },
    {
      "cell_type": "markdown",
      "metadata": {
        "id": "xVyi_eWWD8Dt"
      },
      "source": [
        "Seed nos permite establecer la semilla de números aleatorios, debe ser un valor dificil de obtener. Pero para temas de ejemplos, se usa una constante."
      ]
    },
    {
      "cell_type": "code",
      "metadata": {
        "colab": {
          "base_uri": "https://localhost:8080/",
          "height": 112
        },
        "id": "Jbz8b4OID0SZ",
        "outputId": "61de1abc-42f3-498b-b86a-99d4cb1dcc95"
      },
      "source": [
        "np.random.seed(seed=1)\n",
        "x = np.linspace(-3, 3, 300)\n",
        "xsample = stats.norm.rvs(size=1000)\n",
        "\n",
        "fig, axes = plt.subplots(ncols=2, figsize=(5, 1.5))\n",
        "\n",
        "ax = axes[0]\n",
        "ax.fill(x, stats.norm.pdf(x))\n",
        "ax.set_axis_off()\n",
        "ax.set_xlim(-3, 3)\n",
        "\n",
        "ax = axes[1]\n",
        "ax.hist(xsample, bins=30)\n",
        "ax.set_axis_off()\n",
        "ax.set_xlim(-3, 3)\n",
        "ax.set_position\n",
        "\n",
        "plt.show()"
      ],
      "execution_count": null,
      "outputs": [
        {
          "output_type": "display_data",
          "data": {
            "image/png": "[encoded data removed]",
            "text/plain": [
              "<Figure size 360x108 with 2 Axes>"
            ]
          },
          "metadata": {
            "tags": [],
            "needs_background": "light"
          }
        }
      ]
    },
    {
      "cell_type": "markdown",
      "metadata": {
        "id": "E7u2n6RcINoV"
      },
      "source": [
        "## Muestreo"
      ]
    },
    {
      "cell_type": "code",
      "metadata": {
        "colab": {
          "base_uri": "https://localhost:8080/",
          "height": 206
        },
        "id": "mnMS6i7PF3Ur",
        "outputId": "46fdb498-1c3f-4962-d528-481e0d0f0916"
      },
      "source": [
        "loans_income = pd.read_csv(LOANS_INCOME_CSV, squeeze=True)\n",
        "\n",
        "sample_data = pd.DataFrame({\n",
        "    'income': loans_income.sample(1000),\n",
        "    'type': 'Data'})\n",
        "\n",
        "sample_mean_05 = pd.DataFrame({\n",
        "    'income': [loans_income.sample(5).mean() for _ in range(1000)],\n",
        "    'type': 'Mean of 5'})\n",
        "\n",
        "sample_mean_20 = pd.DataFrame({\n",
        "    'income': [loans_income.sample(20).mean() for _ in range(1000)],\n",
        "    'type': 'Mean of 20'})\n",
        "\n",
        "results = pd.concat([sample_data, sample_mean_05, sample_mean_20])\n",
        "results.head()"
      ],
      "execution_count": null,
      "outputs": [
        {
          "output_type": "execute_result",
          "data": {
            "text/html": [
              "<div>\n",
              "<style scoped>\n",
              "    .dataframe tbody tr th:only-of-type {\n",
              "        vertical-align: middle;\n",
              "    }\n",
              "\n",
              "    .dataframe tbody tr th {\n",
              "        vertical-align: top;\n",
              "    }\n",
              "\n",
              "    .dataframe thead th {\n",
              "        text-align: right;\n",
              "    }\n",
              "</style>\n",
              "<table border=\"1\" class=\"dataframe\">\n",
              "  <thead>\n",
              "    <tr style=\"text-align: right;\">\n",
              "      <th></th>\n",
              "      <th>income</th>\n",
              "      <th>type</th>\n",
              "    </tr>\n",
              "  </thead>\n",
              "  <tbody>\n",
              "    <tr>\n",
              "      <th>19670</th>\n",
              "      <td>84000.0</td>\n",
              "      <td>Data</td>\n",
              "    </tr>\n",
              "    <tr>\n",
              "      <th>47158</th>\n",
              "      <td>49000.0</td>\n",
              "      <td>Data</td>\n",
              "    </tr>\n",
              "    <tr>\n",
              "      <th>38921</th>\n",
              "      <td>125000.0</td>\n",
              "      <td>Data</td>\n",
              "    </tr>\n",
              "    <tr>\n",
              "      <th>44354</th>\n",
              "      <td>100000.0</td>\n",
              "      <td>Data</td>\n",
              "    </tr>\n",
              "    <tr>\n",
              "      <th>28613</th>\n",
              "      <td>106000.0</td>\n",
              "      <td>Data</td>\n",
              "    </tr>\n",
              "  </tbody>\n",
              "</table>\n",
              "</div>"
            ],
            "text/plain": [
              "         income  type\n",
              "19670   84000.0  Data\n",
              "47158   49000.0  Data\n",
              "38921  125000.0  Data\n",
              "44354  100000.0  Data\n",
              "28613  106000.0  Data"
            ]
          },
          "metadata": {
            "tags": []
          },
          "execution_count": 18
        }
      ]
    },
    {
      "cell_type": "code",
      "metadata": {
        "colab": {
          "base_uri": "https://localhost:8080/"
        },
        "id": "_HaxiJ0mJd0N",
        "outputId": "b04bc0e7-6aa1-4460-c034-6baa82ad0c3f"
      },
      "source": [
        "results.shape"
      ],
      "execution_count": null,
      "outputs": [
        {
          "output_type": "execute_result",
          "data": {
            "text/plain": [
              "(3000, 2)"
            ]
          },
          "metadata": {
            "tags": []
          },
          "execution_count": 17
        }
      ]
    },
    {
      "cell_type": "code",
      "metadata": {
        "colab": {
          "base_uri": "https://localhost:8080/",
          "height": 441
        },
        "id": "BRMJo-U9Jt2F",
        "outputId": "0f88b348-c81b-46aa-9631-e6412d66f4c5"
      },
      "source": [
        "g = sns.FacetGrid(results, col='type', col_wrap=1,\n",
        "                  height=2, aspect=2)\n",
        "g.map(plt.hist, 'income', range=[0, 200000], bins=40)\n",
        "g.set_axis_labels('Income', 'Count')\n",
        "g.set_titles('{col_name}')\n",
        "\n",
        "plt.tight_layout()\n",
        "plt.show()"
      ],
      "execution_count": null,
      "outputs": [
        {
          "output_type": "display_data",
          "data": {
            "image/png": "[encoded data removed]",
            "text/plain": [
              "<Figure size 288x432 with 3 Axes>"
            ]
          },
          "metadata": {
            "tags": [],
            "needs_background": "light"
          }
        }
      ]
    },
    {
      "cell_type": "code",
      "metadata": {
        "colab": {
          "base_uri": "https://localhost:8080/",
          "height": 260
        },
        "id": "GUpfqI8zLurY",
        "outputId": "d193cad2-e703-46f8-8c3a-def2c96697a3"
      },
      "source": [
        "print(loans_income.mean())\n",
        "np.random.seed(seed=3)  \n",
        "# create a sample of 20 loan income data\n",
        "sample20 = resample(loans_income, n_samples=20, replace=False)\n",
        "print(sample20.mean())\n",
        "results = []\n",
        "for nrepeat in range(500):\n",
        "    sample = resample(sample20)\n",
        "    results.append(sample.mean())\n",
        "results = pd.Series(results)\n",
        "results = results / 1000\n",
        "\n",
        "confidence_interval = list(results.quantile([0.05, 0.95]))\n",
        "ax = results.plot.hist(bins=30, figsize=(4, 3))\n",
        "ax.plot(confidence_interval, [55, 55], color='black')\n",
        "for x in confidence_interval:\n",
        "    ax.plot([x, x], [0, 65], color='black')\n",
        "    ax.text(x, 70, f'{x:.0f}', \n",
        "            horizontalalignment='center', verticalalignment='center')\n",
        "ax.text(sum(confidence_interval) / 2, 60, '90% interval',\n",
        "        horizontalalignment='center', verticalalignment='center')\n",
        "\n",
        "meanIncome = results.mean()\n",
        "ax.plot([meanIncome, meanIncome], [0, 50], color='black', linestyle='--')\n",
        "ax.text(meanIncome, 10, f'Mean: {meanIncome:.0f}',\n",
        "        bbox=dict(facecolor='white', edgecolor='white', alpha=0.5),\n",
        "        horizontalalignment='center', verticalalignment='center')\n",
        "ax.set_ylim(0, 80)\n",
        "ax.set_xlabel('en miles')\n",
        "ax.set_ylabel('Counts')\n",
        "\n",
        "plt.tight_layout()\n",
        "plt.show()"
      ],
      "execution_count": null,
      "outputs": [
        {
          "output_type": "stream",
          "text": [
            "68760.51844\n",
            "55734.1\n"
          ],
          "name": "stdout"
        },
        {
          "output_type": "display_data",
          "data": {
            "image/png": "[encoded data removed]",
            "text/plain": [
              "<Figure size 288x216 with 1 Axes>"
            ]
          },
          "metadata": {
            "tags": [],
            "needs_background": "light"
          }
        }
      ]
    },
    {
      "cell_type": "markdown",
      "metadata": {
        "id": "DG6FCuQROYQv"
      },
      "source": [
        "## QQ-Plots"
      ]
    },
    {
      "cell_type": "code",
      "metadata": {
        "colab": {
          "base_uri": "https://localhost:8080/",
          "height": 297
        },
        "id": "n0CRNNyNNB-Y",
        "outputId": "c2dc6fa8-3f84-4f79-cde6-c1624eea360f"
      },
      "source": [
        "fig, ax = plt.subplots(figsize=(4, 4))\n",
        "\n",
        "norm_sample = stats.norm.rvs(size=100)\n",
        "stats.probplot(norm_sample, plot=ax)\n",
        "\n",
        "plt.tight_layout()\n",
        "plt.show()"
      ],
      "execution_count": null,
      "outputs": [
        {
          "output_type": "display_data",
          "data": {
            "image/png": "[encoded data removed]",
            "text/plain": [
              "<Figure size 288x288 with 1 Axes>"
            ]
          },
          "metadata": {
            "tags": [],
            "needs_background": "light"
          }
        }
      ]
    },
    {
      "cell_type": "code",
      "metadata": {
        "colab": {
          "base_uri": "https://localhost:8080/",
          "height": 297
        },
        "id": "qkVSo8TwOo2q",
        "outputId": "db7dc6ea-402d-485c-a343-2e2ee6cc32e8"
      },
      "source": [
        "sp500_px = pd.read_csv(SP500_DATA_CSV)\n",
        "\n",
        "nflx = sp500_px['NFLX']\n",
        "nflx = np.diff(np.log(nflx[nflx>0]))\n",
        "\n",
        "fig, ax = plt.subplots(figsize=(4, 4))\n",
        "stats.probplot(nflx, plot=ax)\n",
        "\n",
        "plt.tight_layout()\n",
        "plt.show()"
      ],
      "execution_count": null,
      "outputs": [
        {
          "output_type": "display_data",
          "data": {
            "image/png": "[encoded data removed]",
            "text/plain": [
              "<Figure size 288x288 with 1 Axes>"
            ]
          },
          "metadata": {
            "tags": [],
            "needs_background": "light"
          }
        }
      ]
    },
    {
      "cell_type": "code",
      "metadata": {
        "colab": {
          "base_uri": "https://localhost:8080/"
        },
        "id": "D6emIsEQPXQB",
        "outputId": "bfd76f0a-3402-40aa-e085-27730230d89d"
      },
      "source": [
        "ar = np.array([1, 2, 4, 7, 9])\n",
        "np.diff(np.log(ar))"
      ],
      "execution_count": null,
      "outputs": [
        {
          "output_type": "execute_result",
          "data": {
            "text/plain": [
              "array([0.69314718, 0.69314718, 0.55961579, 0.25131443])"
            ]
          },
          "metadata": {
            "tags": []
          },
          "execution_count": 35
        }
      ]
    },
    {
      "cell_type": "code",
      "metadata": {
        "colab": {
          "base_uri": "https://localhost:8080/",
          "height": 297
        },
        "id": "pR3SbAQAPpwZ",
        "outputId": "ee653c2b-1790-4d07-e435-a7dbd0d52284"
      },
      "source": [
        "sample = stats.poisson.rvs(2, size=1000)\n",
        "\n",
        "pd.Series(sample).plot.hist(bins=30)\n",
        "\n",
        "plt.tight_layout()\n",
        "plt.show()"
      ],
      "execution_count": null,
      "outputs": [
        {
          "output_type": "display_data",
          "data": {
            "image/png": "[encoded data removed]",
            "text/plain": [
              "<Figure size 432x288 with 1 Axes>"
            ]
          },
          "metadata": {
            "tags": [],
            "needs_background": "light"
          }
        }
      ]
    },
    {
      "cell_type": "code",
      "metadata": {
        "colab": {
          "base_uri": "https://localhost:8080/",
          "height": 297
        },
        "id": "6W9mwFeSQJkd",
        "outputId": "095af516-6a5c-4183-c871-a2fc3c5e5e66"
      },
      "source": [
        "sample = stats.weibull_min.rvs(1.5, scale=5000, size=1000)\n",
        "\n",
        "pd.Series(sample).plot.hist(bins=30)\n",
        "\n",
        "plt.tight_layout()\n",
        "plt.show()"
      ],
      "execution_count": null,
      "outputs": [
        {
          "output_type": "display_data",
          "data": {
            "image/png": "[encoded data removed]",
            "text/plain": [
              "<Figure size 432x288 with 1 Axes>"
            ]
          },
          "metadata": {
            "tags": [],
            "needs_background": "light"
          }
        }
      ]
    },
    {
      "cell_type": "code",
      "metadata": {
        "id": "Wq2ErORfQmIn"
      },
      "source": [
        ""
      ],
      "execution_count": null,
      "outputs": []
    }
  ]
}