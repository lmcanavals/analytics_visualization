{
  "nbformat": 4,
  "nbformat_minor": 0,
  "metadata": {
    "colab": {
      "name": "aa_data_exploratory.ipynb",
      "provenance": [],
      "authorship_tag": "ABX9TyNvclcM+OkUaTFX3InT5kFn",
      "include_colab_link": true
    },
    "kernelspec": {
      "name": "python3",
      "display_name": "Python 3"
    },
    "language_info": {
      "name": "python"
    }
  },
  "cells": [
    {
      "cell_type": "markdown",
      "metadata": {
        "id": "view-in-github",
        "colab_type": "text"
      },
      "source": [
        "<a href=\"https://colab.research.google.com/github/lmcanavals/analytics_visualization/blob/main/notebooks/aa_data_exploratory.ipynb\" target=\"_parent\"><img src=\"https://colab.research.google.com/assets/colab-badge.svg\" alt=\"Open In Colab\"/></a>"
      ]
    },
    {
      "cell_type": "code",
      "metadata": {
        "id": "YmhDSPdKNaf2"
      },
      "source": [
        "import pandas as pd\n",
        "import numpy as np"
      ],
      "execution_count": 1,
      "outputs": []
    },
    {
      "cell_type": "code",
      "metadata": {
        "colab": {
          "base_uri": "https://localhost:8080/"
        },
        "id": "2nwyXnVaO6ce",
        "outputId": "55f53bad-f069-4940-d914-ac16ddc78f21"
      },
      "source": [
        "!pip install wquantiles"
      ],
      "execution_count": 3,
      "outputs": [
        {
          "output_type": "stream",
          "text": [
            "Collecting wquantiles\n",
            "  Downloading https://files.pythonhosted.org/packages/d7/6c/ced92ab7a7de1ff4f9ab2761d594e00582aad59b02893e50c243bf0ab684/wquantiles-0.5.tar.gz\n",
            "Requirement already satisfied: numpy in /usr/local/lib/python3.7/dist-packages (from wquantiles) (1.19.5)\n",
            "Building wheels for collected packages: wquantiles\n",
            "  Building wheel for wquantiles (setup.py) ... \u001b[?25l\u001b[?25hdone\n",
            "  Created wheel for wquantiles: filename=wquantiles-0.5-cp37-none-any.whl size=2509 sha256=89e6eada2462181edc9f63d2ddc7f618f609be57b5e046d35f38033e171a7471\n",
            "  Stored in directory: /root/.cache/pip/wheels/24/61/20/f9e1b00d1697d793c1b423cecbdb40fc65dd29a6188e78af41\n",
            "Successfully built wquantiles\n",
            "Installing collected packages: wquantiles\n",
            "Successfully installed wquantiles-0.5\n"
          ],
          "name": "stdout"
        }
      ]
    },
    {
      "cell_type": "code",
      "metadata": {
        "id": "UbiDT1YJOXv1"
      },
      "source": [
        "from scipy.stats import trim_mean\n",
        "from statsmodels import robust\n",
        "import wquantiles\n",
        "\n",
        "import matplotlib.pylab as plt\n",
        "import seaborn as sns"
      ],
      "execution_count": 4,
      "outputs": []
    },
    {
      "cell_type": "code",
      "metadata": {
        "colab": {
          "base_uri": "https://localhost:8080/",
          "height": 204
        },
        "id": "SOrenqfKO3-7",
        "outputId": "c7b2e63d-1ec5-49fa-a150-9b3686b9915b"
      },
      "source": [
        "url=\"https://raw.githubusercontent.com/lmcanavals/analytics_visualization/main/data/state.csv\"\n",
        "state = pd.read_csv(url)\n",
        "state.head()"
      ],
      "execution_count": 5,
      "outputs": [
        {
          "output_type": "execute_result",
          "data": {
            "text/html": [
              "<div>\n",
              "<style scoped>\n",
              "    .dataframe tbody tr th:only-of-type {\n",
              "        vertical-align: middle;\n",
              "    }\n",
              "\n",
              "    .dataframe tbody tr th {\n",
              "        vertical-align: top;\n",
              "    }\n",
              "\n",
              "    .dataframe thead th {\n",
              "        text-align: right;\n",
              "    }\n",
              "</style>\n",
              "<table border=\"1\" class=\"dataframe\">\n",
              "  <thead>\n",
              "    <tr style=\"text-align: right;\">\n",
              "      <th></th>\n",
              "      <th>State</th>\n",
              "      <th>Population</th>\n",
              "      <th>Murder.Rate</th>\n",
              "      <th>Abbreviation</th>\n",
              "    </tr>\n",
              "  </thead>\n",
              "  <tbody>\n",
              "    <tr>\n",
              "      <th>0</th>\n",
              "      <td>Alabama</td>\n",
              "      <td>4779736</td>\n",
              "      <td>5.7</td>\n",
              "      <td>AL</td>\n",
              "    </tr>\n",
              "    <tr>\n",
              "      <th>1</th>\n",
              "      <td>Alaska</td>\n",
              "      <td>710231</td>\n",
              "      <td>5.6</td>\n",
              "      <td>AK</td>\n",
              "    </tr>\n",
              "    <tr>\n",
              "      <th>2</th>\n",
              "      <td>Arizona</td>\n",
              "      <td>6392017</td>\n",
              "      <td>4.7</td>\n",
              "      <td>AZ</td>\n",
              "    </tr>\n",
              "    <tr>\n",
              "      <th>3</th>\n",
              "      <td>Arkansas</td>\n",
              "      <td>2915918</td>\n",
              "      <td>5.6</td>\n",
              "      <td>AR</td>\n",
              "    </tr>\n",
              "    <tr>\n",
              "      <th>4</th>\n",
              "      <td>California</td>\n",
              "      <td>37253956</td>\n",
              "      <td>4.4</td>\n",
              "      <td>CA</td>\n",
              "    </tr>\n",
              "  </tbody>\n",
              "</table>\n",
              "</div>"
            ],
            "text/plain": [
              "        State  Population  Murder.Rate Abbreviation\n",
              "0     Alabama     4779736          5.7           AL\n",
              "1      Alaska      710231          5.6           AK\n",
              "2     Arizona     6392017          4.7           AZ\n",
              "3    Arkansas     2915918          5.6           AR\n",
              "4  California    37253956          4.4           CA"
            ]
          },
          "metadata": {
            "tags": []
          },
          "execution_count": 5
        }
      ]
    },
    {
      "cell_type": "code",
      "metadata": {
        "colab": {
          "base_uri": "https://localhost:8080/"
        },
        "id": "AW4kRrfpPxzG",
        "outputId": "8010a21f-564a-4dde-acfc-d9db8f926339"
      },
      "source": [
        "state['Population'].mean()"
      ],
      "execution_count": 6,
      "outputs": [
        {
          "output_type": "execute_result",
          "data": {
            "text/plain": [
              "6162876.3"
            ]
          },
          "metadata": {
            "tags": []
          },
          "execution_count": 6
        }
      ]
    },
    {
      "cell_type": "code",
      "metadata": {
        "colab": {
          "base_uri": "https://localhost:8080/"
        },
        "id": "MuoUZ-KpP7JL",
        "outputId": "6e472a5b-26dc-4c9c-c785-f76cc4b1f3f0"
      },
      "source": [
        "trim_mean(state['Population'], 0.1)"
      ],
      "execution_count": 7,
      "outputs": [
        {
          "output_type": "execute_result",
          "data": {
            "text/plain": [
              "4783697.125"
            ]
          },
          "metadata": {
            "tags": []
          },
          "execution_count": 7
        }
      ]
    },
    {
      "cell_type": "code",
      "metadata": {
        "colab": {
          "base_uri": "https://localhost:8080/"
        },
        "id": "bq9nzddqQd1-",
        "outputId": "0cfe8dfc-77ad-40b9-c83f-5378c668af83"
      },
      "source": [
        "state['Population'].median()"
      ],
      "execution_count": 8,
      "outputs": [
        {
          "output_type": "execute_result",
          "data": {
            "text/plain": [
              "4436369.5"
            ]
          },
          "metadata": {
            "tags": []
          },
          "execution_count": 8
        }
      ]
    },
    {
      "cell_type": "code",
      "metadata": {
        "colab": {
          "base_uri": "https://localhost:8080/"
        },
        "id": "HVnHLIeEQqek",
        "outputId": "09603a3e-07c2-4574-c577-ecc8caaeb157"
      },
      "source": [
        "state['Murder.Rate'].mean()"
      ],
      "execution_count": 9,
      "outputs": [
        {
          "output_type": "execute_result",
          "data": {
            "text/plain": [
              "4.066"
            ]
          },
          "metadata": {
            "tags": []
          },
          "execution_count": 9
        }
      ]
    },
    {
      "cell_type": "code",
      "metadata": {
        "colab": {
          "base_uri": "https://localhost:8080/"
        },
        "id": "jWK_dDtzQzF7",
        "outputId": "a8b47263-b681-415b-bd92-0c5b263a46cf"
      },
      "source": [
        "np.average(state['Murder.Rate'], weights=state['Population'])"
      ],
      "execution_count": 10,
      "outputs": [
        {
          "output_type": "execute_result",
          "data": {
            "text/plain": [
              "4.445833981123393"
            ]
          },
          "metadata": {
            "tags": []
          },
          "execution_count": 10
        }
      ]
    },
    {
      "cell_type": "code",
      "metadata": {
        "colab": {
          "base_uri": "https://localhost:8080/"
        },
        "id": "u_EPYzzTRAxd",
        "outputId": "7d7adead-c63b-44d5-9564-897dc5ffb83c"
      },
      "source": [
        "wquantiles.median(state['Murder.Rate'], weights=state['Population'])"
      ],
      "execution_count": 11,
      "outputs": [
        {
          "output_type": "execute_result",
          "data": {
            "text/plain": [
              "4.4"
            ]
          },
          "metadata": {
            "tags": []
          },
          "execution_count": 11
        }
      ]
    },
    {
      "cell_type": "markdown",
      "metadata": {
        "id": "oSt4huH-SRLd"
      },
      "source": [
        "# Estimaciones de variabilidad"
      ]
    },
    {
      "cell_type": "code",
      "metadata": {
        "colab": {
          "base_uri": "https://localhost:8080/"
        },
        "id": "NQ71Q9j_RXl2",
        "outputId": "f0a0296b-b17b-4124-94e1-c4479418bbf6"
      },
      "source": [
        "state['Population'].std()"
      ],
      "execution_count": 12,
      "outputs": [
        {
          "output_type": "execute_result",
          "data": {
            "text/plain": [
              "6848235.347401142"
            ]
          },
          "metadata": {
            "tags": []
          },
          "execution_count": 12
        }
      ]
    },
    {
      "cell_type": "markdown",
      "metadata": {
        "id": "rZSxGWl0Sc4I"
      },
      "source": [
        "Rango intercuartil."
      ]
    },
    {
      "cell_type": "code",
      "metadata": {
        "colab": {
          "base_uri": "https://localhost:8080/"
        },
        "id": "UkOjnmupSYWP",
        "outputId": "4a3fa4ad-be72-411b-f5ad-bc04e946c48a"
      },
      "source": [
        "state['Population'].quantile(0.75) - state['Population'].quantile(0.25)"
      ],
      "execution_count": 13,
      "outputs": [
        {
          "output_type": "execute_result",
          "data": {
            "text/plain": [
              "4847308.0"
            ]
          },
          "metadata": {
            "tags": []
          },
          "execution_count": 13
        }
      ]
    },
    {
      "cell_type": "markdown",
      "metadata": {
        "id": "bp1LDPbISxjY"
      },
      "source": [
        "# Percentiles"
      ]
    },
    {
      "cell_type": "code",
      "metadata": {
        "colab": {
          "base_uri": "https://localhost:8080/"
        },
        "id": "f6xCEy6lSswz",
        "outputId": "4d9b7dab-e026-41e0-9c0e-d401d6f8b506"
      },
      "source": [
        "percentages = [0.05, 0.25, 0.5, 0.75, 0.95]\n",
        "state['Murder.Rate'].quantile(percentages)"
      ],
      "execution_count": 14,
      "outputs": [
        {
          "output_type": "execute_result",
          "data": {
            "text/plain": [
              "0.05    1.600\n",
              "0.25    2.425\n",
              "0.50    4.000\n",
              "0.75    5.550\n",
              "0.95    6.510\n",
              "Name: Murder.Rate, dtype: float64"
            ]
          },
          "metadata": {
            "tags": []
          },
          "execution_count": 14
        }
      ]
    },
    {
      "cell_type": "code",
      "metadata": {
        "colab": {
          "base_uri": "https://localhost:8080/",
          "height": 80
        },
        "id": "E1rpNFSpTBxC",
        "outputId": "e398b84c-48f4-407e-b752-9d1fb6453f8f"
      },
      "source": [
        "df = pd.DataFrame(state['Murder.Rate'].quantile(percentages))\n",
        "df.index = [f\"{p * 100}%\" for p in percentages]\n",
        "df.transpose()"
      ],
      "execution_count": 15,
      "outputs": [
        {
          "output_type": "execute_result",
          "data": {
            "text/html": [
              "<div>\n",
              "<style scoped>\n",
              "    .dataframe tbody tr th:only-of-type {\n",
              "        vertical-align: middle;\n",
              "    }\n",
              "\n",
              "    .dataframe tbody tr th {\n",
              "        vertical-align: top;\n",
              "    }\n",
              "\n",
              "    .dataframe thead th {\n",
              "        text-align: right;\n",
              "    }\n",
              "</style>\n",
              "<table border=\"1\" class=\"dataframe\">\n",
              "  <thead>\n",
              "    <tr style=\"text-align: right;\">\n",
              "      <th></th>\n",
              "      <th>5.0%</th>\n",
              "      <th>25.0%</th>\n",
              "      <th>50.0%</th>\n",
              "      <th>75.0%</th>\n",
              "      <th>95.0%</th>\n",
              "    </tr>\n",
              "  </thead>\n",
              "  <tbody>\n",
              "    <tr>\n",
              "      <th>Murder.Rate</th>\n",
              "      <td>1.6</td>\n",
              "      <td>2.425</td>\n",
              "      <td>4.0</td>\n",
              "      <td>5.55</td>\n",
              "      <td>6.51</td>\n",
              "    </tr>\n",
              "  </tbody>\n",
              "</table>\n",
              "</div>"
            ],
            "text/plain": [
              "             5.0%  25.0%  50.0%  75.0%  95.0%\n",
              "Murder.Rate   1.6  2.425    4.0   5.55   6.51"
            ]
          },
          "metadata": {
            "tags": []
          },
          "execution_count": 15
        }
      ]
    },
    {
      "cell_type": "markdown",
      "metadata": {
        "id": "533yYtVCToir"
      },
      "source": [
        "# Boxplot"
      ]
    },
    {
      "cell_type": "code",
      "metadata": {
        "colab": {
          "base_uri": "https://localhost:8080/",
          "height": 483
        },
        "id": "A8iMRBY5Tljd",
        "outputId": "6ecc070a-040a-4883-e940-63ca7d402e6e"
      },
      "source": [
        "ax = (state['Population']/1_000_000).plot.box(figsize=(6, 8))\n",
        "ax.set_ylabel('Población (millones)')\n",
        "plt.show()"
      ],
      "execution_count": 16,
      "outputs": [
        {
          "output_type": "display_data",
          "data": {
            "image/png": "[encoded data removed]",
            "text/plain": [
              "<Figure size 432x576 with 1 Axes>"
            ]
          },
          "metadata": {
            "tags": [],
            "needs_background": "light"
          }
        }
      ]
    },
    {
      "cell_type": "markdown",
      "metadata": {
        "id": "uU-TT5JwUit1"
      },
      "source": [
        "# Tabla de frecuencia"
      ]
    },
    {
      "cell_type": "code",
      "metadata": {
        "colab": {
          "base_uri": "https://localhost:8080/"
        },
        "id": "4dO40EMqUFYH",
        "outputId": "24de1263-9fe0-43ab-b75a-e0f59f33177c"
      },
      "source": [
        "binnedPopulation = pd.cut(state['Population'], 10)\n",
        "binnedPopulation.value_counts()"
      ],
      "execution_count": 17,
      "outputs": [
        {
          "output_type": "execute_result",
          "data": {
            "text/plain": [
              "(526935.67, 4232659.0]      24\n",
              "(4232659.0, 7901692.0]      14\n",
              "(7901692.0, 11570725.0]      6\n",
              "(11570725.0, 15239758.0]     2\n",
              "(33584923.0, 37253956.0]     1\n",
              "(22577824.0, 26246857.0]     1\n",
              "(18908791.0, 22577824.0]     1\n",
              "(15239758.0, 18908791.0]     1\n",
              "(29915890.0, 33584923.0]     0\n",
              "(26246857.0, 29915890.0]     0\n",
              "Name: Population, dtype: int64"
            ]
          },
          "metadata": {
            "tags": []
          },
          "execution_count": 17
        }
      ]
    },
    {
      "cell_type": "code",
      "metadata": {
        "colab": {
          "base_uri": "https://localhost:8080/",
          "height": 359
        },
        "id": "RSwvU85hVFJs",
        "outputId": "3f358eac-648c-4100-daa5-750ccf9f3b9f"
      },
      "source": [
        "binnedPopulation.name = 'binnedPopulation'\n",
        "df = pd.concat([state, binnedPopulation], axis=1)\n",
        "df = df.sort_values(by='Population')\n",
        "\n",
        "groups = []\n",
        "for group, subset in df.groupby(by='binnedPopulation'):\n",
        "  groups.append({\n",
        "      'BinRange': group,\n",
        "      'Count': len(subset),\n",
        "      'States': ' '.join(subset['Abbreviation'])\n",
        "  })\n",
        "pd.DataFrame(groups)"
      ],
      "execution_count": 22,
      "outputs": [
        {
          "output_type": "execute_result",
          "data": {
            "text/html": [
              "<div>\n",
              "<style scoped>\n",
              "    .dataframe tbody tr th:only-of-type {\n",
              "        vertical-align: middle;\n",
              "    }\n",
              "\n",
              "    .dataframe tbody tr th {\n",
              "        vertical-align: top;\n",
              "    }\n",
              "\n",
              "    .dataframe thead th {\n",
              "        text-align: right;\n",
              "    }\n",
              "</style>\n",
              "<table border=\"1\" class=\"dataframe\">\n",
              "  <thead>\n",
              "    <tr style=\"text-align: right;\">\n",
              "      <th></th>\n",
              "      <th>BinRange</th>\n",
              "      <th>Count</th>\n",
              "      <th>States</th>\n",
              "    </tr>\n",
              "  </thead>\n",
              "  <tbody>\n",
              "    <tr>\n",
              "      <th>0</th>\n",
              "      <td>(526935.67, 4232659.0]</td>\n",
              "      <td>24</td>\n",
              "      <td>WY VT ND AK SD DE MT RI NH ME HI ID NE WV NM N...</td>\n",
              "    </tr>\n",
              "    <tr>\n",
              "      <th>1</th>\n",
              "      <td>(4232659.0, 7901692.0]</td>\n",
              "      <td>14</td>\n",
              "      <td>KY LA SC AL CO MN WI MD MO TN AZ IN MA WA</td>\n",
              "    </tr>\n",
              "    <tr>\n",
              "      <th>2</th>\n",
              "      <td>(7901692.0, 11570725.0]</td>\n",
              "      <td>6</td>\n",
              "      <td>VA NJ NC GA MI OH</td>\n",
              "    </tr>\n",
              "    <tr>\n",
              "      <th>3</th>\n",
              "      <td>(11570725.0, 15239758.0]</td>\n",
              "      <td>2</td>\n",
              "      <td>PA IL</td>\n",
              "    </tr>\n",
              "    <tr>\n",
              "      <th>4</th>\n",
              "      <td>(15239758.0, 18908791.0]</td>\n",
              "      <td>1</td>\n",
              "      <td>FL</td>\n",
              "    </tr>\n",
              "    <tr>\n",
              "      <th>5</th>\n",
              "      <td>(18908791.0, 22577824.0]</td>\n",
              "      <td>1</td>\n",
              "      <td>NY</td>\n",
              "    </tr>\n",
              "    <tr>\n",
              "      <th>6</th>\n",
              "      <td>(22577824.0, 26246857.0]</td>\n",
              "      <td>1</td>\n",
              "      <td>TX</td>\n",
              "    </tr>\n",
              "    <tr>\n",
              "      <th>7</th>\n",
              "      <td>(26246857.0, 29915890.0]</td>\n",
              "      <td>0</td>\n",
              "      <td></td>\n",
              "    </tr>\n",
              "    <tr>\n",
              "      <th>8</th>\n",
              "      <td>(29915890.0, 33584923.0]</td>\n",
              "      <td>0</td>\n",
              "      <td></td>\n",
              "    </tr>\n",
              "    <tr>\n",
              "      <th>9</th>\n",
              "      <td>(33584923.0, 37253956.0]</td>\n",
              "      <td>1</td>\n",
              "      <td>CA</td>\n",
              "    </tr>\n",
              "  </tbody>\n",
              "</table>\n",
              "</div>"
            ],
            "text/plain": [
              "                   BinRange  ...                                             States\n",
              "0    (526935.67, 4232659.0]  ...  WY VT ND AK SD DE MT RI NH ME HI ID NE WV NM N...\n",
              "1    (4232659.0, 7901692.0]  ...          KY LA SC AL CO MN WI MD MO TN AZ IN MA WA\n",
              "2   (7901692.0, 11570725.0]  ...                                  VA NJ NC GA MI OH\n",
              "3  (11570725.0, 15239758.0]  ...                                              PA IL\n",
              "4  (15239758.0, 18908791.0]  ...                                                 FL\n",
              "5  (18908791.0, 22577824.0]  ...                                                 NY\n",
              "6  (22577824.0, 26246857.0]  ...                                                 TX\n",
              "7  (26246857.0, 29915890.0]  ...                                                   \n",
              "8  (29915890.0, 33584923.0]  ...                                                   \n",
              "9  (33584923.0, 37253956.0]  ...                                                 CA\n",
              "\n",
              "[10 rows x 3 columns]"
            ]
          },
          "metadata": {
            "tags": []
          },
          "execution_count": 22
        }
      ]
    },
    {
      "cell_type": "markdown",
      "metadata": {
        "id": "gRu516SrXolf"
      },
      "source": [
        "# Histograms"
      ]
    },
    {
      "cell_type": "code",
      "metadata": {
        "colab": {
          "base_uri": "https://localhost:8080/",
          "height": 389
        },
        "id": "Zy3nNrhGXUaz",
        "outputId": "46ea268d-cf07-4bfa-d30a-a921677dce5e"
      },
      "source": [
        "ax = (state['Population']/1_000_000).plot.hist(figsize=(6, 6))\n",
        "ax.set_xlabel('Población (millones)')\n",
        "plt.show()"
      ],
      "execution_count": 23,
      "outputs": [
        {
          "output_type": "display_data",
          "data": {
            "image/png": "[encoded data removed]",
            "text/plain": [
              "<Figure size 432x432 with 1 Axes>"
            ]
          },
          "metadata": {
            "tags": [],
            "needs_background": "light"
          }
        }
      ]
    },
    {
      "cell_type": "markdown",
      "metadata": {
        "id": "AiwU2OFjaUlE"
      },
      "source": [
        "# Densidad"
      ]
    },
    {
      "cell_type": "code",
      "metadata": {
        "colab": {
          "base_uri": "https://localhost:8080/",
          "height": 388
        },
        "id": "sLHdGazHaDu3",
        "outputId": "44586ae6-9baf-41d9-8132-07e26ca95988"
      },
      "source": [
        "ax = state['Murder.Rate'].plot.hist(density=True, xlim=[0, 12],\n",
        "                                    bins=range(1, 12), figsize=(6, 6))\n",
        "state['Murder.Rate'].plot.density(ax=ax)\n",
        "ax.set_xlabel('Murder Rate (por cada 100000)')\n",
        "plt.show()"
      ],
      "execution_count": 32,
      "outputs": [
        {
          "output_type": "display_data",
          "data": {
            "image/png": "[encoded data removed]",
            "text/plain": [
              "<Figure size 432x432 with 1 Axes>"
            ]
          },
          "metadata": {
            "tags": [],
            "needs_background": "light"
          }
        }
      ]
    },
    {
      "cell_type": "code",
      "metadata": {
        "colab": {
          "base_uri": "https://localhost:8080/"
        },
        "id": "x0sQXGQia8Nz",
        "outputId": "e90bb594-e745-4800-8961-ff9c67805fd1"
      },
      "source": [
        "list(range(1, 12))"
      ],
      "execution_count": 28,
      "outputs": [
        {
          "output_type": "execute_result",
          "data": {
            "text/plain": [
              "[1, 2, 3, 4, 5, 6, 7, 8, 9, 10, 11]"
            ]
          },
          "metadata": {
            "tags": []
          },
          "execution_count": 28
        }
      ]
    },
    {
      "cell_type": "markdown",
      "metadata": {
        "id": "Y43ymxdbe9eM"
      },
      "source": [
        "# Actividad grupal\n",
        "\n",
        "1. Elabore una tabla de frecuencia por Murder.Rate\n",
        "1. Un histograma por Murder.Rate\n",
        "1. Densidad por población"
      ]
    },
    {
      "cell_type": "code",
      "metadata": {
        "id": "nsAL_sF5fTAX"
      },
      "source": [
        ""
      ],
      "execution_count": null,
      "outputs": []
    }
  ]
}